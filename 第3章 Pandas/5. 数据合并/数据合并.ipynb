{
 "cells": [
  {
   "cell_type": "markdown",
   "metadata": {},
   "source": [
    "# 数据合并"
   ]
  },
  {
   "cell_type": "code",
   "execution_count": null,
   "metadata": {},
   "outputs": [],
   "source": [
    "import pandas as pd"
   ]
  },
  {
   "cell_type": "markdown",
   "metadata": {},
   "source": [
    "## 连接"
   ]
  },
  {
   "cell_type": "markdown",
   "metadata": {},
   "source": [
    "有时候需要将两个数据集根据**一个或多个键**进行连接。"
   ]
  },
  {
   "cell_type": "code",
   "execution_count": null,
   "metadata": {},
   "outputs": [],
   "source": [
    "df_sales = pd.read_csv('data/sales.csv')\n",
    "df_sales"
   ]
  },
  {
   "cell_type": "code",
   "execution_count": null,
   "metadata": {},
   "outputs": [],
   "source": [
    "df_inventory = pd.read_csv('data/inventory.csv')\n",
    "df_inventory"
   ]
  },
  {
   "cell_type": "markdown",
   "metadata": {},
   "source": [
    "`sales.csv`和`inventory.csv`拥有相同的列名（`商品`），两个数据集中有相同的数据，也有不同数据。"
   ]
  },
  {
   "cell_type": "markdown",
   "metadata": {},
   "source": [
    "`pd.merge()`用于连接两个数据集，返回一个新的数据集。\n",
    "\n",
    "| 参数 | 说明 |\n",
    "| --- | --- |\n",
    "| left | 左侧数据集 |\n",
    "| right | 右侧数据集 |\n",
    "| how | 连接方式：`inner`（默认）、`left`、`right`、`outer` |\n",
    "| on | 指定连接键 |\n",
    "| suffixes | 设置重叠列的索引名后缀，默认`('x', 'y')` |\n",
    "\n",
    "`how`参数的四种连接方式：\n",
    "\n",
    "- `inner`：交集（默认）\n",
    "- `left`：以左侧数据集为基础，连接右侧数据集，无法匹配使用`NaN`填充\n",
    "- `right`：以右侧数据集为基础，连接左侧数据集，无法匹配使用`NaN`填充\n",
    "- `outer`：并集，无法匹配使用`NaN`填充"
   ]
  },
  {
   "cell_type": "markdown",
   "metadata": {},
   "source": [
    "![](./img/merge.png)"
   ]
  },
  {
   "cell_type": "code",
   "execution_count": null,
   "metadata": {},
   "outputs": [],
   "source": [
    "pd.merge(df_sales, df_inventory)"
   ]
  },
  {
   "cell_type": "code",
   "execution_count": null,
   "metadata": {},
   "outputs": [],
   "source": [
    "pd.merge(df_sales, df_inventory, how='left')"
   ]
  },
  {
   "cell_type": "code",
   "execution_count": null,
   "metadata": {},
   "outputs": [],
   "source": [
    "pd.merge(df_sales, df_inventory, how='right')"
   ]
  },
  {
   "cell_type": "code",
   "execution_count": null,
   "metadata": {},
   "outputs": [],
   "source": [
    "pd.merge(df_sales, df_inventory, how='outer')"
   ]
  },
  {
   "cell_type": "markdown",
   "metadata": {},
   "source": [
    "【例】以`outer`方式合并`students.csv`和`scores.csv`的数据，并将缺失成绩设置为`0`分"
   ]
  },
  {
   "cell_type": "code",
   "execution_count": null,
   "metadata": {},
   "outputs": [],
   "source": [
    "df_students = pd.read_csv('data/students.csv')\n",
    "df_students"
   ]
  },
  {
   "cell_type": "code",
   "execution_count": null,
   "metadata": {},
   "outputs": [],
   "source": [
    "df_scores = pd.read_csv('data/scores.csv')\n",
    "df_scores"
   ]
  },
  {
   "cell_type": "code",
   "execution_count": null,
   "metadata": {},
   "outputs": [],
   "source": [
    "df = pd.merge(df_students, df_scores, how='outer')\n",
    "df"
   ]
  },
  {
   "cell_type": "code",
   "execution_count": null,
   "metadata": {},
   "outputs": [],
   "source": [
    "df['成绩'].fillna(value=0, inplace=True)\n",
    "df"
   ]
  }
 ],
 "metadata": {
  "kernelspec": {
   "display_name": "Python 3",
   "language": "python",
   "name": "python3"
  },
  "language_info": {
   "codemirror_mode": {
    "name": "ipython",
    "version": 3
   },
   "file_extension": ".py",
   "mimetype": "text/x-python",
   "name": "python",
   "nbconvert_exporter": "python",
   "pygments_lexer": "ipython3",
   "version": "3.11.4"
  }
 },
 "nbformat": 4,
 "nbformat_minor": 2
}
