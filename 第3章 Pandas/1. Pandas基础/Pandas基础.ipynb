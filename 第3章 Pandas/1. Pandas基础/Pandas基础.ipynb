{
 "cells": [
  {
   "cell_type": "markdown",
   "metadata": {},
   "source": [
    "# Pandas基础"
   ]
  },
  {
   "cell_type": "markdown",
   "metadata": {},
   "source": [
    "## 简介"
   ]
  },
  {
   "cell_type": "markdown",
   "metadata": {},
   "source": [
    "`Pandas`最初是为了弥补Python在科学计算上速度慢和资源消耗大的缺点。随着不断的发展，`Pandas`越来越成熟和稳定，已经成为了Python在科学计算中的重要模块之一，广泛的应用于数据分析、机器学习和深度学习等领域。\n",
    "\n",
    "`Pandas`是在`NumPy`的基础上进行开发的，因此`Pandas`采用了大量的`NumPy`编码风格，但它在性能上要优于`NumPy`。\n",
    "\n",
    "`NumPy`比较适合处理统一的数值数组数据，而`Pandas`更加专门用来处理表格和混杂数据。\n",
    "\n",
    "`Pandas`主要包含了两个数据结构：\n",
    "\n",
    "1. 一维数组（Series）\n",
    "\n",
    "2. 二维数组（DataFrame）"
   ]
  },
  {
   "cell_type": "code",
   "execution_count": null,
   "metadata": {},
   "outputs": [],
   "source": [
    "!pip install pandas\n",
    "!pip install openpyxl"
   ]
  },
  {
   "cell_type": "markdown",
   "metadata": {},
   "source": [
    "导入`pandas`模块，设置别名为`pd`。注意不要修改为别的名字，`pd`已经成为了约定俗成的规范。"
   ]
  },
  {
   "cell_type": "code",
   "execution_count": null,
   "metadata": {},
   "outputs": [],
   "source": [
    "import pandas as pd"
   ]
  },
  {
   "cell_type": "markdown",
   "metadata": {},
   "source": [
    "## 特点"
   ]
  },
  {
   "cell_type": "markdown",
   "metadata": {},
   "source": [
    "`Pandas`的创始人Wes McKinney总结了它的9个特性：\n",
    "\n",
    "1. 对表格类型数据的读取和输出速度非常快\n",
    "\n",
    "2. 时间序列处理\n",
    "\n",
    "3. 数据队列\n",
    "\n",
    "4. 处理缺失数据\n",
    "\n",
    "5. 分组运算\n",
    "\n",
    "6. 分级索引\n",
    "\n",
    "7. 数据的合并和加入\n",
    "\n",
    "8. 数据透视表\n",
    "\n",
    "9. 数据归纳和分析"
   ]
  },
  {
   "cell_type": "markdown",
   "metadata": {},
   "source": [
    "## 读取数据"
   ]
  },
  {
   "cell_type": "markdown",
   "metadata": {},
   "source": [
    "### 读取Excel文件"
   ]
  },
  {
   "cell_type": "code",
   "execution_count": null,
   "metadata": {},
   "outputs": [],
   "source": [
    "data = pd.read_excel('data/sales.xlsx')\n",
    "data"
   ]
  },
  {
   "cell_type": "markdown",
   "metadata": {},
   "source": [
    "数据分析领域一般都会使用CSV文件来保存数据，而不是Excel。\n",
    "\n",
    "原因如下：\n",
    "\n",
    "1. CSV是纯文本文件，它可以更容易地使用编程语言读写\n",
    "\n",
    "2. CSV文件比Excel更小、更高效，因为它只有数据，没有格式\n",
    "\n",
    "3. Excel需要安装办公软件（如Office）才能打开，而CSV使用任何文本编辑器即可打开\n",
    "\n",
    "4. CSV更适合版本控制"
   ]
  },
  {
   "cell_type": "markdown",
   "metadata": {},
   "source": [
    "### 读取CSV文件"
   ]
  },
  {
   "cell_type": "markdown",
   "metadata": {},
   "source": [
    "`pd.read_csv()`用于读取CSV文件，该函数有四五十个参数。\n",
    "\n",
    "以下列举几个常用的参数：\n",
    "\n",
    "| 参数 | 说明 |\n",
    "| --- | --- |\n",
    "| filepath_or_buffer | 文件路径或URL |\n",
    "| sep | 分隔符，默认为`,` |\n",
    "| header | 指定第几行为表头，默认为`0` |\n",
    "| names | 指定列名 |\n",
    "| nrows | 指定读取多少行数据 |\n",
    "| skiprows | 指定忽略哪些行 |\n",
    "| encoding | 字符集类型，默认为`utf-8` |\n",
    "| engine | 数据分析引擎，默认为`c`，`c`引擎虽然快，但是`python`引擎功能更多 |\n",
    "| na_filter | 是否检查缺失值 |"
   ]
  },
  {
   "cell_type": "markdown",
   "metadata": {},
   "source": [
    "可以从本地的文件中读取："
   ]
  },
  {
   "cell_type": "code",
   "execution_count": null,
   "metadata": {},
   "outputs": [],
   "source": [
    "data = pd.read_csv('data/sales.csv')\n",
    "data"
   ]
  },
  {
   "cell_type": "markdown",
   "metadata": {},
   "source": [
    "也可以从URL中读取："
   ]
  },
  {
   "cell_type": "code",
   "execution_count": null,
   "metadata": {},
   "outputs": [],
   "source": [
    "data = pd.read_csv('https://raw.githubusercontent.com/CSSEGISandData/COVID-19/master/csse_covid_19_data/csse_covid_19_time_series/time_series_covid19_confirmed_global.csv')\n",
    "data"
   ]
  },
  {
   "cell_type": "markdown",
   "metadata": {},
   "source": [
    "`header`参数指定某一行为表头。"
   ]
  },
  {
   "cell_type": "code",
   "execution_count": null,
   "metadata": {},
   "outputs": [],
   "source": [
    "data = pd.read_csv('data/sales.csv', header=3)\n",
    "data"
   ]
  },
  {
   "cell_type": "markdown",
   "metadata": {},
   "source": [
    "由于`pd.read_csv()`会默认将读取到的第1行内容作为列名。因此在这种情况下，为了避免让第3行变成列名，需要使用`names`参数设置列名。"
   ]
  },
  {
   "cell_type": "code",
   "execution_count": null,
   "metadata": {},
   "outputs": [],
   "source": [
    "data = pd.read_csv('data/sales.csv', header=3, names=['日期', '商品', '类别', '数量', '单价', '总销售额'])\n",
    "data"
   ]
  },
  {
   "cell_type": "markdown",
   "metadata": {},
   "source": [
    "对于一些本身就没有列名的数据文件，可以将`header`参数设置为`None`，并手动设置`names`参数。"
   ]
  },
  {
   "cell_type": "code",
   "execution_count": null,
   "metadata": {},
   "outputs": [],
   "source": [
    "data = pd.read_csv('data/sales_no_header.csv', header=None, names=['日期', '商品', '类别', '数量', '单价', '总销售额'])\n",
    "data"
   ]
  },
  {
   "cell_type": "markdown",
   "metadata": {},
   "source": [
    "`nrows`参数用于指定读取多少行数据。"
   ]
  },
  {
   "cell_type": "code",
   "execution_count": null,
   "metadata": {},
   "outputs": [],
   "source": [
    "data = pd.read_csv('data/sales.csv', nrows=4)\n",
    "data"
   ]
  },
  {
   "cell_type": "markdown",
   "metadata": {},
   "source": [
    "`skiprows`参数用于指定忽略哪些行。"
   ]
  },
  {
   "cell_type": "code",
   "execution_count": null,
   "metadata": {},
   "outputs": [],
   "source": [
    "data = pd.read_csv('data/sales.csv', skiprows=[1, 3, 4])\n",
    "data"
   ]
  },
  {
   "cell_type": "markdown",
   "metadata": {},
   "source": [
    "当数据集中含有缺失值的时候，读取后默认为`NaN (Not a Number)`，有时候也称`NA (Not Available)`。"
   ]
  },
  {
   "cell_type": "code",
   "execution_count": null,
   "metadata": {},
   "outputs": [],
   "source": [
    "data = pd.read_csv('data/sales_na.csv')\n",
    "data"
   ]
  }
 ],
 "metadata": {
  "kernelspec": {
   "display_name": "Python 3",
   "language": "python",
   "name": "python3"
  },
  "language_info": {
   "codemirror_mode": {
    "name": "ipython",
    "version": 3
   },
   "file_extension": ".py",
   "mimetype": "text/x-python",
   "name": "python",
   "nbconvert_exporter": "python",
   "pygments_lexer": "ipython3",
   "version": "3.11.4"
  }
 },
 "nbformat": 4,
 "nbformat_minor": 2
}
