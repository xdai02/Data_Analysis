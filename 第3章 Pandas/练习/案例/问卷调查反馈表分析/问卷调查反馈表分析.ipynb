{
 "cells": [
  {
   "cell_type": "markdown",
   "metadata": {},
   "source": [
    "# 问卷调查反馈表分析"
   ]
  },
  {
   "cell_type": "markdown",
   "metadata": {},
   "source": [
    "`studentsInfo.xlsx`文件中有`5`张表，保存了`50`名学生问卷抽样调查的结果。"
   ]
  },
  {
   "cell_type": "markdown",
   "metadata": {},
   "source": [
    "## 研究问题"
   ]
  },
  {
   "cell_type": "markdown",
   "metadata": {},
   "source": [
    "1. 男生、女生对`数据科学`课程的兴趣程序和成绩的变化趋势\n",
    "\n",
    "2. 学生来自的省份及性别于成绩是否存在关系\n",
    "\n",
    "3. 学生身高、体重达标状况"
   ]
  },
  {
   "cell_type": "markdown",
   "metadata": {},
   "source": [
    "## 导入库"
   ]
  },
  {
   "cell_type": "code",
   "execution_count": null,
   "metadata": {},
   "outputs": [],
   "source": [
    "import pandas as pd\n",
    "import numpy as np"
   ]
  },
  {
   "cell_type": "markdown",
   "metadata": {},
   "source": [
    "## 读取数据"
   ]
  },
  {
   "cell_type": "code",
   "execution_count": null,
   "metadata": {},
   "outputs": [],
   "source": [
    "df1 = pd.read_excel('studentsInfo.xlsx', sheet_name='Group1', index_col=0)\n",
    "df1"
   ]
  },
  {
   "cell_type": "markdown",
   "metadata": {},
   "source": [
    "由于表中的第`0`列已经有`序号`了，这里`index_col=0`表示将第`0`列作为行索引。"
   ]
  },
  {
   "cell_type": "markdown",
   "metadata": {},
   "source": [
    "继续读取剩下的表："
   ]
  },
  {
   "cell_type": "code",
   "execution_count": null,
   "metadata": {},
   "outputs": [],
   "source": [
    "df2 = pd.read_excel('studentsInfo.xlsx', sheet_name='Group2', index_col=0)\n",
    "df3 = pd.read_excel('studentsInfo.xlsx', sheet_name='Group3', index_col=0)\n",
    "df4 = pd.read_excel('studentsInfo.xlsx', sheet_name='Group4', index_col=0)\n",
    "df5 = pd.read_excel('studentsInfo.xlsx', sheet_name='Group5', index_col=0)"
   ]
  },
  {
   "cell_type": "markdown",
   "metadata": {},
   "source": [
    "合并成一张表："
   ]
  },
  {
   "cell_type": "code",
   "execution_count": null,
   "metadata": {},
   "outputs": [],
   "source": [
    "stu = pd.concat([df1, df2, df3, df4, df5], axis=0)\n",
    "stu"
   ]
  },
  {
   "cell_type": "markdown",
   "metadata": {},
   "source": [
    "读取多张表可以写成循环："
   ]
  },
  {
   "cell_type": "code",
   "execution_count": null,
   "metadata": {},
   "outputs": [],
   "source": [
    "df_all = [\n",
    "    pd.read_excel('studentsInfo.xlsx', sheet_name=f'Group{i}', index_col=0)\n",
    "    for i in range(1, 6)\n",
    "]\n",
    "\n",
    "stu = pd.concat(df_all, axis=0)\n",
    "stu"
   ]
  },
  {
   "cell_type": "code",
   "execution_count": null,
   "metadata": {},
   "outputs": [],
   "source": [
    "stu.shape"
   ]
  },
  {
   "cell_type": "markdown",
   "metadata": {},
   "source": [
    "## 数据清洗"
   ]
  },
  {
   "cell_type": "markdown",
   "metadata": {},
   "source": [
    "去除重复数据："
   ]
  },
  {
   "cell_type": "code",
   "execution_count": null,
   "metadata": {},
   "outputs": [],
   "source": [
    "stu.drop_duplicates(inplace=True)\n",
    "stu.shape"
   ]
  },
  {
   "cell_type": "markdown",
   "metadata": {},
   "source": [
    "去除缺失值过多（$ \\ge 2 $）的行："
   ]
  },
  {
   "cell_type": "code",
   "execution_count": null,
   "metadata": {},
   "outputs": [],
   "source": [
    "stu.dropna(thresh=8, inplace=True)\n",
    "stu.shape"
   ]
  },
  {
   "cell_type": "markdown",
   "metadata": {},
   "source": [
    "检测数据中是否存在`NaN`："
   ]
  },
  {
   "cell_type": "code",
   "execution_count": null,
   "metadata": {},
   "outputs": [],
   "source": [
    "stu.isnull().any()"
   ]
  },
  {
   "cell_type": "markdown",
   "metadata": {},
   "source": [
    "`年龄`和`成绩`列存在缺失值。\n",
    "\n",
    "`成绩`可以按照平均分填充。\n",
    "\n",
    "由于接受调查的都为大二学生，所以`年龄`可以都使用`20`填充。"
   ]
  },
  {
   "cell_type": "code",
   "execution_count": null,
   "metadata": {},
   "outputs": [],
   "source": [
    "stu.fillna({\n",
    "    '成绩': stu['成绩'].mean(),\n",
    "    '年龄': 20\n",
    "}, inplace=True)\n",
    "\n",
    "stu.isnull().any()"
   ]
  },
  {
   "cell_type": "markdown",
   "metadata": {},
   "source": [
    "数据清洗完成，此时已经没有缺失值了。"
   ]
  },
  {
   "cell_type": "markdown",
   "metadata": {},
   "source": [
    "### 数据分析"
   ]
  },
  {
   "cell_type": "markdown",
   "metadata": {},
   "source": [
    "#### 分析成绩与课程兴趣的关系"
   ]
  },
  {
   "cell_type": "markdown",
   "metadata": {},
   "source": [
    "将学生按照`成绩`排序，统计成绩`优秀（大于或等于90分）`和`不及格（小于60分）`的学生**个数**。"
   ]
  },
  {
   "cell_type": "code",
   "execution_count": null,
   "metadata": {},
   "outputs": [],
   "source": [
    "stu_grade = stu.sort_values(by='成绩', ascending=False)\n",
    "stu_grade"
   ]
  },
  {
   "cell_type": "code",
   "execution_count": null,
   "metadata": {},
   "outputs": [],
   "source": [
    "excellent = (stu_grade['成绩'] >= 90).sum()\n",
    "excellent"
   ]
  },
  {
   "cell_type": "code",
   "execution_count": null,
   "metadata": {},
   "outputs": [],
   "source": [
    "fail = (stu_grade['成绩'] < 60).sum()\n",
    "fail"
   ]
  },
  {
   "cell_type": "markdown",
   "metadata": {},
   "source": [
    "分别计算成绩`优秀`与`不及格`的学生`平均课程兴趣`程度。"
   ]
  },
  {
   "cell_type": "code",
   "execution_count": null,
   "metadata": {},
   "outputs": [],
   "source": [
    "excellent_mean = stu_grade[:excellent]['课程兴趣'].mean()\n",
    "excellent_mean"
   ]
  },
  {
   "cell_type": "code",
   "execution_count": null,
   "metadata": {},
   "outputs": [],
   "source": [
    "fail_mean = stu_grade[-fail:]['课程兴趣'].mean()\n",
    "fail_mean"
   ]
  },
  {
   "cell_type": "markdown",
   "metadata": {},
   "source": [
    "计算**全体**学生成绩的`平均分`与`平均课程兴趣`。"
   ]
  },
  {
   "cell_type": "code",
   "execution_count": null,
   "metadata": {},
   "outputs": [],
   "source": [
    "total_mean = stu_grade[['成绩', '课程兴趣']].mean()\n",
    "total_mean"
   ]
  },
  {
   "cell_type": "markdown",
   "metadata": {},
   "source": [
    "查看`成绩`与`课程兴趣`是否有相关性："
   ]
  },
  {
   "cell_type": "code",
   "execution_count": null,
   "metadata": {},
   "outputs": [],
   "source": [
    "stu_grade['成绩'].corr(stu_grade['课程兴趣'])"
   ]
  },
  {
   "cell_type": "markdown",
   "metadata": {},
   "source": [
    "#### 分析性别、省份与成绩的相关性"
   ]
  },
  {
   "cell_type": "markdown",
   "metadata": {},
   "source": [
    "分析`性别`、`省份`与`成绩`是否存在相关性，由于`性别`和`省份`数据均为字符型数据，无法用`corr()`来计算，可以通过分组计算均值。"
   ]
  },
  {
   "cell_type": "markdown",
   "metadata": {},
   "source": [
    "先根据`性别`进行分组，可以发现男、女学生各`24`名。"
   ]
  },
  {
   "cell_type": "code",
   "execution_count": null,
   "metadata": {},
   "outputs": [],
   "source": [
    "sex_grouped = stu.groupby(['性别'])\n",
    "sex_counts = sex_grouped.count()\n",
    "sex_counts"
   ]
  },
  {
   "cell_type": "markdown",
   "metadata": {},
   "source": [
    "计算男、女学生的`平均成绩`："
   ]
  },
  {
   "cell_type": "code",
   "execution_count": null,
   "metadata": {},
   "outputs": [],
   "source": [
    "sex_mean = sex_grouped.aggregate({'成绩': np.mean})\n",
    "sex_mean"
   ]
  },
  {
   "cell_type": "markdown",
   "metadata": {},
   "source": [
    "可以发现，男生平均成绩比女生略高。"
   ]
  },
  {
   "cell_type": "markdown",
   "metadata": {},
   "source": [
    "同样对`省份`进行分组："
   ]
  },
  {
   "cell_type": "code",
   "execution_count": null,
   "metadata": {},
   "outputs": [],
   "source": [
    "province_grouped = stu.groupby(['省份'])\n",
    "province_counts = province_grouped.count()\n",
    "province_counts"
   ]
  },
  {
   "cell_type": "markdown",
   "metadata": {},
   "source": [
    "计算不同`省份`学生的`平均成绩`："
   ]
  },
  {
   "cell_type": "code",
   "execution_count": null,
   "metadata": {},
   "outputs": [],
   "source": [
    "province_mean = province_grouped.aggregate({'成绩': np.mean})\n",
    "province_mean"
   ]
  },
  {
   "cell_type": "markdown",
   "metadata": {},
   "source": [
    "通过观察可以轻松发现，哪些省份的平均成绩更高。"
   ]
  },
  {
   "cell_type": "markdown",
   "metadata": {},
   "source": [
    "但是，由于分组的样本太少（每个省份只有1~3名学生），分析结果不具备统计学参考价值。"
   ]
  },
  {
   "cell_type": "markdown",
   "metadata": {},
   "source": [
    "#### 统计身高、体重达标状况"
   ]
  },
  {
   "cell_type": "markdown",
   "metadata": {},
   "source": [
    "计算学生的`BMI`：\n",
    "\n",
    "$$\n",
    "BMI = {\\text{Weight (kg)} \\over \\text{Height (m)}^2}\n",
    "$$\n",
    "\n",
    "中国BMI标准：\n",
    "\n",
    "| 分类 | 范围 |\n",
    "| --- | --- |\n",
    "| 偏轻 | $ < 18.5 $ |\n",
    "| 正常 | $ 18.5 \\sim 23.9 $ |\n",
    "| 偏胖 | $ 24 \\sim 27.9 $ |\n",
    "| 肥胖 | $ > 28 $ |"
   ]
  },
  {
   "cell_type": "code",
   "execution_count": null,
   "metadata": {},
   "outputs": [],
   "source": [
    "stu['BMI'] = stu['体重'] / np.square(stu['身高'] / 100)\n",
    "stu"
   ]
  },
  {
   "cell_type": "markdown",
   "metadata": {},
   "source": [
    "找出`BMI`四分位数："
   ]
  },
  {
   "cell_type": "code",
   "execution_count": null,
   "metadata": {},
   "outputs": [],
   "source": [
    "stu['BMI'].quantile([.25, .5, .75])"
   ]
  },
  {
   "cell_type": "markdown",
   "metadata": {},
   "source": [
    "统计`BMI >= 28`的人数："
   ]
  },
  {
   "cell_type": "code",
   "execution_count": null,
   "metadata": {},
   "outputs": [],
   "source": [
    "(stu['BMI'] >= 28).sum()"
   ]
  }
 ],
 "metadata": {
  "kernelspec": {
   "display_name": "Python 3",
   "language": "python",
   "name": "python3"
  },
  "language_info": {
   "codemirror_mode": {
    "name": "ipython",
    "version": 3
   },
   "file_extension": ".py",
   "mimetype": "text/x-python",
   "name": "python",
   "nbconvert_exporter": "python",
   "pygments_lexer": "ipython3",
   "version": "3.11.4"
  }
 },
 "nbformat": 4,
 "nbformat_minor": 2
}
