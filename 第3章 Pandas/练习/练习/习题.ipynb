{
 "cells": [
  {
   "cell_type": "markdown",
   "metadata": {},
   "source": [
    "# 习题"
   ]
  },
  {
   "cell_type": "markdown",
   "metadata": {},
   "source": [
    "## 选择题"
   ]
  },
  {
   "cell_type": "markdown",
   "metadata": {},
   "source": [
    "1. 甲、乙两人在跳远练习中的6次成绩分别为（单位：m）：\n",
    "\n",
    "甲：`3.8 3.8 3.9 3.9 4 4`\n",
    "\n",
    "乙：`3.8 3.9 3.9 3.9 3.9 4`\n",
    "\n",
    "则这次跳远练习中，甲、乙两人成绩方差的大小关系是（A）。\n",
    "\n",
    "A. $ S^2_{甲} > S^2_{乙} $\n",
    "\n",
    "B. $ S^2_{甲} < S^2_{乙} $\n",
    "\n",
    "c. $ S^2_{甲} = S^2_{乙} $\n",
    "\n",
    "D. 无法确定"
   ]
  },
  {
   "cell_type": "markdown",
   "metadata": {},
   "source": [
    "**【提示】**\n",
    "\n",
    "方差：\n",
    "\n",
    "$$\n",
    "    s^2 = {1 \\over {n-1}} \\sum_{i=1}^{n}{\\left(x_i - \\bar{x}\\right)}^2\n",
    "$$"
   ]
  },
  {
   "cell_type": "markdown",
   "metadata": {},
   "source": [
    "2. 数据按从小到大排序为`1, 2, 4, x, 6, 9`，这组数据的中位数为`5`，那么这组数据的众数是（C）。\n",
    "\n",
    "    A. 4\n",
    "\n",
    "    B. 5\n",
    "\n",
    "    C. 6\n",
    "\n",
    "    D. 9"
   ]
  },
  {
   "cell_type": "markdown",
   "metadata": {},
   "source": [
    "3. 某人做数据分析测得个人健康和年龄的相关系数是`-1.09`。根据这个系数可以得出的结论是（C）。\n",
    "\n",
    "    A. 年龄是健康程度很好的预测器\n",
    "\n",
    "    B. 年龄是健康程度很糟的预测器\n",
    "\n",
    "    C．这个相关系数有错误\n",
    "\n",
    "    D. 以上说法都不对"
   ]
  },
  {
   "cell_type": "markdown",
   "metadata": {},
   "source": [
    "4. 数据清洗的主要任务是检查原始数据中是否存在脏数据，脏数据不包括（A）。\n",
    "\n",
    "    A．普通值\n",
    "\n",
    "    B．异常值\n",
    "\n",
    "    c．不一致的值\n",
    "\n",
    "    D．重复值"
   ]
  },
  {
   "cell_type": "markdown",
   "metadata": {},
   "source": [
    "5. Python的（B）工具包设计了两种数据结构`Series`和`DataFrame`。\n",
    "\n",
    "    A. `NumPy`\n",
    "\n",
    "    B. `Pandas`\n",
    "\n",
    "    C. `Matplotlib`\n",
    "\n",
    "    D. `Scikit-learn`"
   ]
  },
  {
   "cell_type": "markdown",
   "metadata": {},
   "source": [
    "6. 关于`DataFrame`对象，说法错误的是（D）。\n",
    "\n",
    "    A．可以增加行或列\n",
    "\n",
    "    B．可以删除行或列\n",
    "\n",
    "    C．可以修改列索引\n",
    "\n",
    "    D．不能修改列索引"
   ]
  },
  {
   "cell_type": "markdown",
   "metadata": {},
   "source": [
    "7. 在对数据进行清洗时，（C）函数可以实现对缺失数据`NaN`的批量填充功能。\n",
    "\n",
    "    A. `dropna()`\n",
    "\n",
    "    B. `drop()`\n",
    "\n",
    "    C. `fillna()`\n",
    "\n",
    "    D. `fill()`"
   ]
  },
  {
   "cell_type": "markdown",
   "metadata": {},
   "source": [
    "8．相关性分析用于研究不同总体之间是否存在依存关系。关于相关系数`r`，说法错误的是（D）。\n",
    "\n",
    "A. `r`的值介于`-1`与`+1`之间\n",
    "\n",
    "B. `r=1`表示两个总体正相关\n",
    "\n",
    "C. `r=-1`表示两个总体负相关\n",
    "\n",
    "D. `|r|`越接近`1`，相关性越弱"
   ]
  },
  {
   "cell_type": "markdown",
   "metadata": {},
   "source": [
    "9. 在`Pandas`的统计函数中，返回基本统计量和分位数的函数是（D）。\n",
    "\n",
    "    A. `max()`\n",
    "\n",
    "    B. `var()`\n",
    "\n",
    "    C. `std()`\n",
    "\n",
    "    D. `describe()`"
   ]
  },
  {
   "cell_type": "markdown",
   "metadata": {},
   "source": [
    "10. 下列`loc`、`iloc`属性的用法正确的是（D）。\n",
    "\n",
    "A. `df.loc['列名', '索引名']; df.iloc['索引位置', '列位置']`\n",
    "\n",
    "B. `df.loc['索引名', '列名']; df.iloc['索引位置', '列名']`\n",
    "\n",
    "C. `df.loc['索引名', '列名']; df.iloc['索引位置', '列名']`\n",
    "\n",
    "D. `df.loc['索引名', '列名']; df.iloc['索引位置', '列位置']`\n"
   ]
  },
  {
   "cell_type": "markdown",
   "metadata": {},
   "source": [
    "11. 下列关于`groupby`方法的说法中正确的是（C）。\n",
    "\n",
    "    A. `groupby`方法能够实现分组聚合\n",
    "\n",
    "    B. `groupby`方法的结果能够直接查看\n",
    "\n",
    "    C. `groupby`方法是`Pandas`提供的一个用来分组的方法\n",
    "\n",
    "    D. `groupby`方法是`Pandas`提供的一个用来聚合的方法"
   ]
  },
  {
   "cell_type": "markdown",
   "metadata": {},
   "source": [
    "基于以下代码，完成选择题12~15。"
   ]
  },
  {
   "cell_type": "code",
   "execution_count": null,
   "metadata": {},
   "outputs": [],
   "source": [
    "import numpy as np\n",
    "import pandas as pd\n",
    "from pandas import DataFrame\n",
    "\n",
    "data = {\n",
    "    'animal': ['cat', 'cat', 'snake', 'dog', 'dog', 'cat', 'snake', 'cat', 'dog', 'dog'],\n",
    "    'age': [2.5, 3, 0.5, np.nan, 5, 2, 4.5, np.nan, 7, 3],\n",
    "    'visits': [1, 3, 2, 3, 2, 3, 1, 1, 2, 1],\n",
    "    'priority': ['yes', 'yes', 'no', 'yes', 'no', 'no', 'no', 'yes', 'no', 'no']\n",
    "}\n",
    "\n",
    "labels = ['a', 'b', 'c', 'd', 'e', 'f', 'g', 'h', 'i', 'j']\n",
    "\n",
    "df = DataFrame(data, index=labels)\n",
    "df"
   ]
  },
  {
   "cell_type": "markdown",
   "metadata": {},
   "source": [
    "12. 选择`visits > 2`的那些行并打印，使用的语句是（B）。\n",
    "\n",
    "    A. `print(df['visits'] > 2)`\n",
    "\n",
    "    B. `print(df[df['visits'] > 2] )`\n",
    "\n",
    "    C. `print(df.loc['visits'] > 2)`\n",
    "\n",
    "    D. `print(df.iloc['visits'] > 2)`"
   ]
  },
  {
   "cell_type": "markdown",
   "metadata": {},
   "source": [
    "13. 计算`df`对象中每个种类`animal`的数量，下面哪个方法不可行？（D）\n",
    "\n",
    "    A. `print(df['animal'].value_counts())`\n",
    "\n",
    "    B. `print(df.groupby('animal')['animal'].count())`\n",
    "\n",
    "    C. `print(df.groupby('animal').aggregate({'animal': np.count_nonzero}))`\n",
    "\n",
    "    D. `print(df.groupby('animal').aggregate({'animal': np.count}))`"
   ]
  },
  {
   "cell_type": "markdown",
   "metadata": {},
   "source": [
    "14. 以`animal`分类，求`age`的均值，下列方法正确的是（B）。\n",
    "\n",
    "    A. `print(df.groupby('animal')['age'].std())`\n",
    "\n",
    "    B. `print(df.groupby('animal').aggregate({'age': np.mean}))`\n",
    "\n",
    "    C. `print(df.groupby('animal').aggregate({'age': np.mean()}))`\n",
    "\n",
    "    D. `print(df.groupby('animal').aggregate({'age': np.std}))`"
   ]
  },
  {
   "cell_type": "markdown",
   "metadata": {},
   "source": [
    "15. 输出`age`列有空缺行的所有信息，使用的语句是（A）。\n",
    "\n",
    "    A. `print(df[df['age'].isnull()])`\n",
    "\n",
    "    B. `print(df['age'].isnull())`\n",
    "\n",
    "    C. `print(df.isnull().any())`\n",
    "\n",
    "    D. `print(df.isnull().any(axis=1))`"
   ]
  },
  {
   "cell_type": "markdown",
   "metadata": {},
   "source": [
    "16. `csv`文件是（A）。\n",
    "\n",
    "    A. 纯文本文件\n",
    "\n",
    "    B. 图片文件\n",
    "\n",
    "    c. 数学模型文件\n",
    "\n",
    "    D. 音频文件\n"
   ]
  },
  {
   "cell_type": "markdown",
   "metadata": {},
   "source": [
    "17. 以下可以去除`DataFrame`对象中重复行的是（B）。\n",
    "\n",
    "    A. `DataFrame.dropna()`\n",
    "\n",
    "    B. `DataFrame.drop_duplicates()`\n",
    "\n",
    "    C. `DataFrame.dropna(axis=0)`\n",
    "\n",
    "    D. `DataFrame.dropna(axis=1)`"
   ]
  },
  {
   "cell_type": "markdown",
   "metadata": {},
   "source": [
    "18. 以下函数可以计算众数的是（D）。\n",
    "\n",
    "    A. `df.mean()`\n",
    "\n",
    "    B. `df.median()`\n",
    "\n",
    "    C. `df.std()`\n",
    "\n",
    "    D. `df.mode()`"
   ]
  },
  {
   "cell_type": "markdown",
   "metadata": {},
   "source": [
    "19. 以下函数可以计算`a` 、`b` 、`c`的相关性的是（B）。\n",
    "\n",
    "    A. `df.a.corr(df.b.corr(df.c))`\n",
    "\n",
    "    B. `df[['a', 'c', 'b']].corr()`\n",
    "\n",
    "    C. `df.corr(a, b, c)`\n",
    "\n",
    "    D. `np.corr(df.a, df.b, df.c)`\n"
   ]
  },
  {
   "cell_type": "markdown",
   "metadata": {},
   "source": [
    "20. `dataframe.drop()`函数中（B）参数可以控制是否删除原有对象中的数据。\n",
    "\n",
    "    A. `axis`\n",
    "\n",
    "    B. `inplace`\n",
    "\n",
    "    C. `replace`\n",
    "\n",
    "    D. `alter`"
   ]
  },
  {
   "cell_type": "markdown",
   "metadata": {},
   "source": [
    "## 填空题"
   ]
  },
  {
   "cell_type": "markdown",
   "metadata": {},
   "source": [
    "1."
   ]
  },
  {
   "cell_type": "code",
   "execution_count": null,
   "metadata": {},
   "outputs": [],
   "source": [
    "import pandas as pd"
   ]
  },
  {
   "cell_type": "code",
   "execution_count": null,
   "metadata": {},
   "outputs": [],
   "source": [
    "df1 = pd.DataFrame({\n",
    "    'SID': [1001, 1001, 1002, 1003],\n",
    "    'class': ['Math', 'English', 'Python', 'AI'],\n",
    "    'score': [90, 85, 80, 78]\n",
    "}, index = [191, 191, 191, 191])\n",
    "\n",
    "df1"
   ]
  },
  {
   "cell_type": "code",
   "execution_count": null,
   "metadata": {},
   "outputs": [],
   "source": [
    "df2 = pd.DataFrame({\n",
    "    'SID': [1001, 1002, 1003, 1003],\n",
    "    'class': ['Python', 'Math', 'English', 'Physics'],\n",
    "    'score': [80, 82, 75, 92]\n",
    "}, index = [192, 192, 192, 192])\n",
    "\n",
    "df2"
   ]
  },
  {
   "cell_type": "code",
   "execution_count": null,
   "metadata": {},
   "outputs": [],
   "source": [
    "df3 = pd.DataFrame({\n",
    "    'SID': [1001, 1002, 1003, 1004],\n",
    "    'department': ['Chemistry', 'Mechanics', 'Computer', 'Computer']\n",
    "})\n",
    "\n",
    "df3"
   ]
  },
  {
   "cell_type": "code",
   "execution_count": null,
   "metadata": {},
   "outputs": [],
   "source": [
    "# df1和df2的索引不同，列名完全一样，把它们合并成新的DataFrame对象\n",
    "df = pd.concat([df1, df2])\n",
    "df"
   ]
  },
  {
   "cell_type": "code",
   "execution_count": null,
   "metadata": {},
   "outputs": [],
   "source": [
    "# 按学号对df排序，用更新方式\n",
    "df.sort_values(by='SID', inplace=True)\n",
    "df"
   ]
  },
  {
   "cell_type": "code",
   "execution_count": null,
   "metadata": {},
   "outputs": [],
   "source": [
    "# 用取并集的方式将df和df3按列SID进行合并\n",
    "# 显示每位学生的学号SID、院系department、课程class和分数score\n",
    "new = pd.merge(df, df3, left_on='SID', right_on='SID', how='outer')\n",
    "new"
   ]
  },
  {
   "cell_type": "markdown",
   "metadata": {},
   "source": [
    "2. 数据`1, x, 2, 5`的中位数是`3`，则x = 4。"
   ]
  },
  {
   "cell_type": "markdown",
   "metadata": {},
   "source": [
    "3. `percentlier = df.quantile([0, 0.25, 0.5, 0.75, 1], axis=0)`\n",
    "\n",
    "下四分位数Q1 = percentlier.iloc[1]；上四分位数Q3 = percentlier.iloc[3]。"
   ]
  },
  {
   "cell_type": "markdown",
   "metadata": {},
   "source": [
    "4. 若要降序排列，应该设置`sort_values()`函数的ascending参数为`False`。"
   ]
  },
  {
   "cell_type": "markdown",
   "metadata": {},
   "source": [
    "5. 以下两张表给出了4种食物每100g中蛋白质、脂肪和碳水化合物的含量的数值。"
   ]
  },
  {
   "cell_type": "markdown",
   "metadata": {},
   "source": [
    "| 食物 | 蛋白质 | 脂肪 | 碳水化合物 |\n",
    "| --- | --- | --- | --- |\n",
    "| 米饭 | 2.6 | 0.3 | 25 |\n",
    "| 牛肉 | 20.2 | NA | NA |"
   ]
  },
  {
   "cell_type": "markdown",
   "metadata": {},
   "source": [
    "| 食物 | 蛋白质 | 脂肪 | 碳水化合物 |\n",
    "| --- | --- | --- | --- |\n",
    "| 鸡蛋 | NA | 10.1 | 1.4 |\n",
    "| 牛奶 | 3 | 3.2 | 3.4 |"
   ]
  },
  {
   "cell_type": "code",
   "execution_count": null,
   "metadata": {},
   "outputs": [],
   "source": [
    "from pandas import DataFrame\n",
    "from numpy import nan as NA\n",
    "import pandas as pd"
   ]
  },
  {
   "cell_type": "code",
   "execution_count": null,
   "metadata": {},
   "outputs": [],
   "source": [
    "# 创建两个DataFrame对象\n",
    "data1 = [[2.6, 0.3, 25], [20.2, NA, NA]]\n",
    "df1 = DataFrame(data1, index = ['米饭', '牛肉'], columns = ['蛋白质', '脂肪', '碳水化合物'])\n",
    "df1"
   ]
  },
  {
   "cell_type": "code",
   "execution_count": null,
   "metadata": {},
   "outputs": [],
   "source": [
    "data2 = [[NA, 10.1, 1.4], [3, 3.2, 3.4]]\n",
    "df2 = DataFrame(data2, index = ['鸡蛋', '牛奶'], columns = ['蛋白质', '脂肪', '碳水化合物'])\n",
    "df2"
   ]
  },
  {
   "cell_type": "code",
   "execution_count": null,
   "metadata": {},
   "outputs": [],
   "source": [
    "# 将df2的内容与df1的内容合并\n",
    "df1 = pd.concat([df1, df2])\n",
    "df1"
   ]
  },
  {
   "cell_type": "code",
   "execution_count": null,
   "metadata": {},
   "outputs": [],
   "source": [
    "# 判断df1每列中是否存在空值，并打印输出判断结果(True或者False)\n",
    "is_NAN = df1.isnull().any()\n",
    "is_NAN"
   ]
  },
  {
   "cell_type": "code",
   "execution_count": null,
   "metadata": {},
   "outputs": [],
   "source": [
    "# 删除数据项的缺失数量（有空值）大于或等于2的行\n",
    "df3 = df1.dropna(thresh=2)\n",
    "df3"
   ]
  },
  {
   "cell_type": "code",
   "execution_count": null,
   "metadata": {},
   "outputs": [],
   "source": [
    "# 用列均值填充相应的缺失数据（原位修复）并打印输出修复后的数据\n",
    "df3.fillna({'蛋白质': df3['蛋白质'].mean()}, inplace=True)\n",
    "df3"
   ]
  },
  {
   "cell_type": "markdown",
   "metadata": {},
   "source": [
    "6. 将某地区连续5年10月份的气温情况保存为DataFrame对象："
   ]
  },
  {
   "cell_type": "markdown",
   "metadata": {},
   "source": [
    "| 年份 | 最高气温 | 最低气温 | 平均气温 |\n",
    "| --- | --- | --- | --- |\n",
    "| 2001年 | 33 | 18 | 25 |\n",
    "| 2002年 | 27 | 20 | 22 |\n",
    "| 2003年 | 25 | 20 | 24 |\n",
    "| 2004年 | 22 | 16 | 18 |\n",
    "| 2005年 | 28 | 15 | 20 |"
   ]
  },
  {
   "cell_type": "code",
   "execution_count": null,
   "metadata": {},
   "outputs": [],
   "source": [
    "import pandas as pd"
   ]
  },
  {
   "cell_type": "code",
   "execution_count": null,
   "metadata": {},
   "outputs": [],
   "source": [
    "# 创建DataFrame对象\n",
    "df = pd.DataFrame([\n",
    "        [33, 18, 25],\n",
    "        [27, 20, 22],\n",
    "        [25, 20, 24],\n",
    "        [22, 16, 18],\n",
    "        [28, 15, 20]\n",
    "    ],\n",
    "    index=['2001年', '2002年', '2003年', '2004年', '2005年'],\n",
    "    columns=['最高气温', '最低气温', '平均气温']\n",
    ")\n",
    "\n",
    "df"
   ]
  },
  {
   "cell_type": "code",
   "execution_count": null,
   "metadata": {},
   "outputs": [],
   "source": [
    "# 对3列数据进行描述统计，得到基本统计量和分位数\n",
    "df.describe()"
   ]
  },
  {
   "cell_type": "code",
   "execution_count": null,
   "metadata": {},
   "outputs": [],
   "source": [
    "# 输出平均气温最低的年份\n",
    "df['平均气温'].idxmin()"
   ]
  },
  {
   "cell_type": "code",
   "execution_count": null,
   "metadata": {},
   "outputs": [],
   "source": [
    "# 按照\"最高气温\"列的数据降序排列\n",
    "df2 = df.sort_values(by='最高气温', ascending=False)\n",
    "df2"
   ]
  }
 ],
 "metadata": {
  "kernelspec": {
   "display_name": "Python 3",
   "language": "python",
   "name": "python3"
  },
  "language_info": {
   "codemirror_mode": {
    "name": "ipython",
    "version": 3
   },
   "file_extension": ".py",
   "mimetype": "text/x-python",
   "name": "python",
   "nbconvert_exporter": "python",
   "pygments_lexer": "ipython3",
   "version": "3.11.4"
  }
 },
 "nbformat": 4,
 "nbformat_minor": 2
}
