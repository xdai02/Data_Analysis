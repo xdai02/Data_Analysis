{
 "cells": [
  {
   "cell_type": "markdown",
   "metadata": {},
   "source": [
    "# 统计"
   ]
  },
  {
   "cell_type": "code",
   "execution_count": null,
   "metadata": {},
   "outputs": [],
   "source": [
    "import pandas as pd"
   ]
  },
  {
   "cell_type": "markdown",
   "metadata": {},
   "source": [
    "## 分组"
   ]
  },
  {
   "cell_type": "markdown",
   "metadata": {},
   "source": [
    "有时候需要对数据依据某个类别进行分组，并根据分组后的数据进行分析。\n",
    "\n",
    "`groupby()`用于对数据进行分组，返回一个`groupby`对象。该对象并不能展示数据，需要通过后续操作才能看到结果。"
   ]
  },
  {
   "cell_type": "code",
   "execution_count": null,
   "metadata": {},
   "outputs": [],
   "source": [
    "df = pd.read_csv('data/sales.csv')\n",
    "df"
   ]
  },
  {
   "cell_type": "code",
   "execution_count": null,
   "metadata": {},
   "outputs": [],
   "source": [
    "df.groupby('类别')"
   ]
  },
  {
   "cell_type": "markdown",
   "metadata": {},
   "source": [
    "分组后可以对各组进行聚合操作。\n",
    "\n",
    "| 方法 | 说明 |\n",
    "| --- | --- |\n",
    "| `count()` | 各分组中非`NaN`值的数量 |\n",
    "| `sum()` | 各分组中非`NaN`值的和 |\n",
    "| `mean()` | 各分组中非`NaN`值的平均值 |"
   ]
  },
  {
   "cell_type": "code",
   "execution_count": null,
   "metadata": {},
   "outputs": [],
   "source": [
    "df.groupby('类别').count()"
   ]
  },
  {
   "cell_type": "markdown",
   "metadata": {},
   "source": [
    "`groupby()`会产生一个分类后的数据表，数据表中的值为以**分组**为基准聚合函数后的结果。"
   ]
  },
  {
   "cell_type": "markdown",
   "metadata": {},
   "source": [
    "例如想要计算不同`类别`商品的平均`总销售额`："
   ]
  },
  {
   "cell_type": "code",
   "execution_count": null,
   "metadata": {},
   "outputs": [],
   "source": [
    "df.groupby('类别')['总销售额'].mean()"
   ]
  },
  {
   "cell_type": "markdown",
   "metadata": {},
   "source": [
    "【例】统计不同`类别`的商品总`数量`"
   ]
  },
  {
   "cell_type": "code",
   "execution_count": null,
   "metadata": {},
   "outputs": [],
   "source": [
    "df.groupby('类别')['数量'].sum()"
   ]
  },
  {
   "cell_type": "markdown",
   "metadata": {},
   "source": [
    "## 相关性"
   ]
  },
  {
   "cell_type": "markdown",
   "metadata": {},
   "source": [
    "相关性分析用于研究不同数据是否存在依赖关系。\n",
    "\n",
    "相关系数`r`为范围为`[-1, 1]`：\n",
    "\n",
    "- `r=1`表示正相关\n",
    "- `r=0`表示不相关\n",
    "- `r=-1`表示负相关\n",
    "\n",
    "当`0 < |r| < 1`时，表示两个数据存在一定程度的相关性。`|r|`越接近`1`，表示相关性越强；`|r|`越接近`0`，表示相关性越弱。\n",
    "\n",
    "相关性可分为三个等级：\n",
    "\n",
    "1. `0 <= |r| < 0.3`：低度相关\n",
    "2. `0.3 <= |r| < 0.8`：中等相关\n",
    "3. `0.8 <= |r| <= 1`：高度相关"
   ]
  },
  {
   "cell_type": "code",
   "execution_count": null,
   "metadata": {},
   "outputs": [],
   "source": [
    "df = pd.read_csv('data/students.csv')\n",
    "df"
   ]
  },
  {
   "cell_type": "code",
   "execution_count": null,
   "metadata": {},
   "outputs": [],
   "source": [
    "df.corr()"
   ]
  },
  {
   "cell_type": "code",
   "execution_count": null,
   "metadata": {},
   "outputs": [],
   "source": [
    "df['Height'].corr(df['Weight'])"
   ]
  },
  {
   "cell_type": "code",
   "execution_count": null,
   "metadata": {},
   "outputs": [],
   "source": [
    "df[['Height', 'Weight', 'Score']].corr()"
   ]
  },
  {
   "cell_type": "markdown",
   "metadata": {},
   "source": [
    "`Height`与`Weight`存在较高的相关性，而`Score`与另外两项几乎没有相关性。"
   ]
  }
 ],
 "metadata": {
  "kernelspec": {
   "display_name": "Python 3",
   "language": "python",
   "name": "python3"
  },
  "language_info": {
   "codemirror_mode": {
    "name": "ipython",
    "version": 3
   },
   "file_extension": ".py",
   "mimetype": "text/x-python",
   "name": "python",
   "nbconvert_exporter": "python",
   "pygments_lexer": "ipython3",
   "version": "3.11.4"
  }
 },
 "nbformat": 4,
 "nbformat_minor": 2
}
