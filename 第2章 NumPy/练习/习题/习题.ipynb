{
 "cells": [
  {
   "cell_type": "markdown",
   "metadata": {},
   "source": [
    "# 习题"
   ]
  },
  {
   "cell_type": "code",
   "execution_count": null,
   "metadata": {},
   "outputs": [],
   "source": [
    "import numpy as np"
   ]
  },
  {
   "cell_type": "markdown",
   "metadata": {},
   "source": [
    "## 选择题"
   ]
  },
  {
   "cell_type": "markdown",
   "metadata": {},
   "source": [
    "1. 关于`ndarray`数组对象，下列说法中错误的是（A）。\n",
    "\n",
    "    A．在同一个数组中，元素的数据类型可以不同\n",
    "\n",
    "    B．可以是一维数组\n",
    "\n",
    "    c．可以是多维数组\n",
    "    \n",
    "    D．元素的数据类型可以是布尔值"
   ]
  },
  {
   "cell_type": "markdown",
   "metadata": {},
   "source": [
    "2. `t`是`ndarray`数组对象，如果要查看`t`的维度属性，操作正确的是（A）。\n",
    "\n",
    "    A. `t.ndim`\n",
    "\n",
    "    B. `t.size()`\n",
    "\n",
    "    C. `t.shape()`\n",
    "\n",
    "    D. `t`"
   ]
  },
  {
   "cell_type": "markdown",
   "metadata": {},
   "source": [
    "3. `t`是`ndarray`数组对象，要查看数组元素的数据类型，操作正确的是（A）。\n",
    "\n",
    "    A. `t.dtype`\n",
    "\n",
    "    B. `t.dtype()`\n",
    "\n",
    "    C. `t.dtypes`\n",
    "    \n",
    "    D. `t.dtypes()`"
   ]
  },
  {
   "cell_type": "markdown",
   "metadata": {},
   "source": [
    "4. 下列不属于数组属性的是（D）。\n",
    "\n",
    "    A. `ndim`\n",
    "\n",
    "    B. `shape`\n",
    "\n",
    "    C. `size`\n",
    "\n",
    "    D. `add`"
   ]
  },
  {
   "cell_type": "markdown",
   "metadata": {},
   "source": [
    "5. 要创建一个$ 3 \\times 3 $的数组，下列代码中错误的是（C）。\n",
    "\n",
    "    A. `np.arange(0, 9).reshape(3, 3)`\n",
    "\n",
    "    B. `np.eye(3)`\n",
    "\n",
    "    C. `np.random.random([3, 3, 3])`\n",
    "\n",
    "    D. `np.mat(\"1 2 3; 4 5 6; 7 8 9\")`"
   ]
  },
  {
   "cell_type": "markdown",
   "metadata": {},
   "source": [
    "6. 要生成由5个随机整数组成的一维数组，整数的取值范围为0~10 。下面选项中正确的是（A）。\n",
    "\n",
    "    A. `np.random.randint(0, 11, 5)`\n",
    "\n",
    "    B. `np.random.randint(0, 10, 5)`\n",
    "\n",
    "    C. `np.randint(0, 11, 5)`\n",
    "\n",
    "    D. `np.randint(0, 10, 5)`"
   ]
  },
  {
   "cell_type": "markdown",
   "metadata": {},
   "source": [
    "7. 生成从1开始到12结束的连续整数数组，并将该数组转换为$ 3 \\times 4 $的二维数组。下面选项中正确的是（A）。\n",
    "\n",
    "    A. `np.arange(1, 13).reshape(3, 4)`\n",
    "\n",
    "    B. `np.arange(1, 12).reshape(3, 4)`\n",
    "\n",
    "    C. `np.arange(1, 13).reshape(4, 3)`\n",
    "\n",
    "    D. `np.arange(1, 12).reshape(4, 3)`"
   ]
  },
  {
   "cell_type": "markdown",
   "metadata": {},
   "source": [
    "8. 下列不能实现将$ 5 \\times 7 $的`scores`数组的所有元素都加10的语句是（C）。\n",
    "\n",
    "    A. `scores + 10`\n",
    "\n",
    "    B. `np.add(scores, 10)`\n",
    "\n",
    "    C. `scores[10].add(10)`\n",
    "\n",
    "    D. `scores + [10, 10, 10, 10, 10, 10, 10]`"
   ]
  },
  {
   "cell_type": "markdown",
   "metadata": {},
   "source": [
    "9. 定义数组`height = np.array([160, 180, 170, 155, 165])`，其中记录了5位学生的身高。要求根据条件，筛选出大于160的元素，下面选项中正确的是（A）。\n",
    "\n",
    "    A. `height[height > 160]`\n",
    "\n",
    "    B. `height[height >= 160]`\n",
    "\n",
    "    C. `height(height > 160)`\n",
    "\n",
    "    D. `height(height >= 160)`"
   ]
  },
  {
   "cell_type": "markdown",
   "metadata": {},
   "source": [
    "10. 定义数组`t = np.array([52, 40, 60, 70, 80])`，其中记录了5位学生的体重。要求根据条件，筛选出大于50并且小于80的元素，下面选项中正确的是（A）。\n",
    "\n",
    "    A. `t[(t > 50) & (t < 80)]`\n",
    "\n",
    "    B. `t[t > 50 & t < 80]`\n",
    "\n",
    "    C. `t[(t > 50) | (t < 80)]`\n",
    "\n",
    "    D. `t[t > 50 | t < 80]`"
   ]
  },
  {
   "cell_type": "markdown",
   "metadata": {},
   "source": [
    "## 填空题"
   ]
  },
  {
   "cell_type": "markdown",
   "metadata": {},
   "source": [
    "1. 数组`t`保存了3位同学4门课程的考试成绩，每行表示一位学生的成绩，每列表示一门课程的成绩。"
   ]
  },
  {
   "cell_type": "markdown",
   "metadata": {},
   "source": [
    "| 学生 | 课程1 | 课程2 | 课程3 | 课程4 |\n",
    "| --- | --- | --- | --- | --- |\n",
    "|学生1 | 90 | 80 | 85 | 95 |\n",
    "|学生2 | 60 | 70 | 80 | 50 |\n",
    "|学生3 | 80 | 66 | 77 | 88 |"
   ]
  },
  {
   "cell_type": "markdown",
   "metadata": {},
   "source": [
    "请将下列程序填写完整，实现如下功能：\n",
    "\n",
    "1. 创建数组`t`\n",
    "\n",
    "2. 计算每位学生的总分\n",
    "\n",
    "3. 计算每位学生的平均分\n",
    "\n",
    "4. 计算每门课程的最高分"
   ]
  },
  {
   "cell_type": "code",
   "execution_count": null,
   "metadata": {},
   "outputs": [],
   "source": [
    "# 创建数组\n",
    "t = np.array([[90, 80, 85, 95], [60, 70, 80, 50], [80, 66, 77, 88]])\n",
    "\n",
    "x = t.sum(axis=1)               # 计算每位学生的总分\n",
    "print('每位学生的总分：', x)\n",
    "\n",
    "y = t.mean(axis=1)              # 计算每位学生的平均分\n",
    "print('每位学生的平均分：', y)\n",
    "\n",
    "z = t.max(axis=0)               # 计算每门课程的最高分\n",
    "print('每门课程的最高分：', z)"
   ]
  },
  {
   "cell_type": "markdown",
   "metadata": {},
   "source": [
    "## 编程题"
   ]
  },
  {
   "cell_type": "markdown",
   "metadata": {},
   "source": [
    "1. 生成由整数10~19组成的$ 2 \\times 5 $的二维数组。"
   ]
  },
  {
   "cell_type": "code",
   "execution_count": null,
   "metadata": {},
   "outputs": [],
   "source": [
    "np.arange(10, 20).reshape(2, 5)"
   ]
  },
  {
   "cell_type": "markdown",
   "metadata": {},
   "source": [
    "2. 使用随机函数生成$[-1, 1]$之间服从均匀分布的$ 3 \\times 4 $的二维数组，并计算所有元素的和。"
   ]
  },
  {
   "cell_type": "code",
   "execution_count": null,
   "metadata": {},
   "outputs": [],
   "source": [
    "arr = np.random.uniform(-1, 1, size=(3, 4))\n",
    "arr"
   ]
  },
  {
   "cell_type": "code",
   "execution_count": null,
   "metadata": {},
   "outputs": [],
   "source": [
    "arr.sum()"
   ]
  },
  {
   "cell_type": "markdown",
   "metadata": {},
   "source": [
    "3. 5名学生参加了学业水平考试，考试科目共7门。"
   ]
  },
  {
   "cell_type": "markdown",
   "metadata": {},
   "source": [
    "| 姓名 | Math | English | Python | Chinese | Art | Database | Physics |\n",
    "| --- | --- | --- | --- | --- | --- | --- | --- |\n",
    "| 王微 | 70 | 85 | 77 | 90 | 82 | 84 | 89 |\n",
    "| 肖良英 | 60 | 64 | 80 | 75 | 80 | 92 | 90 |\n",
    "| 方绮雯 | 90 | 93 | 88 | 87 | 86 | 90 | 91 |\n",
    "| 刘旭阳 | 80 | 82 | 91 | 88 | 83 | 86 | 80 |\n",
    "| 钱易铭 | 88 | 72 | 78 | 90 | 91 | 73 | 80 |"
   ]
  },
  {
   "cell_type": "code",
   "execution_count": null,
   "metadata": {},
   "outputs": [],
   "source": [
    "names = np.array(['王微', '肖良英', '方绮雯', '刘旭阳', '钱易铭'])\n",
    "\n",
    "subjects = np.array(['Math', 'English', 'Python', 'Chinese', 'Art', 'Database', 'Physics'])\n",
    "\n",
    "scores = np.array([\n",
    "    [70, 85, 77, 90, 82, 84, 89],\n",
    "    [60, 64, 80, 75, 80, 92, 90],\n",
    "    [90, 93, 88, 87, 86, 90, 91],\n",
    "    [80, 82, 91, 88, 83, 86, 80],\n",
    "    [88, 72, 78, 90, 91, 73, 80]\n",
    "])"
   ]
  },
  {
   "cell_type": "markdown",
   "metadata": {},
   "source": [
    "（1）在`subjects`数组中选择并显示序号为1、2、4科目的名称"
   ]
  },
  {
   "cell_type": "code",
   "execution_count": null,
   "metadata": {},
   "outputs": [],
   "source": [
    "subjects[[1, 2, 4]]"
   ]
  },
  {
   "cell_type": "markdown",
   "metadata": {},
   "source": [
    "（2）使用倒序索引显示`names`数组的\"方绮雯\"。"
   ]
  },
  {
   "cell_type": "code",
   "execution_count": null,
   "metadata": {},
   "outputs": [],
   "source": [
    "names[-3]"
   ]
  },
  {
   "cell_type": "markdown",
   "metadata": {},
   "source": [
    "（3）显示`names`数组下标从2到最后的数组元素。"
   ]
  },
  {
   "cell_type": "code",
   "execution_count": null,
   "metadata": {},
   "outputs": [],
   "source": [
    "names[2:]"
   ]
  },
  {
   "cell_type": "markdown",
   "metadata": {},
   "source": [
    "（4）显示`subjects`数组下标从2~4的数组元素。"
   ]
  },
  {
   "cell_type": "code",
   "execution_count": null,
   "metadata": {},
   "outputs": [],
   "source": [
    "subjects[2:5]"
   ]
  },
  {
   "cell_type": "markdown",
   "metadata": {},
   "source": [
    "（5）使用布尔条件选择并显示`subjects`数组中`English`和`Physics`的科目名称。"
   ]
  },
  {
   "cell_type": "code",
   "execution_count": null,
   "metadata": {},
   "outputs": [],
   "source": [
    "subjects[[False, True, False, False, False, False, True]]"
   ]
  },
  {
   "cell_type": "markdown",
   "metadata": {},
   "source": [
    "（6）显示`scores`数组的第1、4行。"
   ]
  },
  {
   "cell_type": "code",
   "execution_count": null,
   "metadata": {},
   "outputs": [],
   "source": [
    "scores[[1, 4]]"
   ]
  },
  {
   "cell_type": "markdown",
   "metadata": {},
   "source": [
    "（7）显示`scores`数组中第2、4行学生的`Math`和`Python`成绩。"
   ]
  },
  {
   "cell_type": "code",
   "execution_count": null,
   "metadata": {},
   "outputs": [],
   "source": [
    "scores[[2, 4]][:, (subjects == 'Math') | (subjects == 'Python')]"
   ]
  },
  {
   "cell_type": "markdown",
   "metadata": {},
   "source": [
    "（8）显示`scores`数组中所有学生的`Math`和`Art`成绩。"
   ]
  },
  {
   "cell_type": "code",
   "execution_count": null,
   "metadata": {},
   "outputs": [],
   "source": [
    "scores[:, (subjects == 'Math') | (subjects == 'Art')]"
   ]
  },
  {
   "cell_type": "markdown",
   "metadata": {},
   "source": [
    "（9）显示`scores`数组中\"王微\"和\"刘旭阳\"的`English`和`Art`成绩。"
   ]
  },
  {
   "cell_type": "code",
   "execution_count": null,
   "metadata": {},
   "outputs": [],
   "source": [
    "scores[(names == \"王微\") | (names == \"刘旭阳\")][:, (subjects == \"English\") | (subjects == \"Art\")]"
   ]
  },
  {
   "cell_type": "markdown",
   "metadata": {},
   "source": [
    "（10）将`scores`数组中所有学生的`English`成绩减去3分。"
   ]
  },
  {
   "cell_type": "code",
   "execution_count": null,
   "metadata": {},
   "outputs": [],
   "source": [
    "scores[:, subjects == \"English\"] -= 3\n",
    "scores"
   ]
  },
  {
   "cell_type": "markdown",
   "metadata": {},
   "source": [
    "（11）统计`scores`数组中每名学生所有科目的平均分。"
   ]
  },
  {
   "cell_type": "code",
   "execution_count": null,
   "metadata": {},
   "outputs": [],
   "source": [
    "scores.mean(axis=1)"
   ]
  },
  {
   "cell_type": "markdown",
   "metadata": {},
   "source": [
    "4. 大润发、沃尔玛、好德和农工商4个超市售卖苹果、梨、香蕉、橘子和芒果5种水果。"
   ]
  },
  {
   "cell_type": "code",
   "execution_count": null,
   "metadata": {},
   "outputs": [],
   "source": [
    "supermarkets = np.array(['大润发', '沃尔玛', '好德', '农工商'])\n",
    "fruits = np.array(['苹果', '梨', '香蕉', '橘子', '芒果'])"
   ]
  },
  {
   "cell_type": "markdown",
   "metadata": {},
   "source": [
    "（1）创建一个$ 4 \\times 5 $的二维数组存储不同超市的水果价格，其中价格由$ 4 \\sim 10 $范围内的随机整数生成。"
   ]
  },
  {
   "cell_type": "code",
   "execution_count": null,
   "metadata": {},
   "outputs": [],
   "source": [
    "prices = np.random.randint(4, 11, size=(4, 5))\n",
    "prices"
   ]
  },
  {
   "cell_type": "markdown",
   "metadata": {},
   "source": [
    "（2）将`大润发`的`苹果`和`好德`的`香蕉`的价格增加1元。"
   ]
  },
  {
   "cell_type": "code",
   "execution_count": null,
   "metadata": {},
   "outputs": [],
   "source": [
    "prices[(supermarkets == \"大润发\") | (supermarkets == \"好德\"), (fruits == \"苹果\") | (fruits == \"香蕉\")] += 1\n",
    "prices"
   ]
  },
  {
   "cell_type": "markdown",
   "metadata": {},
   "source": [
    "（3）将农工商的所有水果价格减少2元。"
   ]
  },
  {
   "cell_type": "code",
   "execution_count": null,
   "metadata": {},
   "outputs": [],
   "source": [
    "prices[supermarkets == \"农工商\"] -= 2\n",
    "prices"
   ]
  },
  {
   "cell_type": "markdown",
   "metadata": {},
   "source": [
    "（4）统计4个超市`苹果`和`芒果`的销售均价。"
   ]
  },
  {
   "cell_type": "code",
   "execution_count": null,
   "metadata": {},
   "outputs": [],
   "source": [
    "prices[:, (fruits == \"苹果\") | (fruits == \"芒果\")].mean(axis=0)"
   ]
  },
  {
   "cell_type": "markdown",
   "metadata": {},
   "source": [
    "（5）找出`橘子`价格最贵的超市名称。\n",
    "\n",
    "提示：使用`argmax()`获取最大值的下标。"
   ]
  },
  {
   "cell_type": "code",
   "execution_count": null,
   "metadata": {},
   "outputs": [],
   "source": [
    "supermarkets[prices[:, fruits == \"橘子\"].argmax()]"
   ]
  }
 ],
 "metadata": {
  "kernelspec": {
   "display_name": "Python 3",
   "language": "python",
   "name": "python3"
  },
  "language_info": {
   "codemirror_mode": {
    "name": "ipython",
    "version": 3
   },
   "file_extension": ".py",
   "mimetype": "text/x-python",
   "name": "python",
   "nbconvert_exporter": "python",
   "pygments_lexer": "ipython3",
   "version": "3.11.4"
  }
 },
 "nbformat": 4,
 "nbformat_minor": 2
}
