{
 "cells": [
  {
   "cell_type": "markdown",
   "metadata": {},
   "source": [
    "# 随机游走"
   ]
  },
  {
   "cell_type": "code",
   "execution_count": null,
   "metadata": {},
   "outputs": [],
   "source": [
    "import numpy as np"
   ]
  },
  {
   "cell_type": "markdown",
   "metadata": {},
   "source": [
    "## 简介"
   ]
  },
  {
   "cell_type": "markdown",
   "metadata": {},
   "source": [
    "随机游走（Random Walk）与很多自然、社会现象相关。\n",
    "\n",
    "在自然科学研究中，随机游走是扩散过程的基础，广泛用于对物理和化学粒子扩散现象的模拟。\n",
    "\n",
    "在实际生活中，人们用随机游走描述花粉的布朗运动、证券的涨跌等。\n",
    "\n",
    "对随机游走过程的理论研究和计算机模拟已成功地应用于数学、物理、化学和经济等学科，在互联网信息检索、图像分割等领域的应用也取得了很好的效果。\n",
    "\n",
    "这个案例将会研究随机游走时每一步与原点的距离和位置关系。"
   ]
  },
  {
   "cell_type": "markdown",
   "metadata": {},
   "source": [
    "## 模拟移动方向"
   ]
  },
  {
   "cell_type": "markdown",
   "metadata": {},
   "source": [
    "假设物体初始位置处于二维坐标系的$ (0, 0) $，每步随机地沿着`x`轴方向左移或右移一个单位，同时沿着`y`轴方向上移或下移一个单位，左右上下移动的概率是相等的。"
   ]
  },
  {
   "cell_type": "markdown",
   "metadata": {},
   "source": [
    "为了模拟物体在`x`轴和`y`轴上每步的随机游走，首先创建一个$ 2 \\times N $的二维数组，$ N $为移动总步数。"
   ]
  },
  {
   "cell_type": "code",
   "execution_count": null,
   "metadata": {},
   "outputs": [],
   "source": [
    "N = 10"
   ]
  },
  {
   "cell_type": "markdown",
   "metadata": {},
   "source": [
    "数组的第0行表示`x`轴上的移动，第1行表示`y`轴上的移动。数组元素取值为`-1`（负方向移动）或`1`（正方向移动）。\n",
    "\n",
    "例如：\n",
    "\n",
    "```\n",
    "[\n",
    "    [-1, 1, 1, 1, 1, 1, 1, -1, -1, 1],\n",
    "    [-1, 1, -1, 1, -1, -1, -1, -1, 1, -1]\n",
    "]\n",
    "```"
   ]
  },
  {
   "cell_type": "markdown",
   "metadata": {},
   "source": [
    "`np.random`模块只能生成指定范围内的随机数，但是这里只需要`1`或`-1`的取值。\n",
    "\n",
    "因此，可以先生成一个`0`或`1`的随机数组，再将所有的`0`替换为`-1`即可。"
   ]
  },
  {
   "cell_type": "code",
   "execution_count": null,
   "metadata": {},
   "outputs": [],
   "source": [
    "random_walk = np.random.randint(0, 2, size=(2, N))\n",
    "random_walk"
   ]
  },
  {
   "cell_type": "markdown",
   "metadata": {},
   "source": [
    "`np.where()`用于对数组条件赋值。"
   ]
  },
  {
   "cell_type": "code",
   "execution_count": null,
   "metadata": {},
   "outputs": [],
   "source": [
    "random_walk = np.where(random_walk > 0, 1, -1)\n",
    "random_walk"
   ]
  },
  {
   "cell_type": "markdown",
   "metadata": {},
   "source": [
    "## 计算移动位置"
   ]
  },
  {
   "cell_type": "markdown",
   "metadata": {},
   "source": [
    "`random_walk`记录了每步沿着`x`轴、`y`轴移动的方向，通过计算从第$ 1 $步到第$ i $的累加和，即可算出第$ i $步所处的位置。\n",
    "\n",
    "例如对于以下`random_walk`：\n",
    "\n",
    "```\n",
    "[\n",
    "    [-1, 1, 1, 1, 1, 1, 1, -1, -1, 1],\n",
    "    [-1, 1, -1, 1, -1, -1, -1, -1, 1, -1]\n",
    "]\n",
    "```\n",
    "\n",
    "1. 从$ (0, 0) $出发\n",
    "\n",
    "2. 第$ 0 $步：位于$ (0-1, 0-1) = (-1, -1) $\n",
    "\n",
    "3. 第$ 1 $步：位于$ (-1+1, -1+1) = (0, 0) $\n",
    "\n",
    "4. 第$ 2 $步：位于$ (0+1, 0-1) = (1, -1) $\n",
    "\n",
    "5. 第$ 3 $步：位于$ (1+1, -1+1) = (2, 0) $\n",
    "\n",
    "6. ..."
   ]
  },
  {
   "cell_type": "markdown",
   "metadata": {},
   "source": [
    "![](./img/random_walk.png)"
   ]
  },
  {
   "cell_type": "markdown",
   "metadata": {},
   "source": [
    "聚合函数`np.cumsum()`可以用于计算数组中每步的累加和。\n",
    "\n",
    "例如对于以下`random_walk`：\n",
    "\n",
    "```\n",
    "[\n",
    "    [-1, 1, 1, 1, 1, 1, 1, -1, -1, 1],\n",
    "    [-1, 1, -1, 1, -1, -1, -1, -1, 1, -1]\n",
    "]\n",
    "```\n",
    "\n",
    "生成的累加和数组为：\n",
    "\n",
    "```\n",
    "[\n",
    "    [-1, 0, 1, 2, 3, 4, 5, 4, 3, 4],\n",
    "    [-1, 0, -1, 0, -1, -2, -3, -4, -3, -4]\n",
    "]\n",
    "```"
   ]
  },
  {
   "cell_type": "code",
   "execution_count": null,
   "metadata": {},
   "outputs": [],
   "source": [
    "positions = np.cumsum(random_walk, axis=1)\n",
    "positions"
   ]
  },
  {
   "cell_type": "markdown",
   "metadata": {},
   "source": [
    "## 计算每步位置与原点的距离"
   ]
  },
  {
   "cell_type": "markdown",
   "metadata": {},
   "source": [
    "`position`数组保存了每一步移动后所在的位置，现在需要计算这些位置与原点的距离。"
   ]
  },
  {
   "cell_type": "code",
   "execution_count": null,
   "metadata": {},
   "outputs": [],
   "source": [
    "dists = np.sqrt(positions[0]**2 + positions[1]**2)\n",
    "dists"
   ]
  },
  {
   "cell_type": "markdown",
   "metadata": {},
   "source": [
    "`np.set_printoptions(precision=4)`可以用于设置小数显示的位数。"
   ]
  },
  {
   "cell_type": "code",
   "execution_count": null,
   "metadata": {},
   "outputs": [],
   "source": [
    "np.set_printoptions(precision=4)\n",
    "dists"
   ]
  },
  {
   "cell_type": "markdown",
   "metadata": {},
   "source": [
    "## 统计分析"
   ]
  },
  {
   "cell_type": "markdown",
   "metadata": {},
   "source": [
    "根据`dists`，可以看出与原点的最远距离、最近距离、和平均距离。"
   ]
  },
  {
   "cell_type": "code",
   "execution_count": null,
   "metadata": {},
   "outputs": [],
   "source": [
    "print(\"最远距离：\", dists.max())\n",
    "print(\"最近距离：\", dists.min())\n",
    "print(\"平均距离：\", dists.mean())"
   ]
  },
  {
   "cell_type": "markdown",
   "metadata": {},
   "source": [
    "还可以统计出随机游走过程中，有多少次与原点的距离大于平均距离的次数。"
   ]
  },
  {
   "cell_type": "code",
   "execution_count": null,
   "metadata": {},
   "outputs": [],
   "source": [
    "(dists > dists.mean()).sum()"
   ]
  },
  {
   "cell_type": "markdown",
   "metadata": {},
   "source": [
    "`dists > dists.mean()`会生成一个一维的布尔数组，大于平均距离的位置`True`, 否则为`False`。\n",
    "\n",
    "用`sum()`求和时，`True`的值为`1`，`False`的值为`0`。`True`的个数就是大于平均距离的次数。"
   ]
  },
  {
   "cell_type": "markdown",
   "metadata": {},
   "source": [
    "## 绘制轨迹"
   ]
  },
  {
   "cell_type": "code",
   "execution_count": null,
   "metadata": {},
   "outputs": [],
   "source": [
    "import matplotlib.pyplot as plt\n",
    "\n",
    "x = np.insert(positions[0], 0, 0)\n",
    "y = np.insert(positions[1], 0, 0)\n",
    "\n",
    "plt.plot(x, y, c='g', marker='*')\n",
    "plt.scatter(0, 0, c='r', marker='o')\n",
    "plt.text(.1, -.1, 'origin')\n",
    "plt.scatter(positions[0][-1], positions[1][-1], c='r', marker='o')\n",
    "plt.text(positions[0][-1]+.1, positions[1][-1]-.1, 'stop')\n",
    "plt.show()"
   ]
  },
  {
   "cell_type": "markdown",
   "metadata": {},
   "source": [
    "尝试增加总步数`N`，观察与原点的距离如何变化。"
   ]
  }
 ],
 "metadata": {
  "kernelspec": {
   "display_name": "Python 3",
   "language": "python",
   "name": "python3"
  },
  "language_info": {
   "codemirror_mode": {
    "name": "ipython",
    "version": 3
   },
   "file_extension": ".py",
   "mimetype": "text/x-python",
   "name": "python",
   "nbconvert_exporter": "python",
   "pygments_lexer": "ipython3",
   "version": "3.11.4"
  }
 },
 "nbformat": 4,
 "nbformat_minor": 2
}
