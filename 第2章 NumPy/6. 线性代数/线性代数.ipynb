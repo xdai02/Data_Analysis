{
 "cells": [
  {
   "cell_type": "markdown",
   "metadata": {},
   "source": [
    "# 线性代数"
   ]
  },
  {
   "cell_type": "code",
   "execution_count": null,
   "metadata": {},
   "outputs": [],
   "source": [
    "import numpy as np"
   ]
  },
  {
   "cell_type": "markdown",
   "metadata": {},
   "source": [
    "在线性代数的范畴里，矩阵运算有很多不一样的地方，例如內积、行列式、逆运算等。"
   ]
  },
  {
   "cell_type": "markdown",
   "metadata": {},
   "source": [
    "## 矩阵运算"
   ]
  },
  {
   "cell_type": "markdown",
   "metadata": {},
   "source": [
    "### `np.dot()`"
   ]
  },
  {
   "cell_type": "markdown",
   "metadata": {},
   "source": [
    "对于两个一维数组，`np.dot()`计算的是这两个数组对应下标元素的**乘积和**，也称之为**內积**。"
   ]
  },
  {
   "cell_type": "code",
   "execution_count": null,
   "metadata": {},
   "outputs": [],
   "source": [
    "arr1 = np.array([1, 2, 3, 4])\n",
    "arr2 = np.array([6, 7, 8, 9])"
   ]
  },
  {
   "cell_type": "code",
   "execution_count": null,
   "metadata": {},
   "outputs": [],
   "source": [
    "np.dot(arr1, arr2)"
   ]
  },
  {
   "cell_type": "markdown",
   "metadata": {},
   "source": [
    "对于二维数组，计算的是两个数组的**矩阵乘积**。"
   ]
  },
  {
   "cell_type": "code",
   "execution_count": null,
   "metadata": {},
   "outputs": [],
   "source": [
    "A = np.array([[1, 2, 3], [4, 5, 6]])\n",
    "B = np.array([[11, 22], [33, 44], [55, 66]])\n",
    "\n",
    "print(A)\n",
    "print(B)"
   ]
  },
  {
   "cell_type": "code",
   "execution_count": null,
   "metadata": {},
   "outputs": [],
   "source": [
    "np.dot(A, B)"
   ]
  },
  {
   "cell_type": "markdown",
   "metadata": {},
   "source": [
    "矩阵的乘积满足如下规律：\n",
    "\n",
    "$m \\times k$的矩阵$ A $，$k \\times n$的矩阵$ B $，其矩阵乘积结果为大小为$m \\times n$的矩阵。"
   ]
  },
  {
   "cell_type": "markdown",
   "metadata": {},
   "source": [
    "\\begin{bmatrix}\n",
    "1 \\times 11 + 2 \\times 33 + 3 \\times 55 & 1 \\times 22 + 2 \\times 44 + 3 \\times 66 \\\\\n",
    "4 \\times 11 + 5 \\times 33 + 6 \\times 55  & 4 \\times 22 + 5 \\times 44 + 6 \\times 66\n",
    "\\end{bmatrix}"
   ]
  },
  {
   "cell_type": "markdown",
   "metadata": {},
   "source": [
    "### `np.vdot()`"
   ]
  },
  {
   "cell_type": "markdown",
   "metadata": {},
   "source": [
    "`np.vdot()`用于计算两个向量的点积。它会首先将数组**展开**为一维数组，计算对应位置的元素**乘积求和**。"
   ]
  },
  {
   "cell_type": "code",
   "execution_count": null,
   "metadata": {},
   "outputs": [],
   "source": [
    "arr1 = np.array([[11, 22], [33, 44], [55, 66]])\n",
    "arr2 = np.array([[1, 2], [3, 4], [5, 6]])"
   ]
  },
  {
   "cell_type": "code",
   "execution_count": null,
   "metadata": {},
   "outputs": [],
   "source": [
    "np.vdot(arr1, arr2)"
   ]
  },
  {
   "cell_type": "markdown",
   "metadata": {},
   "source": [
    "`arr1`展开：`[11, 22, 33, 44, 55, 66]`\n",
    "\n",
    "`arr2`展开：`[1, 2, 3, 4, 5, 6]`\n",
    "\n",
    "点积：$ 11 \\times 1 + 22 \\times 2 + 33 \\times 3 + 44 \\times 4 + 55 \\times 5 + 66 \\times 6 = 1001 $"
   ]
  },
  {
   "cell_type": "markdown",
   "metadata": {},
   "source": [
    "### `np.matmul()`"
   ]
  },
  {
   "cell_type": "markdown",
   "metadata": {},
   "source": [
    "`np.matmul()`用于计算两个矩阵的乘积。对于二维数组，其结果与`np.dot()`一致。"
   ]
  },
  {
   "cell_type": "code",
   "execution_count": null,
   "metadata": {},
   "outputs": [],
   "source": [
    "A = np.array([[1, 2, 3], [4, 5, 6]])\n",
    "B = np.array([[11, 22], [33, 44], [55, 66]])\n",
    "\n",
    "print(A)\n",
    "print(B)"
   ]
  },
  {
   "cell_type": "code",
   "execution_count": null,
   "metadata": {},
   "outputs": [],
   "source": [
    "np.matmul(A, B)"
   ]
  },
  {
   "cell_type": "markdown",
   "metadata": {},
   "source": [
    "## 线性代数求解"
   ]
  },
  {
   "cell_type": "markdown",
   "metadata": {},
   "source": [
    "`NumPy`提供了线性代数函数库`linalg`，该库包含了求解线性代数问题所需的常用功能。"
   ]
  },
  {
   "cell_type": "markdown",
   "metadata": {},
   "source": [
    "### 行列式"
   ]
  },
  {
   "cell_type": "markdown",
   "metadata": {},
   "source": [
    "#### `np.linalg.det()`"
   ]
  },
  {
   "cell_type": "markdown",
   "metadata": {},
   "source": [
    "`np.linalg.det()`用于计算输入矩阵的行列式。行列式在线性代数中是非常有用的值。它从方阵的对角元素计算。"
   ]
  },
  {
   "cell_type": "markdown",
   "metadata": {},
   "source": [
    "对于$ 2 \\times 2 $的矩阵，它是左上和右下元素的乘积与其他两个的乘积的差。\n",
    "\n",
    "换句话说，对于矩阵$ [[a，b]，[c，d]] $，行列式计算为$ ad - bc $。"
   ]
  },
  {
   "cell_type": "code",
   "execution_count": null,
   "metadata": {},
   "outputs": [],
   "source": [
    "M = np.array([[4, 1], [2, 3]])\n",
    "np.linalg.det(M)"
   ]
  },
  {
   "cell_type": "code",
   "execution_count": null,
   "metadata": {},
   "outputs": [],
   "source": [
    "M = np.array([[6, 2, 1], [4, -2, 15], [12, 8, 7]])\n",
    "np.linalg.det(M)"
   ]
  },
  {
   "cell_type": "markdown",
   "metadata": {},
   "source": [
    "#### `np.linalg.solve()`"
   ]
  },
  {
   "cell_type": "markdown",
   "metadata": {},
   "source": [
    "`np.linalg.solve()`用于计算矩阵形式的线性方程的解。"
   ]
  },
  {
   "cell_type": "markdown",
   "metadata": {},
   "source": [
    "\\begin{align*}\n",
    "x + y + z &= 10 \\\\\n",
    "2x + y &= 6 \\\\\n",
    "3y -2z &= 2\n",
    "\\end{align*}"
   ]
  },
  {
   "cell_type": "markdown",
   "metadata": {},
   "source": [
    "将方程组转换为矩阵形式：$ Ax = b $："
   ]
  },
  {
   "cell_type": "code",
   "execution_count": null,
   "metadata": {},
   "outputs": [],
   "source": [
    "A = np.array([[1, 1, 1], [2, 1, 0], [0, 3, -2]])\n",
    "b = np.array([[10], [6], [2]])"
   ]
  },
  {
   "cell_type": "markdown",
   "metadata": {},
   "source": [
    "求解方程组："
   ]
  },
  {
   "cell_type": "code",
   "execution_count": null,
   "metadata": {},
   "outputs": [],
   "source": [
    "np.linalg.solve(A, b)"
   ]
  },
  {
   "cell_type": "markdown",
   "metadata": {},
   "source": [
    "方程组的解为：x=1, y=4, z=5"
   ]
  },
  {
   "cell_type": "markdown",
   "metadata": {},
   "source": [
    "【例】解方程组\n",
    "\n",
    "\\begin{align*}\n",
    "2x - y + 3z &= 7 \\\\\n",
    "4x + 2y - z &= 1 \\\\\n",
    "-x + 5y + 2z &= -4\n",
    "\\end{align*}"
   ]
  },
  {
   "cell_type": "code",
   "execution_count": null,
   "metadata": {},
   "outputs": [],
   "source": [
    "A = np.array([[2, -1, 3], [4, 2, -1], [-1, 5, 2]])\n",
    "b = np.array([[7], [1], [-4]])"
   ]
  },
  {
   "cell_type": "code",
   "execution_count": null,
   "metadata": {},
   "outputs": [],
   "source": [
    "np.linalg.solve(A, b)"
   ]
  },
  {
   "cell_type": "markdown",
   "metadata": {},
   "source": [
    "#### `np.linalg.inv()`"
   ]
  },
  {
   "cell_type": "markdown",
   "metadata": {},
   "source": [
    "`np.linalg.inv()`用于计算矩阵的逆矩阵。"
   ]
  },
  {
   "cell_type": "markdown",
   "metadata": {},
   "source": [
    "逆矩阵的概念如下：\n",
    "\n",
    "设$ A $是数域上的一个$ n $阶矩阵，若在相同数域上存在另一个$ n $阶矩阵$ B $，使得$ AB = BA = E $（$ E $为单位矩阵），则称$ B $是$ A $的逆矩阵，而$ A $则被称为可逆矩阵。"
   ]
  },
  {
   "cell_type": "markdown",
   "metadata": {},
   "source": [
    "利用逆矩阵，可以换个思路求解方程组。\n",
    "\n",
    "\\begin{align*}\n",
    "x + y + z &= 10 \\\\\n",
    "2x + y &= 6 \\\\\n",
    "3y -2z &= 2\n",
    "\\end{align*}\n",
    "\n",
    "\\begin{align*}\n",
    "Ax &= b \\\\\n",
    "x &= A^{-1}b\n",
    "\\end{align*}"
   ]
  },
  {
   "cell_type": "code",
   "execution_count": null,
   "metadata": {},
   "outputs": [],
   "source": [
    "A = np.array([[1, 1, 1], [2, 1, 0], [0, 3, -2]])\n",
    "b = np.array([[10], [6], [2]])"
   ]
  },
  {
   "cell_type": "code",
   "execution_count": null,
   "metadata": {},
   "outputs": [],
   "source": [
    "A_inv = np.linalg.inv(A)\n",
    "A_inv"
   ]
  },
  {
   "cell_type": "code",
   "execution_count": null,
   "metadata": {},
   "outputs": [],
   "source": [
    "np.matmul(A_inv, b)"
   ]
  },
  {
   "cell_type": "markdown",
   "metadata": {},
   "source": [
    "【例】利用逆矩阵求解方程组\n",
    "\n",
    "\\begin{align*}\n",
    "2x - y + 3z &= 7 \\\\\n",
    "4x + 2y - z &= 1 \\\\\n",
    "-x + 5y + 2z &= -4\n",
    "\\end{align*}"
   ]
  },
  {
   "cell_type": "code",
   "execution_count": null,
   "metadata": {},
   "outputs": [],
   "source": [
    "A = np.array([[2, -1, 3], [4, 2, -1], [-1, 5, 2]])\n",
    "b = np.array([[7], [1], [-4]])"
   ]
  },
  {
   "cell_type": "code",
   "execution_count": null,
   "metadata": {},
   "outputs": [],
   "source": [
    "A_inv = np.linalg.inv(A)\n",
    "A_inv"
   ]
  },
  {
   "cell_type": "code",
   "execution_count": null,
   "metadata": {},
   "outputs": [],
   "source": [
    "np.matmul(A_inv, b)"
   ]
  }
 ],
 "metadata": {
  "kernelspec": {
   "display_name": "Python 3",
   "language": "python",
   "name": "python3"
  },
  "language_info": {
   "codemirror_mode": {
    "name": "ipython",
    "version": 3
   },
   "file_extension": ".py",
   "mimetype": "text/x-python",
   "name": "python",
   "nbconvert_exporter": "python",
   "pygments_lexer": "ipython3",
   "version": "3.11.4"
  }
 },
 "nbformat": 4,
 "nbformat_minor": 2
}
