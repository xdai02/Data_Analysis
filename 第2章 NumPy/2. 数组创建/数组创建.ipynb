{
 "cells": [
  {
   "cell_type": "markdown",
   "metadata": {},
   "source": [
    "# 数组创建"
   ]
  },
  {
   "cell_type": "code",
   "execution_count": null,
   "metadata": {},
   "outputs": [],
   "source": [
    "import numpy as np"
   ]
  },
  {
   "cell_type": "markdown",
   "metadata": {},
   "source": [
    "## 等差序列"
   ]
  },
  {
   "cell_type": "markdown",
   "metadata": {},
   "source": [
    "类似于Python的`range()`，`NumPy`也能创建一个等间隔的数组。"
   ]
  },
  {
   "cell_type": "markdown",
   "metadata": {},
   "source": [
    "### `np.arange()`"
   ]
  },
  {
   "cell_type": "markdown",
   "metadata": {},
   "source": [
    "`np.arange(start, stop, step=1, dtype=None)`"
   ]
  },
  {
   "cell_type": "markdown",
   "metadata": {},
   "source": [
    "| 参数 | 说明 |\n",
    "| --- | --- |\n",
    "| start | 起始值，默认为0 |\n",
    "| stop | 终止值，不包含终止值 |\n",
    "| step | 步长，默认为1 |\n",
    "| dtype | 数据类型，不提供则自动推断 |"
   ]
  },
  {
   "cell_type": "code",
   "execution_count": null,
   "metadata": {},
   "outputs": [],
   "source": [
    "np.arange(0, 100, 10, dtype=np.int32)"
   ]
  },
  {
   "cell_type": "markdown",
   "metadata": {},
   "source": [
    "通常会结合`reshape()`一起使用。"
   ]
  },
  {
   "cell_type": "code",
   "execution_count": null,
   "metadata": {},
   "outputs": [],
   "source": [
    "np.arange(0, 100, 5, dtype=np.int32).reshape((5, 4))"
   ]
  },
  {
   "cell_type": "markdown",
   "metadata": {},
   "source": [
    "【例】生成4行4列的二维数组$ [[40, 38, 36, 34], [32, 30, 28, 26], [24, 22, 20, 18], [16, 14, 12, 10]] $"
   ]
  },
  {
   "cell_type": "code",
   "execution_count": null,
   "metadata": {},
   "outputs": [],
   "source": [
    "np.arange(40, 8, -2, dtype=np.int32).reshape((4, 4))"
   ]
  },
  {
   "cell_type": "markdown",
   "metadata": {},
   "source": [
    "### `np.linspace()`"
   ]
  },
  {
   "cell_type": "markdown",
   "metadata": {},
   "source": [
    "`np.linspace()`用于生成在某一确定区间内的一维数组，功能相较于`np.arange()`更加强大。"
   ]
  },
  {
   "cell_type": "markdown",
   "metadata": {},
   "source": [
    "`np.linspace(start, stop, num=50, endpoint=True, retstep=False, dtype=None)`"
   ]
  },
  {
   "cell_type": "markdown",
   "metadata": {},
   "source": [
    "| 参数 | 说明 |\n",
    "| --- | --- |\n",
    "| start | 起始值，默认为0 |\n",
    "| stop | 终止值，如果`endpoint`为`True`，则包含终止值 |\n",
    "| num | 生成等步长的样本数量，默认为50 |\n",
    "| endpoint | 是否包含`stop` |\n",
    "| retstep | 若为`True`，函数同时返回步长 |\n",
    "| dtype | 数据类型，省略则自动推断 |"
   ]
  },
  {
   "cell_type": "code",
   "execution_count": null,
   "metadata": {},
   "outputs": [],
   "source": [
    "np.linspace(0, 10, endpoint=False, num=10, dtype=np.int32)"
   ]
  },
  {
   "cell_type": "code",
   "execution_count": null,
   "metadata": {},
   "outputs": [],
   "source": [
    "np.linspace(0, 9, endpoint=True, num=10, retstep=True, dtype=np.int32)"
   ]
  },
  {
   "cell_type": "markdown",
   "metadata": {},
   "source": [
    "【例】生成一个范围在$ [0.6, 96.6] $的16等分数组"
   ]
  },
  {
   "cell_type": "code",
   "execution_count": null,
   "metadata": {},
   "outputs": [],
   "source": [
    "np.linspace(0.6, 96.6, endpoint=True, num=16, retstep=True, dtype=np.float64)"
   ]
  },
  {
   "cell_type": "markdown",
   "metadata": {},
   "source": [
    "## 等比序列"
   ]
  },
  {
   "cell_type": "markdown",
   "metadata": {},
   "source": [
    "### `np.logspace()`"
   ]
  },
  {
   "cell_type": "markdown",
   "metadata": {},
   "source": [
    "`np.logspace()`通过指定基数、基数的起始指数、基数的终止指数、样本数量等元素，来定义一个等比数列。"
   ]
  },
  {
   "cell_type": "markdown",
   "metadata": {},
   "source": [
    "`np.logspace(start, stop, num=50, endpoint=True, base=10.0, dtype=None)`"
   ]
  },
  {
   "cell_type": "markdown",
   "metadata": {},
   "source": [
    "| 参数 | 说明 |\n",
    "| --- | --- |\n",
    "| start | 幂的起始值 |\n",
    "| stop | 幂的终止值，如果`endpoint`为`True`，则包含终止值 |\n",
    "| num | 生成的样本数量，默认为50 |\n",
    "| endpoint | 是否包含`stop` |\n",
    "| base | 基数 |\n",
    "| dtype | 数据类型，省略则自动推断 |"
   ]
  },
  {
   "cell_type": "code",
   "execution_count": null,
   "metadata": {},
   "outputs": [],
   "source": [
    "np.logspace(1, 10, num=10, endpoint=True, base=2, dtype=np.int32)"
   ]
  },
  {
   "cell_type": "markdown",
   "metadata": {},
   "source": [
    "【例】生成一个$ 3^0 \\sim 3^{10} $的序列"
   ]
  },
  {
   "cell_type": "code",
   "execution_count": null,
   "metadata": {},
   "outputs": [],
   "source": [
    "np.logspace(0, 10, num=11, endpoint=True, base=3, dtype=np.int32)"
   ]
  },
  {
   "cell_type": "markdown",
   "metadata": {},
   "source": [
    "## 随机数"
   ]
  },
  {
   "cell_type": "markdown",
   "metadata": {},
   "source": [
    "`np.random`模块对Python内置的`random`进行了补充，增加了一些用于高效生成符合多种概率分布的样本值的函数。"
   ]
  },
  {
   "cell_type": "markdown",
   "metadata": {},
   "source": [
    "### 均匀分布"
   ]
  },
  {
   "cell_type": "markdown",
   "metadata": {},
   "source": [
    "#### `np.random.rand()`"
   ]
  },
  {
   "cell_type": "markdown",
   "metadata": {},
   "source": [
    "`np.random.rand()`用于创建一个$ [0,1) $均匀分布的随机浮点数（组）。"
   ]
  },
  {
   "cell_type": "markdown",
   "metadata": {},
   "source": [
    "`np.random.rand(d0, d1, ..., dn)`"
   ]
  },
  {
   "cell_type": "markdown",
   "metadata": {},
   "source": [
    "| 参数 | 说明 |\n",
    "| --- | --- |\n",
    "| d0, d1, ..., dn | 生成数组的维度，不指定返回一个浮点数 |"
   ]
  },
  {
   "cell_type": "code",
   "execution_count": null,
   "metadata": {},
   "outputs": [],
   "source": [
    "np.random.rand()"
   ]
  },
  {
   "cell_type": "code",
   "execution_count": null,
   "metadata": {},
   "outputs": [],
   "source": [
    "np.random.rand(3, 2)"
   ]
  },
  {
   "cell_type": "markdown",
   "metadata": {},
   "source": [
    "#### `np.random.uniform()`"
   ]
  },
  {
   "cell_type": "markdown",
   "metadata": {},
   "source": [
    "`np.random.uniform()`用于创建一个在指定区间内符合均匀分布的随机数（组）。"
   ]
  },
  {
   "cell_type": "markdown",
   "metadata": {},
   "source": [
    "`np.random.uniform(low=0.0, high=1.0, size=None)`"
   ]
  },
  {
   "cell_type": "markdown",
   "metadata": {},
   "source": [
    "| 参数 | 说明 |\n",
    "| --- | --- |\n",
    "| low | 下界，默认为0 |\n",
    "| high | 上界，默认为1 |\n",
    "| size | 样本维数 |"
   ]
  },
  {
   "cell_type": "markdown",
   "metadata": {},
   "source": [
    "在无任何参数的时候，`np.random.uniform()`与`np.random.rand()`功能相同。"
   ]
  },
  {
   "cell_type": "code",
   "execution_count": null,
   "metadata": {},
   "outputs": [],
   "source": [
    "np.random.uniform()"
   ]
  },
  {
   "cell_type": "markdown",
   "metadata": {},
   "source": [
    "【例】创建一个$ [0, 10] $之间均匀采样的$ 4 \\times 4 $数组。"
   ]
  },
  {
   "cell_type": "code",
   "execution_count": null,
   "metadata": {},
   "outputs": [],
   "source": [
    "np.random.uniform(0, 10, size=(4, 4))"
   ]
  },
  {
   "cell_type": "markdown",
   "metadata": {},
   "source": [
    "#### `np.random.randint()`"
   ]
  },
  {
   "cell_type": "markdown",
   "metadata": {},
   "source": [
    "`np.random.randint()`用于创建一个在指定区间内符合均匀分布的随机整数（数组）。"
   ]
  },
  {
   "cell_type": "markdown",
   "metadata": {},
   "source": [
    "`np.random.randint(low, high=None, size=None, dtype='int')`"
   ]
  },
  {
   "cell_type": "markdown",
   "metadata": {},
   "source": [
    "| 参数 | 说明 |\n",
    "| --- | --- |\n",
    "| low | 下界，当`high`不指定时，采样区间为$ [0, low) $ |\n",
    "| high | 上界，指定时，采样区间为$ [low, high) $ |\n",
    "| size | 样本维数 |\n",
    "| dtype | 数据类型 |"
   ]
  },
  {
   "cell_type": "code",
   "execution_count": null,
   "metadata": {},
   "outputs": [],
   "source": [
    "np.random.randint(10)"
   ]
  },
  {
   "cell_type": "markdown",
   "metadata": {},
   "source": [
    "【例】生成10个在$ [0, 100) $区间的随机整数"
   ]
  },
  {
   "cell_type": "code",
   "execution_count": null,
   "metadata": {},
   "outputs": [],
   "source": [
    "np.random.randint(low=0, high=100, size=10, dtype=np.int32)"
   ]
  },
  {
   "cell_type": "markdown",
   "metadata": {},
   "source": [
    "### 正态分布"
   ]
  },
  {
   "cell_type": "markdown",
   "metadata": {},
   "source": [
    "#### `np.random.randn()`"
   ]
  },
  {
   "cell_type": "markdown",
   "metadata": {},
   "source": [
    "`np.random.randn()`用于创建一个指定维度的、符合标准正态分布（**以0为均值、1为标准差**）的浮点数（数组）。"
   ]
  },
  {
   "cell_type": "markdown",
   "metadata": {},
   "source": [
    "`np.random.randn(d0, d1, ..., dn)`"
   ]
  },
  {
   "cell_type": "markdown",
   "metadata": {},
   "source": [
    "| 参数 | 说明 |\n",
    "| --- | --- |\n",
    "| d0, d1, ..., dn | 生成数组的维度，不指定返回一个浮点数 |"
   ]
  },
  {
   "cell_type": "code",
   "execution_count": null,
   "metadata": {},
   "outputs": [],
   "source": [
    "np.random.randn()"
   ]
  },
  {
   "cell_type": "markdown",
   "metadata": {},
   "source": [
    "![](./img/normal_distribution.png)"
   ]
  },
  {
   "cell_type": "code",
   "execution_count": null,
   "metadata": {},
   "outputs": [],
   "source": [
    "np.random.randn(3, 2)"
   ]
  },
  {
   "cell_type": "markdown",
   "metadata": {},
   "source": [
    "#### `np.random.normal()`"
   ]
  },
  {
   "cell_type": "markdown",
   "metadata": {},
   "source": [
    "`np.random.normal()`用于创建一个指定维度的、符合指定正态分布（**以`loc`为均值、`scale`为标准差**）的浮点数（数组）。"
   ]
  },
  {
   "cell_type": "markdown",
   "metadata": {},
   "source": [
    "`np.random.normal(loc=0.0, scale=1.0, size=None)`"
   ]
  },
  {
   "cell_type": "markdown",
   "metadata": {},
   "source": [
    "| 参数 | 说明 |\n",
    "| --- | --- |\n",
    "| loc | 采样样本分布的均值 |\n",
    "| scale | 采样样本分布的标准差 |\n",
    "| size | 样本维数 |"
   ]
  },
  {
   "cell_type": "markdown",
   "metadata": {},
   "source": [
    "在无任何参数的时候，`np.random.normal()`与`np.random.randn()`功能相同。"
   ]
  },
  {
   "cell_type": "markdown",
   "metadata": {},
   "source": [
    "【例】生成一个$ 3 \\times 2 $的数组，符合均值为5、标准差为10的正态分布。"
   ]
  },
  {
   "cell_type": "code",
   "execution_count": null,
   "metadata": {},
   "outputs": [],
   "source": [
    "np.random.normal(5, 10, (3, 2))"
   ]
  },
  {
   "cell_type": "markdown",
   "metadata": {},
   "source": [
    "在均值为5、标准差为10的正态分布下，大约68%的数据会分布在$ [5-10, 5+10] $之间。"
   ]
  },
  {
   "cell_type": "markdown",
   "metadata": {},
   "source": [
    "【例】生成一个$ 3 \\times 4 \\times 5 $的三维数组，符合均值为171.4、标准差为11.3的正态分布。"
   ]
  },
  {
   "cell_type": "code",
   "execution_count": null,
   "metadata": {},
   "outputs": [],
   "source": [
    "np.random.normal(171.4, 11.3, size=(3, 4, 5))"
   ]
  }
 ],
 "metadata": {
  "kernelspec": {
   "display_name": "Python 3",
   "language": "python",
   "name": "python3"
  },
  "language_info": {
   "codemirror_mode": {
    "name": "ipython",
    "version": 3
   },
   "file_extension": ".py",
   "mimetype": "text/x-python",
   "name": "python",
   "nbconvert_exporter": "python",
   "pygments_lexer": "ipython3",
   "version": "3.11.4"
  }
 },
 "nbformat": 4,
 "nbformat_minor": 2
}
