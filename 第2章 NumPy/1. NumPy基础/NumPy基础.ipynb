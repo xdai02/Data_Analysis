{
 "cells": [
  {
   "cell_type": "markdown",
   "metadata": {},
   "source": [
    "# NumPy基础"
   ]
  },
  {
   "cell_type": "markdown",
   "metadata": {},
   "source": [
    "## 简介"
   ]
  },
  {
   "cell_type": "markdown",
   "metadata": {},
   "source": [
    "`NumPy`是Numerical Python的缩写，它是Python的一个第三方模块，支持数组与矩阵的运算，并且针对数组运算提供大量便捷的数学函数库。\n",
    "\n",
    "`NumPy`大大简化了向量和矩阵的操作及处理流程，降低了数据开发的门槛。\n",
    "\n",
    "`Numpy`在数据分析、机器学习和科学计算领域，有着举足轻重的定位。数据分析用到的`Pandas`，数据挖掘和深度学习用到的`Scikit-learn`和`Tensorflow`，以及科学计算常用的`SciPy`，都是以`NumPy`为基础进行开发的。"
   ]
  },
  {
   "cell_type": "markdown",
   "metadata": {},
   "source": [
    "避免没有安装`numpy`库，可以每次都在开头加上以下命令。如果没有安装`numpy`，则会安装。"
   ]
  },
  {
   "cell_type": "code",
   "execution_count": null,
   "metadata": {},
   "outputs": [],
   "source": [
    "!pip install numpy"
   ]
  },
  {
   "cell_type": "markdown",
   "metadata": {},
   "source": [
    "导入`numpy`模块，设置别名为`np`。注意不要修改为别的名字，`np`已经成为了约定俗成的规范。"
   ]
  },
  {
   "cell_type": "code",
   "execution_count": null,
   "metadata": {},
   "outputs": [],
   "source": [
    "import numpy as np"
   ]
  },
  {
   "cell_type": "markdown",
   "metadata": {},
   "source": [
    "### 特点"
   ]
  },
  {
   "cell_type": "markdown",
   "metadata": {},
   "source": [
    "`NumPy`是一个运行速度非常快的数学库，主要包含如下能力：\n",
    "\n",
    "- 一个高效的N维数组对象`ndarray`\n",
    "- 广播功能函数，无须循环即可对数组进行快速运算\n",
    "- 读写磁盘以及操作内存映射文件\n",
    "- 一个用于集成 C / C++ / Fortran 代码的工具；\n",
    "- 线性代数、傅里叶变换、随机数生成等功能。\n",
    "\n",
    "其中`ndarray`对象是`NumPy`包的核心，`ndarray`对象和标准的Python序列数据结构的显著区别在于：\n",
    "\n",
    "- `ndarray`对象在创建时有固定的大小，这一点不同于Python列表\n",
    "- `ndarray`对象中的元素都具有相同的数据类型，因此在存储器中将具有相同的大小\n",
    "- `ndarray`对象便于对大量据进行高级数学和其它类型的操作。在大数据时代，对几百万甚至更大的数据进行频繁的循环迭代计算，于每一个数据开发者而言都是一场巨大的灾难，而`NumPy`利用矢量化运算，可以有效地避免这一点。"
   ]
  },
  {
   "cell_type": "markdown",
   "metadata": {},
   "source": [
    "【例】比较原生Python和`NumPy`"
   ]
  },
  {
   "cell_type": "code",
   "execution_count": null,
   "metadata": {},
   "outputs": [],
   "source": [
    "import time\n",
    "\n",
    "N = 10000000"
   ]
  },
  {
   "cell_type": "code",
   "execution_count": null,
   "metadata": {},
   "outputs": [],
   "source": [
    "start = time.time()\n",
    "data = [x**2 for x in range(N)]\n",
    "end = time.time()\n",
    "end - start"
   ]
  },
  {
   "cell_type": "code",
   "execution_count": null,
   "metadata": {},
   "outputs": [],
   "source": [
    "start = time.time()\n",
    "data = np.arange(N) ** 2\n",
    "end = time.time()\n",
    "end - start"
   ]
  },
  {
   "cell_type": "markdown",
   "metadata": {},
   "source": [
    "`NumPy`是基于C开发，因此继承了C运算速度快、消耗资源少等优点，`NumPy`被广泛应用于数据分析、机器学习和深度学习等领域。"
   ]
  },
  {
   "cell_type": "markdown",
   "metadata": {},
   "source": [
    "## 应用领域"
   ]
  },
  {
   "cell_type": "markdown",
   "metadata": {},
   "source": [
    "1. 科学计算\n",
    "\n",
    "`NumPy`通常与`SciPy` (Scientific Python)和`Matplotlib`一起使用，进行数值计算或者统计分析。\n",
    "\n",
    "2. 数据分析\n",
    "\n",
    "`NumPy`专注于数组数据的处理，其和`Pandas`一起使用的时候，这种组合则将应用范畴从数据拓展到各种表格和杂乱的数据格式，是一个非常有用的工作助力。在大数据时代，经过合理的优化编排，`Numpy`和`Pandas`组合处理几个G的数据绰绰有余，甚至处理能力上探到几十个G。"
   ]
  },
  {
   "cell_type": "markdown",
   "metadata": {},
   "source": [
    "## ndarray对象"
   ]
  },
  {
   "cell_type": "markdown",
   "metadata": {},
   "source": [
    "`ndarray`是一个N维数组对象，是`NumPy`最核心的组成部分。你可以把它视为一个快速而灵活的大数据集容器，利用这种数组你可以便捷地执行一些数学运算。\n",
    "\n",
    "`ndarray`有两个显著特点：\n",
    "\n",
    "1. `ndarray`是一个通用的同构数据多维容器，也就是说，该容器中的每一个元素都必须是相同类型的，且每个元素在内存中都有相同存储大小的区域。\n",
    "\n",
    "2. `ndarray`具有矢量算术运算能力和复杂的广播能力，并具有执行速度快和节省空间的特点。"
   ]
  },
  {
   "cell_type": "markdown",
   "metadata": {},
   "source": [
    "### np.array()"
   ]
  },
  {
   "cell_type": "markdown",
   "metadata": {},
   "source": [
    "`np.array(object, dtype=None, copy=True, ndmin=0)`"
   ]
  },
  {
   "cell_type": "markdown",
   "metadata": {},
   "source": [
    "| 参数 | 说明 |\n",
    "| --- | --- |\n",
    "| object | 序列类型 |\n",
    "| dtype | 数据类型，指定数组的元素类型 |\n",
    "| copy | 对象是否被复制，默认为`True` |\n",
    "| ndmin | 返回数组的最小维度 |"
   ]
  },
  {
   "cell_type": "code",
   "execution_count": null,
   "metadata": {},
   "outputs": [],
   "source": [
    "arr = np.array([1, 4, 3, 7, 2])\n",
    "arr"
   ]
  },
  {
   "cell_type": "markdown",
   "metadata": {},
   "source": [
    "在未指定`dtype`时，会根据传入的序列类型推断一个合理的数据类型。"
   ]
  },
  {
   "cell_type": "code",
   "execution_count": null,
   "metadata": {},
   "outputs": [],
   "source": [
    "arr.dtype"
   ]
  },
  {
   "cell_type": "markdown",
   "metadata": {},
   "source": [
    "当然也可以直接在创建时利用`dtype`参数指定数据类型。"
   ]
  },
  {
   "cell_type": "code",
   "execution_count": null,
   "metadata": {},
   "outputs": [],
   "source": [
    "arr = np.array([[1, 2, 3.2], [4, 5.1, 6], [7.3, 8, 9]], dtype='float')\n",
    "print(arr)\n",
    "print(arr.dtype)"
   ]
  },
  {
   "cell_type": "markdown",
   "metadata": {},
   "source": [
    "利用`ndmin`参数可以指定数组的维度。"
   ]
  },
  {
   "cell_type": "code",
   "execution_count": null,
   "metadata": {},
   "outputs": [],
   "source": [
    "arr = np.array([1, 4, 3, 7, 2], ndmin=2)\n",
    "arr"
   ]
  },
  {
   "cell_type": "markdown",
   "metadata": {},
   "source": [
    "### np.zeros()"
   ]
  },
  {
   "cell_type": "markdown",
   "metadata": {},
   "source": [
    "`np.zeros()`用于创建一个指定大小、以`0`填充的数组。"
   ]
  },
  {
   "cell_type": "code",
   "execution_count": null,
   "metadata": {},
   "outputs": [],
   "source": [
    "np.zeros(4)"
   ]
  },
  {
   "cell_type": "markdown",
   "metadata": {},
   "source": [
    "多维数组需要传入元组。"
   ]
  },
  {
   "cell_type": "code",
   "execution_count": null,
   "metadata": {},
   "outputs": [],
   "source": [
    "np.zeros((2, 3), dtype='int')"
   ]
  },
  {
   "cell_type": "markdown",
   "metadata": {},
   "source": [
    "### np.ones()"
   ]
  },
  {
   "cell_type": "markdown",
   "metadata": {},
   "source": [
    "`np.ones()`用于创建一个指定大小、以`1`填充的数组。"
   ]
  },
  {
   "cell_type": "code",
   "execution_count": null,
   "metadata": {},
   "outputs": [],
   "source": [
    "np.ones((3, 3))"
   ]
  },
  {
   "cell_type": "markdown",
   "metadata": {},
   "source": [
    "也可以指定类型。"
   ]
  },
  {
   "cell_type": "code",
   "execution_count": null,
   "metadata": {},
   "outputs": [],
   "source": [
    "np.ones(5, dtype=np.int32)"
   ]
  },
  {
   "cell_type": "markdown",
   "metadata": {},
   "source": [
    "### np.empty()"
   ]
  },
  {
   "cell_type": "markdown",
   "metadata": {},
   "source": [
    "`np.empty()`用于创建一个指定大小、**没有具体值**的数组。"
   ]
  },
  {
   "cell_type": "code",
   "execution_count": null,
   "metadata": {},
   "outputs": [],
   "source": [
    "np.empty((3, 2, 3))"
   ]
  },
  {
   "cell_type": "markdown",
   "metadata": {},
   "source": [
    "`np.empty()`并不会将数组初始化，返回的是一些没有规律的垃圾值。"
   ]
  },
  {
   "cell_type": "markdown",
   "metadata": {},
   "source": [
    "### np.identity()"
   ]
  },
  {
   "cell_type": "markdown",
   "metadata": {},
   "source": [
    "`np.identity()`用于创建一个指定大小的单位矩阵（对角线为`1`）。"
   ]
  },
  {
   "cell_type": "code",
   "execution_count": null,
   "metadata": {},
   "outputs": [],
   "source": [
    "np.identity(3)"
   ]
  },
  {
   "cell_type": "markdown",
   "metadata": {},
   "source": [
    "### np.eye()"
   ]
  },
  {
   "cell_type": "markdown",
   "metadata": {},
   "source": [
    "`np.eye()`用于创建一个指定大小、对角线为`1`的数组。"
   ]
  },
  {
   "cell_type": "markdown",
   "metadata": {},
   "source": [
    "`np.eye(N, M=None, k=0, dtype=<type 'float'>)`"
   ]
  },
  {
   "cell_type": "markdown",
   "metadata": {},
   "source": [
    "| 参数 | 说明 |\n",
    "| --- | --- |\n",
    "| N | 行 |\n",
    "| M | 列，省略时与`N`相同 |\n",
    "| k | 对角线偏移量，为`0`时为主对角线 |\n",
    "| dtype | 数据类型 |"
   ]
  },
  {
   "cell_type": "code",
   "execution_count": null,
   "metadata": {},
   "outputs": [],
   "source": [
    "np.eye(N=3, M=4)"
   ]
  },
  {
   "cell_type": "code",
   "execution_count": null,
   "metadata": {},
   "outputs": [],
   "source": [
    "np.eye(3)"
   ]
  },
  {
   "cell_type": "code",
   "execution_count": null,
   "metadata": {},
   "outputs": [],
   "source": [
    "np.eye(N=3, M=4, k=1)"
   ]
  },
  {
   "cell_type": "markdown",
   "metadata": {},
   "source": [
    "## 数据类型"
   ]
  },
  {
   "cell_type": "markdown",
   "metadata": {},
   "source": [
    "`NumPy`支持的常用数据类型："
   ]
  },
  {
   "cell_type": "markdown",
   "metadata": {},
   "source": [
    "| 类型 | 说明 |\n",
    "| --- | --- |\n",
    "| int8、uint8 | 有符号、无符号8位整型，范围为-128 ~ 127、0 ~ 255 |\n",
    "| int16、uint16 | 有符号、无符号16位整型，范围为-32768 ~ 32767、0 ~ 65535 |\n",
    "| int32、uint32 | 有符号、无符号32位整型，范围为-2147483648 ~ 2147483647、0 ~ 4294967295 |\n",
    "| int64、uint64 | 有符号、无符号64位整型，范围为-9223372036854775808 ~ 9223372036854775807、0 ~ 18446744073709551615 |\n",
    "| float16、float32、float64、float128 | 半精度浮点数、单精度浮点、双精度浮点、扩展精度浮点数 |\n",
    "| complex64、complex128、complex256 | 64位、128位、256位浮点数表示的复数 |\n",
    "| bool_ | True / False |\n",
    "| Object | Python对象类型 |\n",
    "| string_ | 类型代号`S`，表示固定长度字符串。如果要创建一个长度为10的字符串，则使用S10 |\n",
    "| unicode_ | 类型代号`U`，固定长度的`unicode`类型，跟字符串的定义方式一样，例如U8 |"
   ]
  },
  {
   "cell_type": "code",
   "execution_count": null,
   "metadata": {},
   "outputs": [],
   "source": [
    "arr = np.array([[1, 2, 3], [4, 5, 6]], dtype=np.int8)\n",
    "arr"
   ]
  },
  {
   "cell_type": "code",
   "execution_count": null,
   "metadata": {},
   "outputs": [],
   "source": [
    "arr = np.array([[-1, 0, -3], [4, -5, 6]], dtype=np.bool_)\n",
    "print(arr)\n",
    "print(arr.dtype)"
   ]
  },
  {
   "cell_type": "markdown",
   "metadata": {},
   "source": [
    "### 更改数据类型"
   ]
  },
  {
   "cell_type": "markdown",
   "metadata": {},
   "source": [
    "对于已经定义好的数组，也可以通过`astype()`对`dtype`进行修改。"
   ]
  },
  {
   "cell_type": "code",
   "execution_count": null,
   "metadata": {},
   "outputs": [],
   "source": [
    "arr = np.array([1, 2, 3, 4], dtype=np.int16)\n",
    "arr"
   ]
  },
  {
   "cell_type": "code",
   "execution_count": null,
   "metadata": {},
   "outputs": [],
   "source": [
    "arr = arr.astype(np.float32)\n",
    "arr"
   ]
  },
  {
   "cell_type": "markdown",
   "metadata": {},
   "source": [
    "对于保存数值的字符串，也是可以直接转换为数值类型的。"
   ]
  },
  {
   "cell_type": "code",
   "execution_count": null,
   "metadata": {},
   "outputs": [],
   "source": [
    "arr = np.array([['1.2', '2.8'], ['4.3', '5.7']], dtype=np.string_)\n",
    "arr.astype(np.float16)"
   ]
  },
  {
   "cell_type": "markdown",
   "metadata": {},
   "source": [
    "## 数组属性与方法"
   ]
  },
  {
   "cell_type": "markdown",
   "metadata": {},
   "source": [
    "### `ndim`"
   ]
  },
  {
   "cell_type": "markdown",
   "metadata": {},
   "source": [
    "数组的维度，即秩，用于表示数组轴的数量或维度的数量。"
   ]
  },
  {
   "cell_type": "markdown",
   "metadata": {},
   "source": [
    "对于一维数组，秩为1，也就是只有一个轴（axis）。"
   ]
  },
  {
   "cell_type": "code",
   "execution_count": null,
   "metadata": {},
   "outputs": [],
   "source": [
    "arr = np.array([1, 2, 3])\n",
    "arr.ndim"
   ]
  },
  {
   "cell_type": "markdown",
   "metadata": {},
   "source": [
    "对于二维数组，秩为2，也就是有两个轴。"
   ]
  },
  {
   "cell_type": "code",
   "execution_count": null,
   "metadata": {},
   "outputs": [],
   "source": [
    "arr = np.array([[1, 2, 3], [4, 5, 6],[7,8,9]])\n",
    "arr.ndim"
   ]
  },
  {
   "cell_type": "markdown",
   "metadata": {},
   "source": [
    "<img src=\"./img/axis.jpg\" style=\"background-color: white; width: 800px\"/>"
   ]
  },
  {
   "cell_type": "markdown",
   "metadata": {},
   "source": [
    "### `shape`"
   ]
  },
  {
   "cell_type": "markdown",
   "metadata": {},
   "source": [
    "数组的维度，对应于矩阵的行和列。\n",
    "\n",
    "通过`shape`可以查询数组的维度，该方法返回一个元组，这个元组的长度就是数组的维度。"
   ]
  },
  {
   "cell_type": "code",
   "execution_count": null,
   "metadata": {},
   "outputs": [],
   "source": [
    "arr = np.array([1, 2, 3])\n",
    "arr.shape"
   ]
  },
  {
   "cell_type": "code",
   "execution_count": null,
   "metadata": {},
   "outputs": [],
   "source": [
    "arr = np.array([[1, 2, 3], [4, 5, 6]])\n",
    "arr.shape"
   ]
  },
  {
   "cell_type": "markdown",
   "metadata": {},
   "source": [
    "### `reshape()`"
   ]
  },
  {
   "cell_type": "markdown",
   "metadata": {},
   "source": [
    "`reshape()`用于改变数组的维度，对数组重排。"
   ]
  },
  {
   "cell_type": "markdown",
   "metadata": {},
   "source": [
    "`ndarray.reshape(newshape, order=\"C\")`"
   ]
  },
  {
   "cell_type": "markdown",
   "metadata": {},
   "source": [
    "| 参数 | 说明 |\n",
    "| --- | --- |\n",
    "| newshape | 变更后的数组维度 |\n",
    "| order | 重排方式，可选C、F、A，用于指定读写顺序。C指按C语言风格按行顺序；F指按Fortran语言风格按列顺序；A指根据内存顺序。"
   ]
  },
  {
   "cell_type": "code",
   "execution_count": null,
   "metadata": {},
   "outputs": [],
   "source": [
    "arr = np.array(range(20))\n",
    "arr"
   ]
  },
  {
   "cell_type": "code",
   "execution_count": null,
   "metadata": {},
   "outputs": [],
   "source": [
    "arr.reshape((5, 4))"
   ]
  },
  {
   "cell_type": "code",
   "execution_count": null,
   "metadata": {},
   "outputs": [],
   "source": [
    "arr.reshape((5, 4), order='F')"
   ]
  },
  {
   "cell_type": "markdown",
   "metadata": {},
   "source": [
    "### size"
   ]
  },
  {
   "cell_type": "markdown",
   "metadata": {},
   "source": [
    "`size`用于查看数组中的元素总个数。"
   ]
  },
  {
   "cell_type": "code",
   "execution_count": null,
   "metadata": {},
   "outputs": [],
   "source": [
    "arr = np.array(range(15)).reshape((3, 5))\n",
    "print(arr)\n",
    "print(arr.size)"
   ]
  },
  {
   "cell_type": "markdown",
   "metadata": {},
   "source": [
    "### itemsize"
   ]
  },
  {
   "cell_type": "markdown",
   "metadata": {},
   "source": [
    "`itemsize`返回数组中单个元素所占字节数。"
   ]
  },
  {
   "cell_type": "code",
   "execution_count": null,
   "metadata": {},
   "outputs": [],
   "source": [
    "arr = np.array([1, 2, 3, 4], dtype=np.int32)\n",
    "arr.itemsize"
   ]
  },
  {
   "cell_type": "code",
   "execution_count": null,
   "metadata": {},
   "outputs": [],
   "source": [
    "arr = np.array([1, 2, 3, 4], dtype=np.float64)\n",
    "arr.itemsize"
   ]
  }
 ],
 "metadata": {
  "kernelspec": {
   "display_name": "Python 3",
   "language": "python",
   "name": "python3"
  },
  "language_info": {
   "codemirror_mode": {
    "name": "ipython",
    "version": 3
   },
   "file_extension": ".py",
   "mimetype": "text/x-python",
   "name": "python",
   "nbconvert_exporter": "python",
   "pygments_lexer": "ipython3",
   "version": "3.11.4"
  }
 },
 "nbformat": 4,
 "nbformat_minor": 2
}
