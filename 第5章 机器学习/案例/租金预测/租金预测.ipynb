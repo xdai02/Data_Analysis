{
 "cells": [
  {
   "cell_type": "markdown",
   "metadata": {},
   "source": [
    "# 租金预测"
   ]
  },
  {
   "cell_type": "markdown",
   "metadata": {},
   "source": [
    "这个项目用于研究并预测某地的房屋租金。"
   ]
  },
  {
   "cell_type": "code",
   "execution_count": null,
   "metadata": {},
   "outputs": [],
   "source": [
    "import numpy as np\n",
    "import pandas as pd\n",
    "import matplotlib.pyplot as plt\n",
    "from sklearn.neighbors import NearestNeighbors\n",
    "from sklearn.linear_model import LinearRegression\n",
    "from sklearn.tree import DecisionTreeRegressor\n",
    "from sklearn.ensemble import RandomForestRegressor\n",
    "from sklearn.ensemble import GradientBoostingRegressor"
   ]
  },
  {
   "cell_type": "code",
   "execution_count": null,
   "metadata": {},
   "outputs": [],
   "source": [
    "%matplotlib inline"
   ]
  },
  {
   "cell_type": "code",
   "execution_count": null,
   "metadata": {},
   "outputs": [],
   "source": [
    "plt.rcParams['font.sans-serif'] = ['SimHei']\n",
    "plt.rcParams['axes.unicode_minus'] = False"
   ]
  },
  {
   "cell_type": "markdown",
   "metadata": {},
   "source": [
    "## 数据分析"
   ]
  },
  {
   "cell_type": "code",
   "execution_count": null,
   "metadata": {},
   "outputs": [],
   "source": [
    "df_train = pd.read_csv('./Datasets/train.csv')\n",
    "df_train.head()"
   ]
  },
  {
   "cell_type": "markdown",
   "metadata": {},
   "source": [
    "根据训练集中房屋的位置和租金信息，可以大致了解不同地区租金的范围。"
   ]
  },
  {
   "cell_type": "code",
   "execution_count": null,
   "metadata": {},
   "outputs": [],
   "source": [
    "plt.figure(figsize=(12, 8))\n",
    "plt.scatter(df_train['Latitude'], df_train['Longitude'], c=df_train['Rental'], cmap='viridis', s=30, alpha=0.6)\n",
    "plt.colorbar(label='租金')\n",
    "plt.xlabel('纬度')\n",
    "plt.ylabel('经度')\n",
    "plt.title('租金分布图')\n",
    "plt.show()"
   ]
  },
  {
   "cell_type": "markdown",
   "metadata": {},
   "source": [
    "可以发现不同地区的租金范围大致相同，并没有出现某个地区的租金远低于或超出其它地区。"
   ]
  },
  {
   "cell_type": "markdown",
   "metadata": {},
   "source": [
    "### 商场分布"
   ]
  },
  {
   "cell_type": "code",
   "execution_count": null,
   "metadata": {},
   "outputs": [],
   "source": [
    "shopping_malls = pd.read_csv('./Datasets/shopping-malls.csv')\n",
    "shopping_malls.head()"
   ]
  },
  {
   "cell_type": "markdown",
   "metadata": {},
   "source": [
    "在图上标记出所有商场的位置。"
   ]
  },
  {
   "cell_type": "code",
   "execution_count": null,
   "metadata": {},
   "outputs": [],
   "source": [
    "plt.figure(figsize=(12, 8))\n",
    "plt.scatter(df_train['Latitude'], df_train['Longitude'], c='blue', s=30, alpha=0.6, label='房屋')\n",
    "plt.scatter(shopping_malls['Latitude'], shopping_malls['Longitude'], c='red', marker='x', s=100, label='商场')\n",
    "plt.xlabel('纬度')\n",
    "plt.ylabel('经度')\n",
    "plt.title('商场分布图')\n",
    "plt.legend()\n",
    "plt.show()"
   ]
  },
  {
   "cell_type": "markdown",
   "metadata": {},
   "source": [
    "大部分的地区周边都有2个以上的商场，大量商场主要集中在西边的地区。"
   ]
  },
  {
   "cell_type": "markdown",
   "metadata": {},
   "source": [
    "### 小学分布"
   ]
  },
  {
   "cell_type": "code",
   "execution_count": null,
   "metadata": {},
   "outputs": [],
   "source": [
    "primary_schools = pd.read_csv('./Datasets/primary-schools.csv')\n",
    "primary_schools.head()"
   ]
  },
  {
   "cell_type": "markdown",
   "metadata": {},
   "source": [
    "在图上标记出所有小学的位置。"
   ]
  },
  {
   "cell_type": "code",
   "execution_count": null,
   "metadata": {},
   "outputs": [],
   "source": [
    "plt.figure(figsize=(12, 8))\n",
    "plt.scatter(df_train['Latitude'], df_train['Longitude'], c='blue', s=30, alpha=0.6, label='房屋')\n",
    "plt.scatter(primary_schools['Latitude'], primary_schools['Longitude'], c='green', marker='^', s=100, label='小学')\n",
    "plt.xlabel('纬度')\n",
    "plt.ylabel('经度')\n",
    "plt.title('小学分布图')\n",
    "plt.legend()\n",
    "plt.show()"
   ]
  },
  {
   "cell_type": "markdown",
   "metadata": {},
   "source": [
    "小学的分布相比商场更加均匀，各个地区都有至少5个以上的小学。"
   ]
  },
  {
   "cell_type": "markdown",
   "metadata": {},
   "source": [
    "## 数据清洗"
   ]
  },
  {
   "cell_type": "code",
   "execution_count": null,
   "metadata": {},
   "outputs": [],
   "source": [
    "df_train.head()"
   ]
  },
  {
   "cell_type": "markdown",
   "metadata": {},
   "source": [
    "由于训练集中所有的`Furnished`值都相同，它们对分析无法提供任何帮助，因此也可以删除。"
   ]
  },
  {
   "cell_type": "code",
   "execution_count": null,
   "metadata": {},
   "outputs": [],
   "source": [
    "df_train.drop('Furnished', axis=1, inplace=True)\n",
    "df_train.head()"
   ]
  },
  {
   "cell_type": "markdown",
   "metadata": {},
   "source": [
    "`Type`这列中的数据格式不统一，例如`3 room`和`3-room`其实是同样的房型。"
   ]
  },
  {
   "cell_type": "code",
   "execution_count": null,
   "metadata": {},
   "outputs": [],
   "source": [
    "df_train['Type'].unique()"
   ]
  },
  {
   "cell_type": "code",
   "execution_count": null,
   "metadata": {},
   "outputs": [],
   "source": [
    "df_train['Type'] = df_train['Type'].replace({\n",
    "    '1 room': '1-room',\n",
    "    '2 room': '2-room',\n",
    "    '3 room': '3-room',\n",
    "    '4 room': '4-room',\n",
    "    '5 room': '5-room',\n",
    "})\n",
    "df_train['Type'].unique()"
   ]
  },
  {
   "cell_type": "markdown",
   "metadata": {},
   "source": [
    "一般而言，卧室数量越多，房屋的租金也会越贵。因此`2-room`、`3-room`、`4-room`、`5-room`可以方便地转换为数值。"
   ]
  },
  {
   "cell_type": "code",
   "execution_count": null,
   "metadata": {},
   "outputs": [],
   "source": [
    "df_train['Type'] = df_train['Type'].map({\n",
    "    '1-room': 1,\n",
    "    '2-room': 2,\n",
    "    '3-room': 3,\n",
    "    '4-room': 4,\n",
    "    '5-room': 5,\n",
    "})\n",
    "df_train[['Type']].head()"
   ]
  },
  {
   "cell_type": "code",
   "execution_count": null,
   "metadata": {},
   "outputs": [],
   "source": [
    "df_train.head()"
   ]
  },
  {
   "cell_type": "markdown",
   "metadata": {},
   "source": [
    "将租金生效日期`Date`拆分为`Year`和`Month`会更方便模型进行分析。"
   ]
  },
  {
   "cell_type": "code",
   "execution_count": null,
   "metadata": {},
   "outputs": [],
   "source": [
    "df_train = df_train.copy()\n",
    "\n",
    "df_train['Year'] = pd.DatetimeIndex(df_train['Date']).year\n",
    "df_train['Month'] = pd.DatetimeIndex(df_train['Date']).month\n",
    "df_train.drop('Date', axis=1, inplace=True)\n",
    "\n",
    "df_train[['Year', 'Month']].head()"
   ]
  },
  {
   "cell_type": "markdown",
   "metadata": {},
   "source": [
    "### 数据清洗函数"
   ]
  },
  {
   "cell_type": "markdown",
   "metadata": {},
   "source": [
    "为了方便后续操作，将以上数据预处理的操作整合为一个函数。"
   ]
  },
  {
   "cell_type": "code",
   "execution_count": null,
   "metadata": {},
   "outputs": [],
   "source": [
    "def preprocessing(df):\n",
    "    df = df.copy()\n",
    "\n",
    "    df.drop('Furnished', axis=1, inplace=True)\n",
    "\n",
    "    df['Type'] = df['Type'].replace({\n",
    "        '1 room': '1-room',\n",
    "        '2 room': '2-room',\n",
    "        '3 room': '3-room',\n",
    "        '4 room': '4-room',\n",
    "        '5 room': '5-room'\n",
    "    })\n",
    "\n",
    "    df['Type'] = df['Type'].map({\n",
    "        '1-room': 1,\n",
    "        '2-room': 2,\n",
    "        '3-room': 3,\n",
    "        '4-room': 4,\n",
    "        '5-room': 5\n",
    "    })\n",
    "\n",
    "    df['Year'] = pd.DatetimeIndex(df['Date']).year\n",
    "    df['Month'] = pd.DatetimeIndex(df['Date']).month\n",
    "    df.drop('Date', axis=1, inplace=True)\n",
    "    \n",
    "    return df"
   ]
  },
  {
   "cell_type": "markdown",
   "metadata": {},
   "source": [
    "## 合并辅助信息"
   ]
  },
  {
   "cell_type": "markdown",
   "metadata": {},
   "source": [
    "将商场和小学的位置信息添加到训练集中有助于提高模型预测的准确性。"
   ]
  },
  {
   "cell_type": "markdown",
   "metadata": {},
   "source": [
    "KNN算法可以用于计算房屋周边商场和小学的数量和距离。\n",
    "\n",
    "这里将考察房屋方圆2km内的商场和小学。在训练集中将会添加：\n",
    "\n",
    "1. `num_of_shopping_malls`：表示周边商场数量\n",
    "2. `distance_to_nearest_shopping_mall`：到最近商场的距离\n",
    "3. `num_of_primary_schools`：表示周边小学数量\n",
    "4. `distance_to_nearest_primary_school`：到最近小学的距离"
   ]
  },
  {
   "cell_type": "markdown",
   "metadata": {},
   "source": [
    "根据经纬度信息和实际距离，可以大致计算出比例尺。"
   ]
  },
  {
   "cell_type": "code",
   "execution_count": null,
   "metadata": {},
   "outputs": [],
   "source": [
    "km_scale = lambda km: km * 0.00552\n",
    "km_radius = 2"
   ]
  },
  {
   "cell_type": "markdown",
   "metadata": {},
   "source": [
    "### 商场"
   ]
  },
  {
   "cell_type": "code",
   "execution_count": null,
   "metadata": {},
   "outputs": [],
   "source": [
    "knn = NearestNeighbors(radius=km_scale(km_radius))\n",
    "knn.fit(shopping_malls[['Latitude', 'Longitude']])\n",
    "indices_train = knn.radius_neighbors(df_train[['Latitude', 'Longitude']], return_distance=False)\n",
    "df_train['num_of_shopping_malls'] = [len(indices) for indices in indices_train]"
   ]
  },
  {
   "cell_type": "code",
   "execution_count": null,
   "metadata": {},
   "outputs": [],
   "source": [
    "knn = NearestNeighbors(n_neighbors=1)\n",
    "knn.fit(shopping_malls[['Latitude', 'Longitude']])\n",
    "distances_train, _ = knn.kneighbors(df_train[['Latitude', 'Longitude']])\n",
    "df_train['distance_to_nearest_shopping_mall'] = distances_train.flatten()"
   ]
  },
  {
   "cell_type": "code",
   "execution_count": null,
   "metadata": {},
   "outputs": [],
   "source": [
    "df_train[['num_of_shopping_malls', 'distance_to_nearest_shopping_mall']].head()"
   ]
  },
  {
   "cell_type": "markdown",
   "metadata": {},
   "source": [
    "### 小学"
   ]
  },
  {
   "cell_type": "code",
   "execution_count": null,
   "metadata": {},
   "outputs": [],
   "source": [
    "knn = NearestNeighbors(radius=km_scale(km_radius))\n",
    "knn.fit(primary_schools[['Latitude', 'Longitude']])\n",
    "indices_train = knn.radius_neighbors(df_train[['Latitude', 'Longitude']], return_distance=False)\n",
    "df_train['num_of_primary_schools'] = [len(indices) for indices in indices_train]"
   ]
  },
  {
   "cell_type": "code",
   "execution_count": null,
   "metadata": {},
   "outputs": [],
   "source": [
    "knn = NearestNeighbors(n_neighbors=1)\n",
    "knn.fit(primary_schools[['Latitude', 'Longitude']])\n",
    "distances_train, _ = knn.kneighbors(df_train[['Latitude', 'Longitude']])\n",
    "df_train['distance_to_nearest_primary_school'] = distances_train.flatten()"
   ]
  },
  {
   "cell_type": "code",
   "execution_count": null,
   "metadata": {},
   "outputs": [],
   "source": [
    "df_train[['num_of_primary_schools', 'distance_to_nearest_primary_school']].head()"
   ]
  },
  {
   "cell_type": "markdown",
   "metadata": {},
   "source": [
    "至此，我们得到了一个经过预处理的数据集。"
   ]
  },
  {
   "cell_type": "code",
   "execution_count": null,
   "metadata": {},
   "outputs": [],
   "source": [
    "df_train.head()"
   ]
  },
  {
   "cell_type": "markdown",
   "metadata": {},
   "source": [
    "### 合并辅助信息函数"
   ]
  },
  {
   "cell_type": "markdown",
   "metadata": {},
   "source": [
    "为了方便后续操作，将以上合并商场和小学信息的操作整合为函数。"
   ]
  },
  {
   "cell_type": "code",
   "execution_count": null,
   "metadata": {},
   "outputs": [],
   "source": [
    "def integrate_shopping_mall(df):\n",
    "    shopping_malls = pd.read_csv('./Datasets/shopping-malls.csv')\n",
    "\n",
    "    knn = NearestNeighbors(radius=km_scale(km_radius))\n",
    "    knn.fit(shopping_malls[['Latitude', 'Longitude']])\n",
    "    indices_train = knn.radius_neighbors(df[['Latitude', 'Longitude']], return_distance=False)\n",
    "    df['num_of_shopping_malls'] = [len(indices) for indices in indices_train]\n",
    "\n",
    "    knn = NearestNeighbors(n_neighbors=1)\n",
    "    knn.fit(shopping_malls[['Latitude', 'Longitude']])\n",
    "    distances_train, _ = knn.kneighbors(df[['Latitude', 'Longitude']])\n",
    "    df['distance_to_nearest_shopping_mall'] = distances_train.flatten()\n",
    "\n",
    "    df[['num_of_shopping_malls', 'distance_to_nearest_shopping_mall']].head()\n",
    "\n",
    "    return df"
   ]
  },
  {
   "cell_type": "code",
   "execution_count": null,
   "metadata": {},
   "outputs": [],
   "source": [
    "def integrate_primary_school(df):\n",
    "    primary_schools = pd.read_csv('./Datasets/primary-schools.csv')\n",
    "\n",
    "    knn = NearestNeighbors(radius=km_scale(km_radius))\n",
    "    knn.fit(primary_schools[['Latitude', 'Longitude']])\n",
    "    indices_train = knn.radius_neighbors(df[['Latitude', 'Longitude']], return_distance=False)\n",
    "    df['num_of_primary_schools'] = [len(indices) for indices in indices_train]\n",
    "\n",
    "    knn = NearestNeighbors(n_neighbors=1)\n",
    "    knn.fit(primary_schools[['Latitude', 'Longitude']])\n",
    "    distances_train, _ = knn.kneighbors(df[['Latitude', 'Longitude']])\n",
    "    df['distance_to_nearest_primary_school'] = distances_train.flatten()\n",
    "\n",
    "    df[['num_of_primary_schools', 'distance_to_nearest_primary_school']].head()\n",
    "\n",
    "    return df"
   ]
  },
  {
   "cell_type": "markdown",
   "metadata": {},
   "source": [
    "## 预测模型"
   ]
  },
  {
   "cell_type": "markdown",
   "metadata": {},
   "source": [
    "获取**输入特征**和**目标变量**。"
   ]
  },
  {
   "cell_type": "code",
   "execution_count": null,
   "metadata": {},
   "outputs": [],
   "source": [
    "x_train = df_train.drop('Rental', axis=1)\n",
    "y_train = df_train['Rental']"
   ]
  },
  {
   "cell_type": "markdown",
   "metadata": {},
   "source": [
    "读取测试集，并进行预处理。"
   ]
  },
  {
   "cell_type": "code",
   "execution_count": null,
   "metadata": {},
   "outputs": [],
   "source": [
    "df_test = pd.read_csv('./Datasets/test.csv')\n",
    "df_test = preprocessing(df_test)\n",
    "df_test = integrate_shopping_mall(df_test)\n",
    "df_test = integrate_primary_school(df_test)\n",
    "\n",
    "df_test.head()"
   ]
  },
  {
   "cell_type": "markdown",
   "metadata": {},
   "source": [
    "### 线性回归Linear Regression"
   ]
  },
  {
   "cell_type": "code",
   "execution_count": null,
   "metadata": {},
   "outputs": [],
   "source": [
    "test = df_test.copy()"
   ]
  },
  {
   "cell_type": "code",
   "execution_count": null,
   "metadata": {},
   "outputs": [],
   "source": [
    "model = LinearRegression()\n",
    "model.fit(x_train, y_train)\n",
    "\n",
    "test['Predicted'] = model.predict(test)\n",
    "test.head()"
   ]
  },
  {
   "cell_type": "markdown",
   "metadata": {},
   "source": [
    "导出预测结果："
   ]
  },
  {
   "cell_type": "code",
   "execution_count": null,
   "metadata": {},
   "outputs": [],
   "source": [
    "df_result = pd.DataFrame({\n",
    "    'Id': range(len(test)),\n",
    "    'Predicted': test['Predicted']\n",
    "})\n",
    "\n",
    "df_result.to_csv('./submission_linear_regression.csv', index=False)"
   ]
  },
  {
   "cell_type": "markdown",
   "metadata": {},
   "source": [
    "### 决策树Decision Tree"
   ]
  },
  {
   "cell_type": "code",
   "execution_count": null,
   "metadata": {},
   "outputs": [],
   "source": [
    "test = df_test.copy()"
   ]
  },
  {
   "cell_type": "code",
   "execution_count": null,
   "metadata": {},
   "outputs": [],
   "source": [
    "model = DecisionTreeRegressor(random_state=0)\n",
    "model.fit(x_train, y_train)\n",
    "\n",
    "test['Predicted'] = model.predict(test)\n",
    "test.head()"
   ]
  },
  {
   "cell_type": "markdown",
   "metadata": {},
   "source": [
    "导出预测结果："
   ]
  },
  {
   "cell_type": "code",
   "execution_count": null,
   "metadata": {},
   "outputs": [],
   "source": [
    "df_result = pd.DataFrame({\n",
    "    'Id': range(len(test)),\n",
    "    'Predicted': test['Predicted']\n",
    "})\n",
    "\n",
    "df_result.to_csv('./submission_decision_tree.csv', index=False)"
   ]
  },
  {
   "cell_type": "markdown",
   "metadata": {},
   "source": [
    "### 随机森林Random Forest"
   ]
  },
  {
   "cell_type": "code",
   "execution_count": null,
   "metadata": {},
   "outputs": [],
   "source": [
    "test = df_test.copy()"
   ]
  },
  {
   "cell_type": "code",
   "execution_count": null,
   "metadata": {},
   "outputs": [],
   "source": [
    "model = RandomForestRegressor(n_estimators=100, random_state=0)\n",
    "model.fit(x_train, y_train)\n",
    "\n",
    "test['Predicted'] = model.predict(test)\n",
    "test.head()"
   ]
  },
  {
   "cell_type": "markdown",
   "metadata": {},
   "source": [
    "导出预测结果："
   ]
  },
  {
   "cell_type": "code",
   "execution_count": null,
   "metadata": {},
   "outputs": [],
   "source": [
    "df_result = pd.DataFrame({\n",
    "    'Id': range(len(test)),\n",
    "    'Predicted': test['Predicted']\n",
    "})\n",
    "\n",
    "df_result.to_csv('./submission_random_forest.csv', index=False)"
   ]
  },
  {
   "cell_type": "markdown",
   "metadata": {},
   "source": [
    "### 梯度提升Gradient Boosting"
   ]
  },
  {
   "cell_type": "code",
   "execution_count": null,
   "metadata": {},
   "outputs": [],
   "source": [
    "test = df_test.copy()"
   ]
  },
  {
   "cell_type": "code",
   "execution_count": null,
   "metadata": {},
   "outputs": [],
   "source": [
    "model = GradientBoostingRegressor(n_estimators=100, learning_rate=0.1, max_depth=3, random_state=0)\n",
    "model.fit(x_train, y_train)\n",
    "\n",
    "test['Predicted'] = model.predict(test)\n",
    "test.head()"
   ]
  },
  {
   "cell_type": "markdown",
   "metadata": {},
   "source": [
    "导出预测结果："
   ]
  },
  {
   "cell_type": "code",
   "execution_count": null,
   "metadata": {},
   "outputs": [],
   "source": [
    "df_result = pd.DataFrame({\n",
    "    'Id': range(len(test)),\n",
    "    'Predicted': test['Predicted']\n",
    "})\n",
    "\n",
    "df_result.to_csv('./submission_gradient_boosting.csv', index=False)"
   ]
  }
 ],
 "metadata": {
  "kernelspec": {
   "display_name": "Python 3",
   "language": "python",
   "name": "python3"
  },
  "language_info": {
   "codemirror_mode": {
    "name": "ipython",
    "version": 3
   },
   "file_extension": ".py",
   "mimetype": "text/x-python",
   "name": "python",
   "nbconvert_exporter": "python",
   "pygments_lexer": "ipython3",
   "version": "3.11.4"
  }
 },
 "nbformat": 4,
 "nbformat_minor": 2
}
