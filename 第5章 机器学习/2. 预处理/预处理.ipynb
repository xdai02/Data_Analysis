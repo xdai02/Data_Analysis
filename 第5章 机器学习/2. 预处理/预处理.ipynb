{
 "cells": [
  {
   "cell_type": "markdown",
   "metadata": {},
   "source": [
    "# 预处理"
   ]
  },
  {
   "cell_type": "code",
   "execution_count": null,
   "metadata": {},
   "outputs": [],
   "source": [
    "!pip install scikit-learn"
   ]
  },
  {
   "cell_type": "code",
   "execution_count": null,
   "metadata": {},
   "outputs": [],
   "source": [
    "import numpy as np\n",
    "import pandas as pd\n",
    "import matplotlib.pyplot as plt"
   ]
  },
  {
   "cell_type": "code",
   "execution_count": null,
   "metadata": {},
   "outputs": [],
   "source": [
    "%matplotlib inline"
   ]
  },
  {
   "cell_type": "code",
   "execution_count": null,
   "metadata": {},
   "outputs": [],
   "source": [
    "plt.rcParams['font.sans-serif'] = ['SimHei']\n",
    "plt.rcParams['axes.unicode_minus'] = False"
   ]
  },
  {
   "cell_type": "markdown",
   "metadata": {},
   "source": [
    "## 预处理"
   ]
  },
  {
   "cell_type": "markdown",
   "metadata": {},
   "source": [
    "在使用数据进行建模前，需要保证数据的质量：\n",
    "\n",
    "1. 准确性：偏离预期的错误值\n",
    "2. 完整性：缺少特征值\n",
    "3. 一致性：格式、单位等"
   ]
  },
  {
   "cell_type": "markdown",
   "metadata": {},
   "source": [
    "对于缺失值，通常有以下处理方法：\n",
    "\n",
    "1. 删除缺失值：导致数据丢失\n",
    "2. 人工填充：对于较大的数据集不现实\n",
    "3. 自动填充：使用中位数、平均值等统计量"
   ]
  },
  {
   "cell_type": "markdown",
   "metadata": {},
   "source": [
    "对于异常值，可以通过`Matplotlib`绘制图像发现："
   ]
  },
  {
   "cell_type": "markdown",
   "metadata": {},
   "source": [
    "![](./img/outlier1.png)"
   ]
  },
  {
   "cell_type": "markdown",
   "metadata": {},
   "source": [
    "![](./img/outlier2.png)"
   ]
  },
  {
   "cell_type": "markdown",
   "metadata": {},
   "source": [
    "## 属性"
   ]
  },
  {
   "cell_type": "markdown",
   "metadata": {},
   "source": [
    "在数据分析中，属性/特征的类型主要分为以下几种：\n",
    "\n",
    "- 定性属性Qualitative\n",
    "    - 名义属性Nominal：仅用于标记类别，没有内在顺序。如：国籍、颜色、性别\n",
    "    - 序数属性Ordinal：具有顺序或等级，但是差异不固定。如：学历、满意度\n",
    "- 定量属性Quantitative\n",
    "    - 间隔属性Interval：数值间有固定的间隔，但是没有零点。如：温度（0℃不代表没有温度、20℃也不是10℃的两倍）\n",
    "    - 比例属性Ratio：数值间有固定的间隔，具有真正的零点，而且通过比例进行比较。如：收入、年龄、身高"
   ]
  },
  {
   "cell_type": "markdown",
   "metadata": {},
   "source": [
    "## 标准化Normalization"
   ]
  },
  {
   "cell_type": "markdown",
   "metadata": {},
   "source": [
    "标准化/归一化用于对数据属性进行缩放，使其落在较小的范围之内，比如$ [-1, 1] $或$ [0, 1] $。很多机器学习算法都受益于此。\n",
    "\n",
    "不同尺度的数据会导致一个重要属性的有效性被稀释，因为范围大的属性在模型中更有优先级，这会导致模型表现不佳。"
   ]
  },
  {
   "cell_type": "markdown",
   "metadata": {},
   "source": [
    "### Min-Max"
   ]
  },
  {
   "cell_type": "markdown",
   "metadata": {},
   "source": [
    "$$\n",
    "x = {x - x_{min} \\over x_{max} - x_{min}}\n",
    "$$"
   ]
  },
  {
   "cell_type": "code",
   "execution_count": null,
   "metadata": {},
   "outputs": [],
   "source": [
    "df = pd.read_csv('data/students.csv')\n",
    "df"
   ]
  },
  {
   "cell_type": "code",
   "execution_count": null,
   "metadata": {},
   "outputs": [],
   "source": [
    "def min_max_normalize(data):\n",
    "    min_data = data.min(axis=0)\n",
    "    max_data = data.max(axis=0)\n",
    "    return (data - min_data) / (max_data - min_data)"
   ]
  },
  {
   "cell_type": "code",
   "execution_count": null,
   "metadata": {},
   "outputs": [],
   "source": [
    "min_max_normalize(df[['Height', 'Weight']])"
   ]
  },
  {
   "cell_type": "code",
   "execution_count": null,
   "metadata": {},
   "outputs": [],
   "source": [
    "from sklearn.preprocessing import MinMaxScaler"
   ]
  },
  {
   "cell_type": "code",
   "execution_count": null,
   "metadata": {},
   "outputs": [],
   "source": [
    "df = pd.read_csv('data/students.csv')\n",
    "df"
   ]
  },
  {
   "cell_type": "code",
   "execution_count": null,
   "metadata": {},
   "outputs": [],
   "source": [
    "min_max_scaler = MinMaxScaler()\n",
    "df[['Height', 'Weight']] = min_max_scaler.fit_transform(df[['Height', 'Weight']])\n",
    "df"
   ]
  },
  {
   "cell_type": "markdown",
   "metadata": {},
   "source": [
    "### z-score"
   ]
  },
  {
   "cell_type": "markdown",
   "metadata": {},
   "source": [
    "$$\n",
    "x = {x - \\mu \\over \\sigma}\n",
    "$$\n",
    "\n",
    "$ \\mu $为均值，$ \\sigma $为标准差"
   ]
  },
  {
   "cell_type": "code",
   "execution_count": null,
   "metadata": {},
   "outputs": [],
   "source": [
    "df = pd.read_csv('data/students.csv')\n",
    "df"
   ]
  },
  {
   "cell_type": "code",
   "execution_count": null,
   "metadata": {},
   "outputs": [],
   "source": [
    "def z_score_normalize(data):\n",
    "    mean_data = data.mean(axis=0)\n",
    "    std_data = data.std(axis=0)\n",
    "    return (data - mean_data) / std_data"
   ]
  },
  {
   "cell_type": "code",
   "execution_count": null,
   "metadata": {},
   "outputs": [],
   "source": [
    "z_score_normalize(df[['Height', 'Weight']])"
   ]
  },
  {
   "cell_type": "code",
   "execution_count": null,
   "metadata": {},
   "outputs": [],
   "source": [
    "from sklearn.preprocessing import StandardScaler"
   ]
  },
  {
   "cell_type": "code",
   "execution_count": null,
   "metadata": {},
   "outputs": [],
   "source": [
    "df = pd.read_csv('data/students.csv')\n",
    "df"
   ]
  },
  {
   "cell_type": "code",
   "execution_count": null,
   "metadata": {},
   "outputs": [],
   "source": [
    "z_score_scaler = StandardScaler()\n",
    "df[['Height', 'Weight']] = z_score_scaler.fit_transform(df[['Height', 'Weight']])\n",
    "df"
   ]
  },
  {
   "cell_type": "markdown",
   "metadata": {},
   "source": [
    "## 编码Encoding"
   ]
  },
  {
   "cell_type": "markdown",
   "metadata": {},
   "source": [
    "1. 特征工程：从现有数据中创建新的特征，以提高模型的预测能力。比如，从日期时间数据中提取出年份、月份、星期几等。\n",
    "\n",
    "2. 序号编码：序号编码用于当类别具有自然顺序时，如“低”、“中”、“高”，将类别转换为对应的整数值。\n",
    "\n",
    "3. 独热编码One-Hot Encoding：将分类转换为一系列二进制列，每一列代表一个类别。例如，如果有一个“颜色”列包含“红色”，“绿色”，“蓝色”，独热编码会创建三列：一列用于“红色”，一列用于“绿色”，一列用于“蓝色”。"
   ]
  },
  {
   "cell_type": "code",
   "execution_count": null,
   "metadata": {},
   "outputs": [],
   "source": [
    "df = pd.DataFrame({\n",
    "    'color': ['Red', 'Green', 'Blue', 'Green', 'Red']\n",
    "})\n",
    "\n",
    "df"
   ]
  },
  {
   "cell_type": "code",
   "execution_count": null,
   "metadata": {},
   "outputs": [],
   "source": [
    "df = pd.get_dummies(df, columns=['color'])\n",
    "df"
   ]
  }
 ],
 "metadata": {
  "kernelspec": {
   "display_name": "Python 3",
   "language": "python",
   "name": "python3"
  },
  "language_info": {
   "codemirror_mode": {
    "name": "ipython",
    "version": 3
   },
   "file_extension": ".py",
   "mimetype": "text/x-python",
   "name": "python",
   "nbconvert_exporter": "python",
   "pygments_lexer": "ipython3",
   "version": "3.11.4"
  }
 },
 "nbformat": 4,
 "nbformat_minor": 2
}
