{
 "cells": [
  {
   "cell_type": "markdown",
   "metadata": {},
   "source": [
    "# 聚类Clustering"
   ]
  },
  {
   "cell_type": "code",
   "execution_count": 1,
   "metadata": {},
   "outputs": [],
   "source": [
    "import numpy as np\n",
    "import pandas as pd\n",
    "import matplotlib.pyplot as plt"
   ]
  },
  {
   "cell_type": "code",
   "execution_count": 2,
   "metadata": {},
   "outputs": [],
   "source": [
    "%matplotlib inline"
   ]
  },
  {
   "cell_type": "code",
   "execution_count": 4,
   "metadata": {},
   "outputs": [],
   "source": [
    "plt.rcParams['font.sans-serif'] = ['SimHei']\n",
    "plt.rcParams['axes.unicode_minus'] = False"
   ]
  },
  {
   "cell_type": "markdown",
   "metadata": {},
   "source": [
    "## 聚类"
   ]
  },
  {
   "cell_type": "markdown",
   "metadata": {},
   "source": [
    "聚类是一种无监督学习方法，用于将数据点分组成多个集群/**簇**（cluster），使得同一集群内的数据点相似度高，而不同集群间的数据点相似度低。\n",
    "\n",
    "聚类的应用领域包括：\n",
    "\n",
    "- 市场细分\n",
    "    - 根据顾客的行为和喜好分组\n",
    "    - 向同一分组的顾客推出有针对性的促销\n",
    "- 推荐系统\n",
    "    - 根据用户的属性/行为（如：类型、时长）推荐服务（如：电影、视频）\n",
    "- 图像分割"
   ]
  },
  {
   "cell_type": "markdown",
   "metadata": {},
   "source": [
    "簇的个数极大影响了分组的质量："
   ]
  },
  {
   "cell_type": "markdown",
   "metadata": {},
   "source": [
    "![](./img/簇.png)"
   ]
  },
  {
   "cell_type": "markdown",
   "metadata": {},
   "source": [
    "## K-Means"
   ]
  },
  {
   "cell_type": "markdown",
   "metadata": {},
   "source": [
    "`K-Means`是一种非常流行和简单的聚类算法，用于将数据划分为`K`个不同的簇（clusters），其中每个数据点属于距离自己最近的中心（centroid）的簇。"
   ]
  },
  {
   "cell_type": "markdown",
   "metadata": {},
   "source": [
    "算法步骤：\n",
    "\n",
    "1. 初始化\n",
    "    - 确定簇的数量`K`\n",
    "    - 随机选择`K`个数据点作为初始中心\n",
    "\n",
    "Repeat\n",
    "\n",
    "2. 分配\n",
    "    - 将每个数据点分配给最近的簇\n",
    "\n",
    "3. 更新\n",
    "    - 重新计算每个簇的中心，通常是簇内所有点的平均位置\n",
    "    \n",
    "Until 中心点不再变化"
   ]
  },
  {
   "cell_type": "markdown",
   "metadata": {},
   "source": [
    "https://shabal.in/visuals/kmeans/6.html"
   ]
  },
  {
   "cell_type": "markdown",
   "metadata": {},
   "source": [
    "优点：\n",
    "\n",
    "- 实现简单、容易理解\n",
    "- 计算效率高，适合大数据集\n",
    "- K-Means一定会**收敛**\n",
    "\n",
    "缺点：\n",
    "\n",
    "- `K`值的选择对聚类的结果有很大影响\n",
    "- 对初始中心的选择敏感\n",
    "- 对噪声和异常值敏感"
   ]
  },
  {
   "cell_type": "markdown",
   "metadata": {},
   "source": [
    "![](./img/KMeans限制.png)"
   ]
  },
  {
   "cell_type": "markdown",
   "metadata": {},
   "source": [
    "https://shabal.in/visuals/kmeans/1.html"
   ]
  },
  {
   "cell_type": "markdown",
   "metadata": {},
   "source": [
    "【Quiz】当$ K \\ge 2 $时，`K-Means`在最差情况下会有多少个空簇？（B）\n",
    "\n",
    "A. $ 0 $\n",
    "\n",
    "B. $ K - 1 $\n",
    "\n",
    "C. $ K $\n",
    "\n",
    "D. $ K + 1 $"
   ]
  },
  {
   "cell_type": "code",
   "execution_count": 14,
   "metadata": {},
   "outputs": [
    {
     "name": "stderr",
     "output_type": "stream",
     "text": [
      "c:\\Users\\25132\\AppData\\Local\\Programs\\Python\\Python311\\Lib\\site-packages\\sklearn\\cluster\\_kmeans.py:1412: FutureWarning: The default value of `n_init` will change from 10 to 'auto' in 1.4. Set the value of `n_init` explicitly to suppress the warning\n",
      "  super()._check_params_vs_input(X, default_n_init=10)\n"
     ]
    },
    {
     "data": {
      "image/png": "[encoded data removed]",
      "text/plain": [
       "<Figure size 640x480 with 1 Axes>"
      ]
     },
     "metadata": {},
     "output_type": "display_data"
    }
   ],
   "source": [
    "from sklearn.cluster import KMeans\n",
    "import numpy as np\n",
    "import matplotlib.pyplot as plt\n",
    "\n",
    "# 简单的数据集\n",
    "X = np.array([[1, 2], [1, 4], [1, 0],\n",
    "              [10, 2], [10, 4], [10, 0]])\n",
    "\n",
    "# 创建KMeans实例，指定2个簇\n",
    "kmeans = KMeans(n_clusters=2)\n",
    "\n",
    "# 拟合模型\n",
    "kmeans.fit(X)\n",
    "\n",
    "# 预测簇标签\n",
    "labels = kmeans.predict(X)\n",
    "\n",
    "# 获取簇中心\n",
    "centers = kmeans.cluster_centers_\n",
    "\n",
    "# 绘制数据点\n",
    "plt.scatter(X[:, 0], X[:, 1], c=labels, s=50, cmap='viridis')\n",
    "\n",
    "# 绘制簇中心\n",
    "plt.scatter(centers[:, 0], centers[:, 1], c='red', s=200, alpha=0.5)\n",
    "\n",
    "plt.title(\"Simple K-means Example\")\n",
    "plt.xlabel(\"Feature 1\")\n",
    "plt.ylabel(\"Feature 2\")\n",
    "plt.show()\n"
   ]
  }
 ],
 "metadata": {
  "kernelspec": {
   "display_name": "Python 3",
   "language": "python",
   "name": "python3"
  },
  "language_info": {
   "codemirror_mode": {
    "name": "ipython",
    "version": 3
   },
   "file_extension": ".py",
   "mimetype": "text/x-python",
   "name": "python",
   "nbconvert_exporter": "python",
   "pygments_lexer": "ipython3",
   "version": "3.11.4"
  }
 },
 "nbformat": 4,
 "nbformat_minor": 2
}
