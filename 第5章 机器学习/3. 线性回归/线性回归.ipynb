{
 "cells": [
  {
   "cell_type": "markdown",
   "metadata": {},
   "source": [
    "# 线性回归Linear Regression"
   ]
  },
  {
   "cell_type": "code",
   "execution_count": null,
   "metadata": {},
   "outputs": [],
   "source": [
    "import numpy as np\n",
    "import pandas as pd\n",
    "import matplotlib.pyplot as plt"
   ]
  },
  {
   "cell_type": "code",
   "execution_count": null,
   "metadata": {},
   "outputs": [],
   "source": [
    "%matplotlib inline"
   ]
  },
  {
   "cell_type": "code",
   "execution_count": null,
   "metadata": {},
   "outputs": [],
   "source": [
    "plt.rcParams['font.sans-serif'] = ['SimHei']\n",
    "plt.rcParams['axes.unicode_minus'] = False"
   ]
  },
  {
   "cell_type": "markdown",
   "metadata": {},
   "source": [
    "## 回归分析"
   ]
  },
  {
   "cell_type": "markdown",
   "metadata": {},
   "source": [
    "回归分析是一种用于预测和推理的统计方法，通过样本数据学习**目标变量**与**自变量**之间的因果关系，建立数学模型。\n",
    "\n",
    "例如，房屋售价$ y $会由一系列因素决定：面积$ x_1 $、地段$ x_2 $、房型$ x_3 $、是否为学区房$ x_4 $等。\n",
    "\n",
    "回归分析的目标就是利用历史数据找出它们之间的映射关系，然后预测未来的值。\n",
    "\n",
    "常用的回归方法包括：\n",
    "\n",
    "- 线性回归Linear Regression\n",
    "- 逻辑回归Logistic Regression\n",
    "- 多项式回归Polynomial Regression"
   ]
  },
  {
   "cell_type": "markdown",
   "metadata": {},
   "source": [
    "假设已知$ x $和$ f $，计算$ y = f(x) $是很容易的。\n",
    "\n",
    "$ x = 2,\\ f(x) = 3x + 5,\\ y = 11 $\n",
    "\n",
    "$ x = 2,\\ f(x) = e^{sin(x)},\\ y = 2.48 $\n",
    "\n",
    "$ x = 2,\\ f(x) = x^2 + 0.2x,\\ y = 4.4 $"
   ]
  },
  {
   "cell_type": "markdown",
   "metadata": {},
   "source": [
    "但是，如果知道$ x $和$ y $，算出$ f $会很困难。"
   ]
  },
  {
   "cell_type": "markdown",
   "metadata": {},
   "source": [
    "![](./img/datapoint.png)"
   ]
  },
  {
   "cell_type": "markdown",
   "metadata": {},
   "source": [
    "![](./img/linear.png)"
   ]
  },
  {
   "cell_type": "markdown",
   "metadata": {},
   "source": [
    "![](./img/quadratic.png)"
   ]
  },
  {
   "cell_type": "markdown",
   "metadata": {},
   "source": [
    "![](./img/exponential.png)"
   ]
  },
  {
   "cell_type": "markdown",
   "metadata": {},
   "source": [
    "机器学习的目的就是从一系列可能的函数中找到最能匹配数据模式的函数。"
   ]
  },
  {
   "cell_type": "markdown",
   "metadata": {},
   "source": [
    "## 线性回归"
   ]
  },
  {
   "cell_type": "markdown",
   "metadata": {},
   "source": [
    "`salary.csv`中保存了一些人工作经验和薪资的数据。"
   ]
  },
  {
   "cell_type": "code",
   "execution_count": null,
   "metadata": {},
   "outputs": [],
   "source": [
    "df = pd.read_csv('data/salary.csv')\n",
    "df.head()"
   ]
  },
  {
   "cell_type": "code",
   "execution_count": null,
   "metadata": {},
   "outputs": [],
   "source": [
    "plt.scatter(df['YearsExperience'], df['Salary'])\n",
    "plt.title('工作经验与薪资的关系')\n",
    "plt.xlabel('工作经验')\n",
    "plt.ylabel('薪资')\n",
    "plt.show()"
   ]
  },
  {
   "cell_type": "markdown",
   "metadata": {},
   "source": [
    "通过绘制散点图可以发现，数据总体成线性关系。\n",
    "\n",
    "`sklearn`提供了`LinearRegression`类用于创建线性回归模型。"
   ]
  },
  {
   "cell_type": "code",
   "execution_count": null,
   "metadata": {},
   "outputs": [],
   "source": [
    "from sklearn.linear_model import LinearRegression"
   ]
  },
  {
   "cell_type": "markdown",
   "metadata": {},
   "source": [
    "`fit()`用于将因变量和目标变量传入，该函数建立一个能够最佳满足数据趋势的线性函数模型。"
   ]
  },
  {
   "cell_type": "code",
   "execution_count": null,
   "metadata": {},
   "outputs": [],
   "source": [
    "model = LinearRegression()\n",
    "model.fit(df[['YearsExperience']], df['Salary'])"
   ]
  },
  {
   "cell_type": "markdown",
   "metadata": {},
   "source": [
    "通过`intercept_`和`coef_`可以查看函数的**截距**和**系数**。"
   ]
  },
  {
   "cell_type": "code",
   "execution_count": null,
   "metadata": {},
   "outputs": [],
   "source": [
    "model.intercept_, model.coef_"
   ]
  },
  {
   "cell_type": "markdown",
   "metadata": {},
   "source": [
    "$ Salary = 9449.96 \\times YearsExperience + 24848.20 $"
   ]
  },
  {
   "cell_type": "markdown",
   "metadata": {},
   "source": [
    "通过这个模型，可以根据工作经验去预测薪资。"
   ]
  },
  {
   "cell_type": "code",
   "execution_count": null,
   "metadata": {},
   "outputs": [],
   "source": [
    "df_test = pd.read_csv('data/salary_to_predict.csv')\n",
    "df_test.head()"
   ]
  },
  {
   "cell_type": "code",
   "execution_count": null,
   "metadata": {},
   "outputs": [],
   "source": [
    "model.predict(df_test[['YearsExperience']])"
   ]
  },
  {
   "cell_type": "markdown",
   "metadata": {},
   "source": [
    "可以把预测的薪资添加到表中。"
   ]
  },
  {
   "cell_type": "code",
   "execution_count": null,
   "metadata": {},
   "outputs": [],
   "source": [
    "df_test['PredictedSalary'] = model.predict(df_test[['YearsExperience']])\n",
    "df_test.head()"
   ]
  },
  {
   "cell_type": "code",
   "execution_count": null,
   "metadata": {},
   "outputs": [],
   "source": [
    "df_test.to_csv('data/salary_predicted.csv', index=False)"
   ]
  },
  {
   "cell_type": "markdown",
   "metadata": {},
   "source": [
    "## 回归分析"
   ]
  },
  {
   "cell_type": "markdown",
   "metadata": {},
   "source": [
    "误差是用来判断模型准确性的标准之一。"
   ]
  },
  {
   "cell_type": "code",
   "execution_count": null,
   "metadata": {},
   "outputs": [],
   "source": [
    "line_x = np.linspace(df['YearsExperience'].min(), df['YearsExperience'].max(), 100)\n",
    "line_x"
   ]
  },
  {
   "cell_type": "code",
   "execution_count": null,
   "metadata": {},
   "outputs": [],
   "source": [
    "line_y = model.coef_ * line_x + model.intercept_\n",
    "line_y"
   ]
  },
  {
   "cell_type": "code",
   "execution_count": null,
   "metadata": {},
   "outputs": [],
   "source": [
    "plt.scatter(df['YearsExperience'], df['Salary'])\n",
    "plt.plot(line_x, line_y, c='r', label='model')\n",
    "\n",
    "plt.title('工作经验与薪资的关系')\n",
    "plt.xlabel('工作经验')\n",
    "plt.ylabel('薪资')\n",
    "plt.legend()\n",
    "plt.show()"
   ]
  },
  {
   "cell_type": "markdown",
   "metadata": {},
   "source": [
    "### 平均绝对误差（MAE, MeanAbsoluteError）"
   ]
  },
  {
   "cell_type": "markdown",
   "metadata": {},
   "source": [
    "MAE为预测值和实际值之间的绝对差异的平均值，它可以让我们了解预测的平均错误程度。"
   ]
  },
  {
   "cell_type": "markdown",
   "metadata": {},
   "source": [
    "$$\n",
    "MAE = {1 \\over n} {\\sum_{i=1}^{n} \\left| y_i - \\hat y_i\\right|}\n",
    "$$"
   ]
  },
  {
   "cell_type": "markdown",
   "metadata": {},
   "source": [
    "$ n $为样本数量，$ y_i $为实际值，$ \\hat y_i $为预测值。"
   ]
  },
  {
   "cell_type": "code",
   "execution_count": null,
   "metadata": {},
   "outputs": [],
   "source": [
    "predicted_salary = model.predict(df[['YearsExperience']])\n",
    "predicted_salary"
   ]
  },
  {
   "cell_type": "code",
   "execution_count": null,
   "metadata": {},
   "outputs": [],
   "source": [
    "from sklearn.metrics import mean_absolute_error"
   ]
  },
  {
   "cell_type": "code",
   "execution_count": null,
   "metadata": {},
   "outputs": [],
   "source": [
    "MAE = mean_absolute_error(df['Salary'], predicted_salary)\n",
    "MAE"
   ]
  },
  {
   "cell_type": "markdown",
   "metadata": {},
   "source": [
    "### 均方误差（MSE, Mean Squared Error）"
   ]
  },
  {
   "cell_type": "markdown",
   "metadata": {},
   "source": [
    "MSE为预测值和实际值之间差异的平方的平均值，MSE对较大误差的惩罚比MAW更大，因为误差被平方了。"
   ]
  },
  {
   "cell_type": "markdown",
   "metadata": {},
   "source": [
    "$$\n",
    "MSE = {1 \\over n} {\\sum_{i=1}^{n} \\left( y_i - \\hat y_i\\right) ^ 2}\n",
    "$$"
   ]
  },
  {
   "cell_type": "code",
   "execution_count": null,
   "metadata": {},
   "outputs": [],
   "source": [
    "from sklearn.metrics import mean_squared_error"
   ]
  },
  {
   "cell_type": "code",
   "execution_count": null,
   "metadata": {},
   "outputs": [],
   "source": [
    "MSE = mean_squared_error(df['Salary'], predicted_salary)\n",
    "MSE"
   ]
  },
  {
   "cell_type": "markdown",
   "metadata": {},
   "source": [
    "## 均方根误差（RMSE, Root Mean Squared Error）"
   ]
  },
  {
   "cell_type": "markdown",
   "metadata": {},
   "source": [
    "RMSE是MSE的平方根，用于将误差指标转换回与原始数据相同的尺度。"
   ]
  },
  {
   "cell_type": "markdown",
   "metadata": {},
   "source": [
    "$$\n",
    "RMSE = \\sqrt{{1 \\over n} {\\sum_{i=1}^{n} \\left( y_i - \\hat y_i\\right) ^ 2}}\n",
    "$$"
   ]
  },
  {
   "cell_type": "code",
   "execution_count": null,
   "metadata": {},
   "outputs": [],
   "source": [
    "RMSE = np.sqrt(MSE)\n",
    "RMSE"
   ]
  },
  {
   "cell_type": "markdown",
   "metadata": {},
   "source": [
    "### 决定系数$ R^2 $"
   ]
  },
  {
   "cell_type": "markdown",
   "metadata": {},
   "source": [
    "$ R^2 $是实际值与预测值差异平方和与实际值与其平均值差异平方和之比的补数，用于衡量模型对数据拟合的好坏。\n",
    "\n",
    "$ R^2 $的取值范围为$ 0 \\sim 1 $，表示目标变量的预测值和真实值之间的相关程度。$ R^2 $值越大，表示预测效果越好。"
   ]
  },
  {
   "cell_type": "markdown",
   "metadata": {},
   "source": [
    "$$\n",
    "R^2 = 1 - {{\\sum_{i=1}^{n} \\left( y_i - \\hat y_i\\right) ^ 2} \\over {\\sum_{i=1}^{n} \\left( y_i - \\bar y\\right) ^ 2}}\n",
    "$$"
   ]
  },
  {
   "cell_type": "markdown",
   "metadata": {},
   "source": [
    "$ \\bar y $为实际值的平均值。"
   ]
  },
  {
   "cell_type": "code",
   "execution_count": null,
   "metadata": {},
   "outputs": [],
   "source": [
    "from sklearn.metrics import r2_score"
   ]
  },
  {
   "cell_type": "code",
   "execution_count": null,
   "metadata": {},
   "outputs": [],
   "source": [
    "R2 = r2_score(df['Salary'], predicted_salary)\n",
    "R2"
   ]
  }
 ],
 "metadata": {
  "kernelspec": {
   "display_name": "Python 3",
   "language": "python",
   "name": "python3"
  },
  "language_info": {
   "codemirror_mode": {
    "name": "ipython",
    "version": 3
   },
   "file_extension": ".py",
   "mimetype": "text/x-python",
   "name": "python",
   "nbconvert_exporter": "python",
   "pygments_lexer": "ipython3",
   "version": "3.11.4"
  }
 },
 "nbformat": 4,
 "nbformat_minor": 2
}
