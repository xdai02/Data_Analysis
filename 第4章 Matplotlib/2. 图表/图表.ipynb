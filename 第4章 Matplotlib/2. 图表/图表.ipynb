{
 "cells": [
  {
   "cell_type": "markdown",
   "metadata": {},
   "source": [
    "# 图表"
   ]
  },
  {
   "cell_type": "code",
   "execution_count": null,
   "metadata": {},
   "outputs": [],
   "source": [
    "import numpy as np\n",
    "import pandas as pd\n",
    "import matplotlib.pyplot as plt"
   ]
  },
  {
   "cell_type": "code",
   "execution_count": null,
   "metadata": {},
   "outputs": [],
   "source": [
    "%matplotlib inline"
   ]
  },
  {
   "cell_type": "code",
   "execution_count": null,
   "metadata": {},
   "outputs": [],
   "source": [
    "plt.rcParams['font.sans-serif'] = ['SimHei']\n",
    "plt.rcParams['axes.unicode_minus'] = False"
   ]
  },
  {
   "cell_type": "markdown",
   "metadata": {},
   "source": [
    "## 折线图Line Plot"
   ]
  },
  {
   "cell_type": "markdown",
   "metadata": {},
   "source": [
    "折线图用于描述数据的**变化趋势**。"
   ]
  },
  {
   "cell_type": "markdown",
   "metadata": {},
   "source": [
    "一周内温度变化情况："
   ]
  },
  {
   "cell_type": "code",
   "execution_count": null,
   "metadata": {},
   "outputs": [],
   "source": [
    "days = ['Mon', 'Tue', 'Wed', 'Thu', 'Fri', 'Sat', 'Sun']\n",
    "temperatures = [22, 24, 19, 23, 25, 26, 21]\n",
    "\n",
    "plt.plot(days, temperatures)\n",
    "\n",
    "plt.title('一周温度变化')\n",
    "plt.xlabel('星期')\n",
    "plt.ylabel('温度（℃）')\n",
    "plt.legend(['温度'], loc='upper right')\n",
    "\n",
    "plt.show()"
   ]
  },
  {
   "cell_type": "markdown",
   "metadata": {},
   "source": [
    "一张图中还可以绘制多个折线。"
   ]
  },
  {
   "cell_type": "markdown",
   "metadata": {},
   "source": [
    "绘制$ y = 0.5x $、$ y = sin(x) $、$ y = e^{-x} $的函数图像："
   ]
  },
  {
   "cell_type": "code",
   "execution_count": null,
   "metadata": {},
   "outputs": [],
   "source": [
    "x = np.linspace(0, 2 * np.pi, 50)\n",
    "x"
   ]
  },
  {
   "cell_type": "code",
   "execution_count": null,
   "metadata": {},
   "outputs": [],
   "source": [
    "y1 = 0.5 * x\n",
    "y1"
   ]
  },
  {
   "cell_type": "code",
   "execution_count": null,
   "metadata": {},
   "outputs": [],
   "source": [
    "y2 = np.sin(x)\n",
    "y2"
   ]
  },
  {
   "cell_type": "code",
   "execution_count": null,
   "metadata": {},
   "outputs": [],
   "source": [
    "y3 = np.exp(-x)\n",
    "y3"
   ]
  },
  {
   "cell_type": "code",
   "execution_count": null,
   "metadata": {},
   "outputs": [],
   "source": [
    "plt.plot(x, y1)\n",
    "plt.plot(x, y2)\n",
    "plt.plot(x, y3)\n",
    "\n",
    "plt.title('函数图像')\n",
    "plt.xlabel('x')\n",
    "plt.ylabel('y')\n",
    "plt.legend(['0.5x', 'sin(x)', 'exp(-x)'], loc='upper left')\n",
    "\n",
    "plt.show()"
   ]
  },
  {
   "cell_type": "markdown",
   "metadata": {},
   "source": [
    "`Matplotlib`默认会用不同颜色绘制每条折线。\n",
    "\n",
    "也可以使用`color`参数（可简写为`c`）自定义折线颜色：\n",
    "\n",
    "`color`参数的取值为：\n",
    "\n",
    "1. 颜色缩写：`r`/`red`, `g`/`green`, `b`/`blue`, `w`/`white`, `y`/`yellow`, `c`/`cyan`, `m`/`magenta`, `k`/`black`等\n",
    "\n",
    "2. RGB值：`#000000` ~ `#FFFFFF`"
   ]
  },
  {
   "cell_type": "markdown",
   "metadata": {},
   "source": [
    "![](./img/colors.png)"
   ]
  },
  {
   "cell_type": "code",
   "execution_count": null,
   "metadata": {},
   "outputs": [],
   "source": [
    "plt.plot(x, y1, color='red')\n",
    "plt.plot(x, y2, color='c')\n",
    "plt.plot(x, y3, c='#24bc39')\n",
    "\n",
    "plt.title('函数图像')\n",
    "plt.xlabel('x')\n",
    "plt.ylabel('y')\n",
    "plt.legend(['0.5x', 'sin(x)', 'exp(-x)'], loc='upper left')\n",
    "\n",
    "plt.show()"
   ]
  },
  {
   "cell_type": "markdown",
   "metadata": {},
   "source": [
    "`linewidth`参数可以设置线条的宽度。\n",
    "\n",
    "`linestyle`参数可以设置线条的类型：\n",
    "\n",
    "- `-`：实线\n",
    "- `--`：虚线\n",
    "- `-.`：点线\n",
    "- `:`：点状虚线"
   ]
  },
  {
   "cell_type": "code",
   "execution_count": null,
   "metadata": {},
   "outputs": [],
   "source": [
    "plt.plot(x, y1, color='red', linewidth=5, linestyle='--')\n",
    "plt.plot(x, y2, color='c', linestyle='-.')\n",
    "plt.plot(x, y3, c='#24bc39', linestyle=':')\n",
    "\n",
    "plt.title('函数图像')\n",
    "plt.xlabel('x')\n",
    "plt.ylabel('y')\n",
    "plt.legend(['0.5x', 'sin(x)', 'exp(-x)'], loc='upper left')\n",
    "\n",
    "plt.show()"
   ]
  },
  {
   "cell_type": "markdown",
   "metadata": {},
   "source": [
    "【例】`FINAL_USO.csv`为2011-12-15至2018-12-31的黄金价格，绘制出每日**最低价**和**最高价**的走势图\n",
    "\n",
    "【提示】`pd.to_datetime()`用于转换为日期类型"
   ]
  },
  {
   "cell_type": "code",
   "execution_count": null,
   "metadata": {},
   "outputs": [],
   "source": [
    "df = pd.read_csv('data/FINAL_USO.csv')\n",
    "df.head()"
   ]
  },
  {
   "cell_type": "code",
   "execution_count": null,
   "metadata": {},
   "outputs": [],
   "source": [
    "df.info()"
   ]
  },
  {
   "cell_type": "code",
   "execution_count": null,
   "metadata": {},
   "outputs": [],
   "source": [
    "df['Date'] = pd.to_datetime(df['Date'])\n",
    "df.info()"
   ]
  },
  {
   "cell_type": "code",
   "execution_count": null,
   "metadata": {},
   "outputs": [],
   "source": [
    "plt.plot(df['Date'], df['Low'], color='green')\n",
    "plt.plot(df['Date'], df['High'], color='red')\n",
    "\n",
    "plt.title('黄金价格')\n",
    "plt.xlabel('日期')\n",
    "plt.ylabel('价格')\n",
    "plt.legend(['最低价', '最高价'], loc='upper right')\n",
    "\n",
    "plt.show()"
   ]
  },
  {
   "cell_type": "markdown",
   "metadata": {},
   "source": [
    "## 散点图Scatter Plot"
   ]
  },
  {
   "cell_type": "markdown",
   "metadata": {},
   "source": [
    "散点图用于观察两个变量之间的关系。"
   ]
  },
  {
   "cell_type": "markdown",
   "metadata": {},
   "source": [
    "观察学生身高和体重之间的关系："
   ]
  },
  {
   "cell_type": "code",
   "execution_count": null,
   "metadata": {},
   "outputs": [],
   "source": [
    "df = pd.read_csv('data/students.csv', index_col='No.')\n",
    "df.head(10)"
   ]
  },
  {
   "cell_type": "code",
   "execution_count": null,
   "metadata": {},
   "outputs": [],
   "source": [
    "plt.scatter(df['Height'], df['Weight'])\n",
    "\n",
    "plt.title('学生身高体重关系')\n",
    "plt.xlabel('身高（cm）')\n",
    "plt.ylabel('体重（kg）')\n",
    "plt.grid()\n",
    "\n",
    "plt.show()"
   ]
  },
  {
   "cell_type": "markdown",
   "metadata": {},
   "source": [
    "`marker`参数用于设置数据点的类型：\n",
    "\n",
    "- `.`：点\n",
    "- `o`：实心圈\n",
    "- `v`：倒三角\n",
    "- `^`：正三角\n",
    "- `<`：左三角\n",
    "- `>`：右三角\n",
    "- `1`：下花三角\n",
    "- `2`：上花三角\n",
    "- `3`：左花三角\n",
    "- `4`：右花三角\n",
    "- `s`：实心正方形\n",
    "- `p`：实心五边形\n",
    "- `*`：五星形\n",
    "- `h`/`H`：竖/横六边形\n",
    "- `|`：垂直线\n",
    "- `+`：十字\n",
    "- `x`：叉\n",
    "- `D`：菱形\n",
    "- `d`：瘦菱形"
   ]
  },
  {
   "cell_type": "code",
   "execution_count": null,
   "metadata": {},
   "outputs": [],
   "source": [
    "plt.scatter(df['Height'], df['Weight'], marker='*')\n",
    "\n",
    "plt.title('学生身高体重关系')\n",
    "plt.xlabel('身高（cm）')\n",
    "plt.ylabel('体重（kg）')\n",
    "plt.grid()\n",
    "\n",
    "plt.show()"
   ]
  },
  {
   "cell_type": "markdown",
   "metadata": {},
   "source": [
    "总体来看，身高和体重具有正相关性。"
   ]
  },
  {
   "cell_type": "markdown",
   "metadata": {},
   "source": [
    "为了进一步分析性别和身高体重的关系，需要将数据根据性别分类。"
   ]
  },
  {
   "cell_type": "code",
   "execution_count": null,
   "metadata": {},
   "outputs": [],
   "source": [
    "df_male = df[df['Gender'] == 'male']\n",
    "df_female = df[df['Gender'] == 'female']"
   ]
  },
  {
   "cell_type": "markdown",
   "metadata": {},
   "source": [
    "`label`参数用于设置数据点的标签名称。"
   ]
  },
  {
   "cell_type": "code",
   "execution_count": null,
   "metadata": {},
   "outputs": [],
   "source": [
    "plt.scatter(df_male['Height'], df_male['Weight'], c='b', marker='*', label='男')\n",
    "plt.scatter(df_female['Height'], df_female['Weight'], c='r', marker='o', label='女')\n",
    "\n",
    "plt.title('学生身高体重关系')\n",
    "plt.xlabel('身高（cm）')\n",
    "plt.ylabel('体重（kg）')\n",
    "plt.grid()\n",
    "plt.legend()\n",
    "\n",
    "plt.show()"
   ]
  },
  {
   "cell_type": "markdown",
   "metadata": {},
   "source": [
    "【例】`icecream_sales.csv`记录了不同气温下冰激凌的销售额。20℃以下用蓝点表示，20℃用红色表示\n",
    "\n",
    "【提示】需要**数据清洗**和**修改类型**"
   ]
  },
  {
   "cell_type": "code",
   "execution_count": null,
   "metadata": {},
   "outputs": [],
   "source": [
    "df = pd.read_csv('data/icecream_sales.csv')\n",
    "df"
   ]
  },
  {
   "cell_type": "code",
   "execution_count": null,
   "metadata": {},
   "outputs": [],
   "source": [
    "df['Temperature'] = df['Temperature'].str.replace('°C', '')\n",
    "df['Sales'] = df['Sales'].str.replace('$', '')\n",
    "df = df.astype({'Temperature': 'float', 'Sales': 'float'})\n",
    "df"
   ]
  },
  {
   "cell_type": "code",
   "execution_count": null,
   "metadata": {},
   "outputs": [],
   "source": [
    "df_temperature_20_higher = df[df['Temperature'] >= 20]\n",
    "df_temperature_20_lower = df[df['Temperature'] < 20]"
   ]
  },
  {
   "cell_type": "code",
   "execution_count": null,
   "metadata": {},
   "outputs": [],
   "source": [
    "plt.scatter(df_temperature_20_higher['Temperature'], df_temperature_20_higher['Sales'], c='r', marker='o', label='>=20℃')\n",
    "plt.scatter(df_temperature_20_lower['Temperature'], df_temperature_20_lower['Sales'], c='b', marker='s', label='<20℃')\n",
    "\n",
    "plt.title('冰淇淋销量与温度关系')\n",
    "plt.xlabel('温度（℃）')\n",
    "plt.ylabel('销量（USD）')\n",
    "plt.legend()\n",
    "\n",
    "plt.show()"
   ]
  },
  {
   "cell_type": "markdown",
   "metadata": {},
   "source": [
    "## 柱状图Bar Chart"
   ]
  },
  {
   "cell_type": "markdown",
   "metadata": {},
   "source": [
    "柱状图用于对不同分组进行比较。"
   ]
  },
  {
   "cell_type": "markdown",
   "metadata": {},
   "source": [
    "统计学生来自的不同省份的数量："
   ]
  },
  {
   "cell_type": "code",
   "execution_count": null,
   "metadata": {},
   "outputs": [],
   "source": [
    "df = pd.read_csv('data/students.csv')\n",
    "df.head()"
   ]
  },
  {
   "cell_type": "code",
   "execution_count": null,
   "metadata": {},
   "outputs": [],
   "source": [
    "df_province = df.groupby('Province').size()\n",
    "df_province"
   ]
  },
  {
   "cell_type": "code",
   "execution_count": null,
   "metadata": {},
   "outputs": [],
   "source": [
    "plt.bar(df_province.index, df_province.values)\n",
    "\n",
    "plt.title('学生省份分布')\n",
    "plt.xlabel('省份')\n",
    "plt.ylabel('人数')\n",
    "plt.xticks(rotation=90)\n",
    "plt.yticks(np.arange(0, 6))\n",
    "\n",
    "plt.show()"
   ]
  },
  {
   "cell_type": "markdown",
   "metadata": {},
   "source": [
    "`width`参数可以设置柱的宽度："
   ]
  },
  {
   "cell_type": "code",
   "execution_count": null,
   "metadata": {},
   "outputs": [],
   "source": [
    "plt.bar(df_province.index, df_province.values, color='hotpink', width=0.5)\n",
    "\n",
    "plt.title('学生省份分布')\n",
    "plt.xlabel('省份')\n",
    "plt.ylabel('人数')\n",
    "plt.xticks(rotation=90)\n",
    "plt.yticks(np.arange(0, 6))\n",
    "\n",
    "plt.show()"
   ]
  },
  {
   "cell_type": "markdown",
   "metadata": {},
   "source": [
    "`plt.barh()`可生成横向的柱状图。横向柱状图的宽度使用`height`设置。"
   ]
  },
  {
   "cell_type": "code",
   "execution_count": null,
   "metadata": {},
   "outputs": [],
   "source": [
    "plt.barh(df_province.index, df_province.values, color='tomato', height=0.5)\n",
    "\n",
    "plt.title('学生省份分布')\n",
    "plt.xlabel('人数')\n",
    "plt.ylabel('省份')\n",
    "plt.xticks(np.arange(0, 6))\n",
    "\n",
    "plt.show()"
   ]
  },
  {
   "cell_type": "markdown",
   "metadata": {},
   "source": [
    "【例】根据`students.csv`，统计不同年龄的学生个数"
   ]
  },
  {
   "cell_type": "code",
   "execution_count": null,
   "metadata": {},
   "outputs": [],
   "source": [
    "df = pd.read_csv('data/students.csv')\n",
    "df.head()"
   ]
  },
  {
   "cell_type": "code",
   "execution_count": null,
   "metadata": {},
   "outputs": [],
   "source": [
    "df_age = df.groupby('Age').size()\n",
    "df_age"
   ]
  },
  {
   "cell_type": "code",
   "execution_count": null,
   "metadata": {},
   "outputs": [],
   "source": [
    "plt.bar(df_age.index, df_age.values)\n",
    "\n",
    "plt.title('学生年龄分布')\n",
    "plt.xlabel('年龄')\n",
    "plt.ylabel('人数')\n",
    "plt.xticks(np.arange(18, 24))\n",
    "\n",
    "plt.show()"
   ]
  },
  {
   "cell_type": "markdown",
   "metadata": {},
   "source": [
    "如果要显示每个柱的精确值，需要使用`plt.text()`自行设置位置。"
   ]
  },
  {
   "cell_type": "code",
   "execution_count": null,
   "metadata": {},
   "outputs": [],
   "source": [
    "plt.bar(df_age.index, df_age.values, width=0.5)\n",
    "\n",
    "for age, value in zip(df_age.index, df_age.values):\n",
    "    plt.text(x=age, y=value + 0.3, s=f'{value}', ha='center')\n",
    "    \n",
    "plt.title('学生年龄分布')\n",
    "plt.xlabel('年龄')\n",
    "plt.ylabel('人数')\n",
    "plt.xticks(np.arange(18, 24))\n",
    "\n",
    "plt.show()"
   ]
  },
  {
   "cell_type": "markdown",
   "metadata": {},
   "source": [
    "## 直方图Histogram"
   ]
  },
  {
   "cell_type": "markdown",
   "metadata": {},
   "source": [
    "直方图用于统计数据频率。"
   ]
  },
  {
   "cell_type": "markdown",
   "metadata": {},
   "source": [
    "`edgecolor`参数用于设置边框颜色。"
   ]
  },
  {
   "cell_type": "code",
   "execution_count": null,
   "metadata": {},
   "outputs": [],
   "source": [
    "data = np.random.randint(0, 50, size=100)\n",
    "\n",
    "plt.hist(data, bins=50, color='purple', edgecolor='black')\n",
    "\n",
    "plt.title('数据出现频率')\n",
    "plt.xlabel('数据')\n",
    "plt.ylabel('频率')\n",
    "\n",
    "plt.show()"
   ]
  },
  {
   "cell_type": "markdown",
   "metadata": {},
   "source": [
    "【例】使用正态分布生成10000个学生的身高，均值为171.4、标准差为11.3"
   ]
  },
  {
   "cell_type": "code",
   "execution_count": null,
   "metadata": {},
   "outputs": [],
   "source": [
    "heights = np.random.normal(171.4, 11.3, size=10000)\n",
    "\n",
    "plt.hist(heights, bins=50, color='purple', edgecolor='black')\n",
    "\n",
    "plt.title('身高分布')\n",
    "plt.xlabel('身高（cm）')\n",
    "plt.ylabel('频数')\n",
    "\n",
    "plt.show()"
   ]
  },
  {
   "cell_type": "markdown",
   "metadata": {},
   "source": [
    "## 饼图Pie Chart"
   ]
  },
  {
   "cell_type": "markdown",
   "metadata": {},
   "source": [
    "饼图用于描述不同类别数据的占比。"
   ]
  },
  {
   "cell_type": "markdown",
   "metadata": {},
   "source": [
    "手机操作系统市场占比："
   ]
  },
  {
   "cell_type": "code",
   "execution_count": null,
   "metadata": {},
   "outputs": [],
   "source": [
    "df = pd.DataFrame({\n",
    "    'OS': ['Android', 'iOS', 'Others'],\n",
    "    'Market': [69.44, 29.89, 0.67]\n",
    "})\n",
    "\n",
    "df"
   ]
  },
  {
   "cell_type": "code",
   "execution_count": null,
   "metadata": {},
   "outputs": [],
   "source": [
    "plt.pie(df['Market'], labels=df['OS'])\n",
    "plt.title('手机操作系统市场份额')\n",
    "plt.show()"
   ]
  },
  {
   "cell_type": "markdown",
   "metadata": {},
   "source": [
    "`autopct`参数用于设置具体的百分比。\n",
    "\n",
    "`colors`参数用于设置每个类别的颜色。"
   ]
  },
  {
   "cell_type": "code",
   "execution_count": null,
   "metadata": {},
   "outputs": [],
   "source": [
    "plt.pie(df['Market'], labels=df['OS'], autopct='%.2f%%', colors=['orange', 'lightgreen', 'red'])\n",
    "plt.title('手机操作系统市场份额')\n",
    "plt.show()"
   ]
  },
  {
   "cell_type": "markdown",
   "metadata": {},
   "source": [
    "`startangle`参数用于设置开始角度："
   ]
  },
  {
   "cell_type": "code",
   "execution_count": null,
   "metadata": {},
   "outputs": [],
   "source": [
    "plt.pie(df['Market'], labels=df['OS'], startangle=45, autopct='%.2f%%', colors=['orange', 'lightgreen', 'red'])\n",
    "plt.title('手机操作系统市场份额')\n",
    "plt.show()"
   ]
  },
  {
   "cell_type": "markdown",
   "metadata": {},
   "source": [
    "`explode`参数用于设置每个部分离开中心的距离："
   ]
  },
  {
   "cell_type": "code",
   "execution_count": null,
   "metadata": {},
   "outputs": [],
   "source": [
    "plt.pie(df['Market'], labels=df['OS'], explode=[0.2, 0.6, 0.4], startangle=45, autopct='%.2f%%', colors=['orange', 'lightgreen', 'red'])\n",
    "plt.title('手机操作系统市场份额')\n",
    "plt.show()"
   ]
  },
  {
   "cell_type": "markdown",
   "metadata": {},
   "source": [
    "【例】根据`students.csv`，统计不同年龄学生的占比"
   ]
  },
  {
   "cell_type": "code",
   "execution_count": null,
   "metadata": {},
   "outputs": [],
   "source": [
    "df = pd.read_csv('data/students.csv')\n",
    "df.head()"
   ]
  },
  {
   "cell_type": "code",
   "execution_count": null,
   "metadata": {},
   "outputs": [],
   "source": [
    "df_age = df.groupby('Age').size()\n",
    "df_age"
   ]
  },
  {
   "cell_type": "code",
   "execution_count": null,
   "metadata": {},
   "outputs": [],
   "source": [
    "plt.pie(df_age.values, labels=df_age.index, autopct='%d%%')\n",
    "plt.title('学生年龄分布')\n",
    "plt.show()"
   ]
  },
  {
   "cell_type": "markdown",
   "metadata": {},
   "source": [
    "## 箱型图Box Plot"
   ]
  },
  {
   "cell_type": "markdown",
   "metadata": {},
   "source": [
    "箱型图适用于查看数据的分位数分布，可以直观地找到数据中的异常值。\n",
    "\n",
    "它将样本居中的`50％`数据用一个长方形表示，较小和较大的四分之一值各用一根线表示，异常值用`o`表示。"
   ]
  },
  {
   "cell_type": "code",
   "execution_count": null,
   "metadata": {},
   "outputs": [],
   "source": [
    "df = pd.read_csv('data/students.csv')\n",
    "df.head()"
   ]
  },
  {
   "cell_type": "code",
   "execution_count": null,
   "metadata": {},
   "outputs": [],
   "source": [
    "plt.boxplot(df['Weight'])\n",
    "plt.title('学生体重分布')\n",
    "plt.show()"
   ]
  },
  {
   "cell_type": "markdown",
   "metadata": {},
   "source": [
    "![](./img/boxplot.png)"
   ]
  },
  {
   "cell_type": "markdown",
   "metadata": {},
   "source": [
    "【例】根据`studentsInfo.csv`，查看学生月生活费的分布情况"
   ]
  },
  {
   "cell_type": "code",
   "execution_count": null,
   "metadata": {},
   "outputs": [],
   "source": [
    "df = pd.read_csv('data/studentsInfo.csv')\n",
    "df.head()"
   ]
  },
  {
   "cell_type": "code",
   "execution_count": null,
   "metadata": {},
   "outputs": [],
   "source": [
    "df.isnull().any()"
   ]
  },
  {
   "cell_type": "code",
   "execution_count": null,
   "metadata": {},
   "outputs": [],
   "source": [
    "df.dropna(subset=['月生活费'], inplace=True)\n",
    "df.isnull().any()"
   ]
  },
  {
   "cell_type": "code",
   "execution_count": null,
   "metadata": {},
   "outputs": [],
   "source": [
    "plt.boxplot(df['月生活费'])\n",
    "plt.title('学生月生活费分布')\n",
    "plt.show()"
   ]
  }
 ],
 "metadata": {
  "kernelspec": {
   "display_name": "Python 3",
   "language": "python",
   "name": "python3"
  },
  "language_info": {
   "codemirror_mode": {
    "name": "ipython",
    "version": 3
   },
   "file_extension": ".py",
   "mimetype": "text/x-python",
   "name": "python",
   "nbconvert_exporter": "python",
   "pygments_lexer": "ipython3",
   "version": "3.11.4"
  }
 },
 "nbformat": 4,
 "nbformat_minor": 2
}
