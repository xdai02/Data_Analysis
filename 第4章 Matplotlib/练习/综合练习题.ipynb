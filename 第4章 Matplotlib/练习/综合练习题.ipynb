{
 "cells": [
  {
   "cell_type": "markdown",
   "metadata": {},
   "source": [
    "# 综合练习题"
   ]
  },
  {
   "cell_type": "code",
   "execution_count": null,
   "metadata": {},
   "outputs": [],
   "source": [
    "import numpy as np\n",
    "import pandas as pd\n",
    "import matplotlib.pyplot as plt"
   ]
  },
  {
   "cell_type": "code",
   "execution_count": null,
   "metadata": {},
   "outputs": [],
   "source": [
    "%matplotlib inline"
   ]
  },
  {
   "cell_type": "code",
   "execution_count": null,
   "metadata": {},
   "outputs": [],
   "source": [
    "plt.rcParams['font.sans-serif'] = ['SimHei']\n",
    "plt.rcParams['axes.unicode_minus'] = False"
   ]
  },
  {
   "cell_type": "markdown",
   "metadata": {},
   "source": [
    "文件`bankpep.csv`存放着银行储户的基本信息：\n",
    "\n",
    "| 表头 | 说明 |\n",
    "| --- | --- |\n",
    "| id | 编号 |\n",
    "| age | 年龄 |\n",
    "| sex | 性别 |\n",
    "| region | 区域 |\n",
    "| income | 收入 |\n",
    "| married | 婚否 |\n",
    "| children | 孩子数 |\n",
    "| car | 有车否 |\n",
    "| save_act | 存款账户 |\n",
    "| current_act | 现金账户 |\n",
    "| mortgage | 是否抵押 |\n",
    "| pep | 接受新业务 |\n",
    "\n",
    "通过绘图对这些客户数据进行可视化分析。"
   ]
  },
  {
   "cell_type": "code",
   "execution_count": null,
   "metadata": {},
   "outputs": [],
   "source": [
    "df = pd.read_csv('data/bankpep.csv')\n",
    "df.head()"
   ]
  },
  {
   "cell_type": "markdown",
   "metadata": {},
   "source": [
    "（1）客户年龄分布的直方图和密度图，如下图："
   ]
  },
  {
   "cell_type": "markdown",
   "metadata": {},
   "source": [
    "![](./img/客户年龄分布.png)"
   ]
  },
  {
   "cell_type": "code",
   "execution_count": null,
   "metadata": {},
   "outputs": [],
   "source": [
    "df['age'].plot(kind='hist', bins=10, density=True, color='lightblue', edgecolor='black')\n",
    "df['age'].plot(kind='kde', color='blue', title='Customer Age')\n",
    "plt.xlabel('Age')\n",
    "\n",
    "plt.show()"
   ]
  },
  {
   "cell_type": "markdown",
   "metadata": {},
   "source": [
    "（2）客户年龄和收入关系的散点图，如下图："
   ]
  },
  {
   "cell_type": "markdown",
   "metadata": {},
   "source": [
    "![](./img/按客户年龄和收入关系绘制的散点图.png)"
   ]
  },
  {
   "cell_type": "code",
   "execution_count": null,
   "metadata": {},
   "outputs": [],
   "source": [
    "plt.scatter(df['age'], df['income'], marker='.')\n",
    "\n",
    "plt.title('Customer Age')\n",
    "plt.xlabel('Age')\n",
    "plt.ylabel('Income')\n",
    "plt.xlim(0, 80)\n",
    "\n",
    "plt.show()"
   ]
  },
  {
   "cell_type": "markdown",
   "metadata": {},
   "source": [
    "（3）绘制散点图矩阵观察客户（年龄、收入、孩子数）之间的关系，主对角线上显示直方图，如下图："
   ]
  },
  {
   "cell_type": "markdown",
   "metadata": {},
   "source": [
    "![](./img/散点图矩阵.png)"
   ]
  },
  {
   "cell_type": "code",
   "execution_count": null,
   "metadata": {},
   "outputs": [],
   "source": [
    "data = df[['age', 'income', 'children']]\n",
    "data.head()"
   ]
  },
  {
   "cell_type": "code",
   "execution_count": null,
   "metadata": {},
   "outputs": [],
   "source": [
    "pd.plotting.scatter_matrix(data, diagonal='hist')\n",
    "plt.show()"
   ]
  },
  {
   "cell_type": "markdown",
   "metadata": {},
   "source": [
    "（4）按区域展示客户平均收入的柱状图，并显示标准差，如下图："
   ]
  },
  {
   "cell_type": "markdown",
   "metadata": {},
   "source": [
    "![](./img/各区域客户的平均收入.png)"
   ]
  },
  {
   "cell_type": "code",
   "execution_count": null,
   "metadata": {},
   "outputs": [],
   "source": [
    "std = df.groupby(['region'])['income'].std()\n",
    "std"
   ]
  },
  {
   "cell_type": "code",
   "execution_count": null,
   "metadata": {},
   "outputs": [],
   "source": [
    "mean = df.groupby(['region'])['income'].mean()\n",
    "mean"
   ]
  },
  {
   "cell_type": "code",
   "execution_count": null,
   "metadata": {},
   "outputs": [],
   "source": [
    "mean.plot(kind='bar', x=df.groupby(['region']), yerr=std, title='Customer Income')\n",
    "\n",
    "plt.xlabel('Region')\n",
    "plt.ylabel('Customer Income')\n",
    "\n",
    "plt.show()"
   ]
  },
  {
   "cell_type": "markdown",
   "metadata": {},
   "source": [
    "（5）多子图绘制：按客户的性别、有车客户的性别和孩子数占比绘制的饼图，如下图："
   ]
  },
  {
   "cell_type": "markdown",
   "metadata": {},
   "source": [
    "![](./img/按客户的性别、有车客户的性别和孩子数占比绘制的饼图.png)"
   ]
  },
  {
   "cell_type": "code",
   "execution_count": null,
   "metadata": {},
   "outputs": [],
   "source": [
    "sex_count = df.groupby('sex')['sex'].count()\n",
    "sex_count"
   ]
  },
  {
   "cell_type": "code",
   "execution_count": null,
   "metadata": {},
   "outputs": [],
   "source": [
    "car_sex_count = df[df['car'] == 'YES'].groupby('sex')['sex'].count()\n",
    "car_sex_count"
   ]
  },
  {
   "cell_type": "code",
   "execution_count": null,
   "metadata": {},
   "outputs": [],
   "source": [
    "children_count = df.groupby('children')['children'].count()\n",
    "children_count"
   ]
  },
  {
   "cell_type": "code",
   "execution_count": null,
   "metadata": {},
   "outputs": [],
   "source": [
    "fig = plt.figure()\n",
    "\n",
    "ax1 = fig.add_subplot(2, 2, 1)\n",
    "plt.pie(sex_count, labels=['FEMALE','MALE'], startangle=45, autopct='%.1f%%')\n",
    "plt.title('Customer Sex')\n",
    "plt.ylabel('Sex')\n",
    "\n",
    "ax2 = fig.add_subplot(2, 2, 2)\n",
    "plt.pie(car_sex_count, labels=['FEMALE','MALE'], startangle=45, autopct='%.1f%%')\n",
    "plt.title('Customer Car Sex')\n",
    "plt.ylabel('Sex')\n",
    "\n",
    "ax3 = fig.add_subplot(2, 2, 3)\n",
    "plt.pie(children_count, labels=[0, 1, 2, 3], startangle=45, autopct='%.1f%%')\n",
    "plt.title('Customer Children')\n",
    "plt.ylabel('Children')\n",
    "\n",
    "plt.show()"
   ]
  },
  {
   "cell_type": "markdown",
   "metadata": {},
   "source": [
    "（6）按客户的性别、收入绘制的箱形图，如下图："
   ]
  },
  {
   "cell_type": "markdown",
   "metadata": {},
   "source": [
    "![](./img/按客户的性别、收入绘制的箱形图.png)"
   ]
  },
  {
   "cell_type": "code",
   "execution_count": null,
   "metadata": {},
   "outputs": [],
   "source": [
    "df[['sex', 'income']].boxplot(by='sex')\n",
    "plt.show()"
   ]
  }
 ],
 "metadata": {
  "kernelspec": {
   "display_name": "Python 3",
   "language": "python",
   "name": "python3"
  },
  "language_info": {
   "codemirror_mode": {
    "name": "ipython",
    "version": 3
   },
   "file_extension": ".py",
   "mimetype": "text/x-python",
   "name": "python",
   "nbconvert_exporter": "python",
   "pygments_lexer": "ipython3",
   "version": "3.11.4"
  }
 },
 "nbformat": 4,
 "nbformat_minor": 2
}
