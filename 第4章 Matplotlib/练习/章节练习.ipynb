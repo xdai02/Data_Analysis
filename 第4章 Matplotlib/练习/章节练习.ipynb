{
 "cells": [
  {
   "cell_type": "markdown",
   "metadata": {},
   "source": [
    "# 章节练习"
   ]
  },
  {
   "cell_type": "code",
   "execution_count": null,
   "metadata": {},
   "outputs": [],
   "source": [
    "import numpy as np\n",
    "import pandas as pd\n",
    "import matplotlib.pyplot as plt"
   ]
  },
  {
   "cell_type": "code",
   "execution_count": null,
   "metadata": {},
   "outputs": [],
   "source": [
    "%matplotlib inline"
   ]
  },
  {
   "cell_type": "code",
   "execution_count": null,
   "metadata": {},
   "outputs": [],
   "source": [
    "plt.rcParams['font.sans-serif'] = ['SimHei']\n",
    "plt.rcParams['axes.unicode_minus'] = False"
   ]
  },
  {
   "cell_type": "markdown",
   "metadata": {},
   "source": [
    "1. 2012~2020年我国人均可支配收入（单位：万元）为`[1.47, 1.62, 1.78, 1.94, 2.38, 2.60, 2.82, 3.07, 3.21]`。"
   ]
  },
  {
   "cell_type": "markdown",
   "metadata": {},
   "source": [
    "（1）绘制人均可支配收入折线图（如下图）。数据点用**小矩形**标记、**黑色虚线**，并用注解标出**最高点**，图**标题**为`Income`, 设置**坐标轴标题**，最后将图形保存为`income.jpg`文件"
   ]
  },
  {
   "cell_type": "markdown",
   "metadata": {},
   "source": [
    "![](./img/人均可支配收入.png)"
   ]
  },
  {
   "cell_type": "code",
   "execution_count": null,
   "metadata": {},
   "outputs": [],
   "source": [
    "year = np.arange(2012, 2021)\n",
    "income = [1.47, 1.62, 1.78, 1.94, 2.38, 2.60, 2.82, 3.07, 3.21]"
   ]
  },
  {
   "cell_type": "code",
   "execution_count": null,
   "metadata": {},
   "outputs": [],
   "source": [
    "plt.plot(year, income, marker='s', linestyle=':', color='black')\n",
    "\n",
    "plt.title('2012-2020年人均可支配收入')\n",
    "plt.xlabel('Year')\n",
    "plt.ylabel('Income (RMB Ten Thousand)')\n",
    "plt.xlim(2012, 2020)\n",
    "plt.ylim(0, 3.5)\n",
    "\n",
    "plt.grid()\n",
    "plt.legend(['Income'], loc='upper left')\n",
    "plt.annotate('Largest!', xy=(2020, 3.21), xytext=(2018, 2.5), arrowprops=dict(arrowstyle='->'))\n",
    "\n",
    "plt.savefig('income.jpg')\n",
    "plt.show()"
   ]
  },
  {
   "cell_type": "markdown",
   "metadata": {},
   "source": [
    "（2）使用多个子图分别绘制人均可支配收入的折线图、箱形图及柱状图，如下图"
   ]
  },
  {
   "cell_type": "markdown",
   "metadata": {},
   "source": [
    "![](./img/多子图展示各年度人均可支配收入.png)"
   ]
  },
  {
   "cell_type": "code",
   "execution_count": null,
   "metadata": {},
   "outputs": [],
   "source": [
    "fig = plt.figure()\n",
    "\n",
    "ax1 = fig.add_subplot(2, 2, 1)\n",
    "ax2 = fig.add_subplot(2, 2, 2)\n",
    "ax3 = fig.add_subplot(2, 1, 2)\n",
    "\n",
    "ax1.plot(df.index, df['Income'])\n",
    "ax1.set_title('Line Chart')\n",
    "ax1.set_xlabel('Year')\n",
    "ax1.set_ylabel('Income')\n",
    "\n",
    "ax2.boxplot(df['Income'], labels=['2012-2020'])\n",
    "ax2.set_title('Box-Whisker Plot')\n",
    "ax2.set_ylabel('Income')\n",
    "\n",
    "ax3.bar(df.index, df['Income'], width=0.5)\n",
    "ax3.set_title('Bar Chart')\n",
    "ax3.set_xlabel('Year')\n",
    "ax3.set_ylabel('Income')\n",
    "ax3.legend(['Income'])\n",
    "\n",
    "plt.tight_layout()\n",
    "plt.show()"
   ]
  },
  {
   "cell_type": "markdown",
   "metadata": {},
   "source": [
    "2. 文件`High-speed rail.csv`中存放着世界各国高铁的情况，数据格式如下表所示，请对世界各国高铁的数据进行绘图分析。\n",
    "\n",
    "| Country | Operation | Under-construction | Planning |\n",
    "| --- | --- | --- | --- |\n",
    "| 国家 | 运营里程（千米） | 在建里程（千米） | 计划里程（千米） |"
   ]
  },
  {
   "cell_type": "code",
   "execution_count": null,
   "metadata": {},
   "outputs": [],
   "source": [
    "df = pd.read_csv('data/High-speed rail.csv', index_col='Country')\n",
    "df"
   ]
  },
  {
   "cell_type": "markdown",
   "metadata": {},
   "source": [
    "（1）各国运营里程对比柱状图，标注`China`为`Longest`, 如下图："
   ]
  },
  {
   "cell_type": "markdown",
   "metadata": {},
   "source": [
    "![](./img/各国高铁运营里程柱状图.png)"
   ]
  },
  {
   "cell_type": "code",
   "execution_count": null,
   "metadata": {},
   "outputs": [],
   "source": [
    "plt.bar(df.index, df['Operation'], width=0.5)\n",
    "\n",
    "plt.title('Operation Mileage')\n",
    "plt.xticks(rotation=45)\n",
    "plt.annotate('Longest!', xy=(0, 20000), xytext=(1, 20000), arrowprops=dict(arrowstyle='->'))\n",
    "\n",
    "plt.show()"
   ]
  },
  {
   "cell_type": "markdown",
   "metadata": {},
   "source": [
    "（2）各国运营里程现状和发展堆叠柱状图，如下图："
   ]
  },
  {
   "cell_type": "markdown",
   "metadata": {},
   "source": [
    "![](./img/各国高铁发展情况堆叠图.png)"
   ]
  },
  {
   "cell_type": "code",
   "execution_count": null,
   "metadata": {},
   "outputs": [],
   "source": [
    "df[['Operation', 'Under-construction', 'Planning']].plot(kind='barh', stacked=True)\n",
    "plt.title('Global trends of high-speed rail')\n",
    "plt.xlabel('Mileage (km)')\n",
    "plt.show()"
   ]
  },
  {
   "cell_type": "markdown",
   "metadata": {},
   "source": [
    "（3）各国运营里程占比饼图，其中`China`扇形离开中心点，如下图："
   ]
  },
  {
   "cell_type": "markdown",
   "metadata": {},
   "source": [
    "![](./img/各国高铁运营里程分布饼图.png)"
   ]
  },
  {
   "cell_type": "code",
   "execution_count": null,
   "metadata": {},
   "outputs": [],
   "source": [
    "plt.pie(df['Operation'], labels=df.index, autopct='%.1f%%', startangle=60, explode=[0.1, 0, 0, 0, 0, 0])\n",
    "plt.show()"
   ]
  },
  {
   "cell_type": "markdown",
   "metadata": {},
   "source": [
    "（4）绘制现有里程的地图，用不同颜色表示数量从大到小。"
   ]
  },
  {
   "cell_type": "code",
   "execution_count": null,
   "metadata": {},
   "outputs": [],
   "source": [
    "!pip install pyecharts"
   ]
  },
  {
   "cell_type": "code",
   "execution_count": null,
   "metadata": {},
   "outputs": [],
   "source": [
    "from pyecharts.charts import Map\n",
    "from pyecharts import options as opts\n",
    "from pyecharts.globals import ThemeType"
   ]
  },
  {
   "cell_type": "code",
   "execution_count": null,
   "metadata": {},
   "outputs": [],
   "source": [
    "(\n",
    "    Map(init_opts=opts.InitOpts(theme=ThemeType.WESTEROS))\n",
    "        .add('Operation', [list(z) for z in zip(df.index, df['Operation'])], 'world', is_map_symbol_show=False)\n",
    "        .set_series_opts(label_opts=opts.LabelOpts(is_show=False))\n",
    "        .set_global_opts(title_opts=opts.TitleOpts(\n",
    "            title='Global trends of high-speed rail',\n",
    "            pos_left='center',\n",
    "            title_textstyle_opts=opts.TextStyleOpts(font_size=25)\n",
    "        ),\n",
    "        visualmap_opts=opts.VisualMapOpts(\n",
    "            is_piecewise=True,\n",
    "            pieces=[\n",
    "                {'max': 2000, 'min': 1, 'label': '1~2000', 'color': '#00FFFF'},\n",
    "                {'max': 4000, 'min': 2001, 'label': '2001~4000', 'color': '#FF1493'},\n",
    "                {'max': 25000, 'min': 4001, 'label': '>=4001', 'color': '#FF0000'},\n",
    "            ]\n",
    "        )\n",
    "    ).render('high_speed_map.html')\n",
    ")"
   ]
  }
 ],
 "metadata": {
  "kernelspec": {
   "display_name": "Python 3",
   "language": "python",
   "name": "python3"
  },
  "language_info": {
   "codemirror_mode": {
    "name": "ipython",
    "version": 3
   },
   "file_extension": ".py",
   "mimetype": "text/x-python",
   "name": "python",
   "nbconvert_exporter": "python",
   "pygments_lexer": "ipython3",
   "version": "3.11.4"
  }
 },
 "nbformat": 4,
 "nbformat_minor": 2
}
