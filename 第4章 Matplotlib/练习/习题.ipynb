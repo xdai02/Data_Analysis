{
 "cells": [
  {
   "cell_type": "markdown",
   "metadata": {},
   "source": [
    "# 习题"
   ]
  },
  {
   "cell_type": "code",
   "execution_count": null,
   "metadata": {},
   "outputs": [],
   "source": [
    "import numpy as np\n",
    "import pandas as pd\n",
    "import matplotlib.pyplot as plt"
   ]
  },
  {
   "cell_type": "code",
   "execution_count": null,
   "metadata": {},
   "outputs": [],
   "source": [
    "%matplotlib inline"
   ]
  },
  {
   "cell_type": "code",
   "execution_count": null,
   "metadata": {},
   "outputs": [],
   "source": [
    "plt.rcParams['font.sans-serif'] = ['SimHei']\n",
    "plt.rcParams['axes.unicode_minus'] = False"
   ]
  },
  {
   "cell_type": "markdown",
   "metadata": {},
   "source": [
    "## 选择题"
   ]
  },
  {
   "cell_type": "markdown",
   "metadata": {},
   "source": [
    "1. 下图为某单位职工年龄的直方图，该单位职工哪个年龄段的人数最多？（C）\n",
    "\n",
    "    A. 36~38\n",
    "\n",
    "    B. 38~40\n",
    "\n",
    "    C. 40~42\n",
    "\n",
    "    D. 42~44"
   ]
  },
  {
   "cell_type": "markdown",
   "metadata": {},
   "source": [
    "![](./img/职工年龄直方图.png)"
   ]
  },
  {
   "cell_type": "markdown",
   "metadata": {},
   "source": [
    "2. 为了观察测试$ Y $与$ X $之间的线性关系，$ X $是连续变量，使用下列哪种图形比较适合？（A）\n",
    "\n",
    "    A. 散点图\n",
    "\n",
    "    B. 柱状图\n",
    "\n",
    "    C. 直方图\n",
    "\n",
    "    D. 以上都不对"
   ]
  },
  {
   "cell_type": "markdown",
   "metadata": {},
   "source": [
    "3. 下面哪个函数的作用是显示图形并关闭此次绘图？（B）\n",
    "\n",
    "    A. `plt.figure()`\n",
    "\n",
    "    B. `plt.show()`\n",
    "\n",
    "    C. `plt.savefig()`\n",
    "\n",
    "    D. `plt.plot()`"
   ]
  },
  {
   "cell_type": "markdown",
   "metadata": {},
   "source": [
    "4. （B）可用于展示离散数据。\n",
    "\n",
    "    A．折线图\n",
    "\n",
    "    B．柱状图\n",
    "\n",
    "    C．统计地图\n",
    "\n",
    "    D. 曲面图"
   ]
  },
  {
   "cell_type": "markdown",
   "metadata": {},
   "source": [
    "5. 箱形图中的符号`o`，表示数据中的（C）。\n",
    "\n",
    "    A. 最大值\n",
    "\n",
    "    B. 最小值\n",
    "\n",
    "    C. 异常值\n",
    "\n",
    "    D. 缺失值"
   ]
  },
  {
   "cell_type": "markdown",
   "metadata": {},
   "source": [
    "6. 下列代码中可以绘制散点图的是（A）。\n",
    "\n",
    "    A. `plt.scatter(x, y)`\n",
    "\n",
    "    B. `plt.plot(x, y)`\n",
    "\n",
    "    C. `plt.legend('upper left')`\n",
    "\n",
    "    D. `plt.xlabel('散点图')`"
   ]
  },
  {
   "cell_type": "markdown",
   "metadata": {},
   "source": [
    "7. 以下哪个`Matplotlib`图元设置函数可以添加网格线？（A）\n",
    "\n",
    "    A. `plt.grid`\n",
    "\n",
    "    B. `plt.text`\n",
    "\n",
    "    C. `plt.annotate`\n",
    "\n",
    "    D. `plt.legend`"
   ]
  },
  {
   "cell_type": "markdown",
   "metadata": {},
   "source": [
    "8. 请问以下哪个参数可用于修改`plt.figure`的大小？（B）\n",
    "\n",
    "    A. `size`\n",
    "\n",
    "    B. `figsize`\n",
    "\n",
    "    C. `plotsize`\n",
    "\n",
    "    D. `gridsize`"
   ]
  },
  {
   "cell_type": "markdown",
   "metadata": {},
   "source": [
    "## 填空题"
   ]
  },
  {
   "cell_type": "markdown",
   "metadata": {},
   "source": [
    "1. 下表记录了某地区两个景点2018年1月至3月的游客数量（单位：万人）。\n",
    "\n",
    "| 时间 | Park a | Park b |\n",
    "| --- | --- | --- |\n",
    "| Jan. | 2 | 1 |\n",
    "| Feb. | 1 | 3 |\n",
    "| Mar. | 4 | 8 |\n",
    "\n",
    "根据下图的数据绘制垂直柱状图，比较两个景点游客数量的平均值和标准差。"
   ]
  },
  {
   "cell_type": "markdown",
   "metadata": {},
   "source": [
    "![](./img/游客数量柱状图.png)"
   ]
  },
  {
   "cell_type": "code",
   "execution_count": null,
   "metadata": {},
   "outputs": [],
   "source": [
    "# 创建DataFrame对象\n",
    "data = pd.DataFrame(\n",
    "    [[2, 1] , [1, 3], [4, 8]],\n",
    "    index=['Jan.', 'Feb.',' Mar.'],\n",
    "    columns=['Parka', 'Parkb']\n",
    ")\n",
    "\n",
    "data"
   ]
  },
  {
   "cell_type": "code",
   "execution_count": null,
   "metadata": {},
   "outputs": [],
   "source": [
    "# 计算游客数量的平均值\n",
    "data_mean = data.mean()\n",
    "data_mean"
   ]
  },
  {
   "cell_type": "code",
   "execution_count": null,
   "metadata": {},
   "outputs": [],
   "source": [
    "# 计算游客数量的标准差\n",
    "data_std = data.std()\n",
    "data_std"
   ]
  },
  {
   "cell_type": "code",
   "execution_count": null,
   "metadata": {},
   "outputs": [],
   "source": [
    "# 绘制游客数量的平均值的垂直柱状图，并显示误差线\n",
    "data_mean.plot(kind='bar', yerr=data_std, title='Average of tourists')\n",
    "plt.grid()  # 显示网格线\n",
    "plt.show()  # 显示图形"
   ]
  },
  {
   "cell_type": "markdown",
   "metadata": {},
   "source": [
    "2. 下表记录了某地区女性和男性的人口数量（单位：万人）。\n",
    "\n",
    "| 性别 | population |\n",
    "| --- | --- |\n",
    "| male | 80 |\n",
    "| female | 65 |\n",
    "\n",
    "绘制饼图。"
   ]
  },
  {
   "cell_type": "markdown",
   "metadata": {},
   "source": [
    "![](./img/人口比例饼图.png)"
   ]
  },
  {
   "cell_type": "code",
   "execution_count": null,
   "metadata": {},
   "outputs": [],
   "source": [
    "# 创建Series对象\n",
    "t = pd.Series([80, 65], index=['male', 'female'])\n",
    "t"
   ]
  },
  {
   "cell_type": "code",
   "execution_count": null,
   "metadata": {},
   "outputs": [],
   "source": [
    "# 绘制饼图，起始绘制角度为60°\n",
    "t.plot(kind='pie', startangle=60, autopct='%.2f%%')\n",
    "plt.title('population')     # 设置图形标题\n",
    "plt.show()"
   ]
  }
 ],
 "metadata": {
  "kernelspec": {
   "display_name": "Python 3",
   "language": "python",
   "name": "python3"
  },
  "language_info": {
   "codemirror_mode": {
    "name": "ipython",
    "version": 3
   },
   "file_extension": ".py",
   "mimetype": "text/x-python",
   "name": "python",
   "nbconvert_exporter": "python",
   "pygments_lexer": "ipython3",
   "version": "3.11.4"
  }
 },
 "nbformat": 4,
 "nbformat_minor": 2
}
