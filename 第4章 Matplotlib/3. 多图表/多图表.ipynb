{
 "cells": [
  {
   "cell_type": "markdown",
   "metadata": {},
   "source": [
    "# 多图表"
   ]
  },
  {
   "cell_type": "code",
   "execution_count": null,
   "metadata": {},
   "outputs": [],
   "source": [
    "import numpy as np\n",
    "import pandas as pd\n",
    "import matplotlib.pyplot as plt"
   ]
  },
  {
   "cell_type": "code",
   "execution_count": null,
   "metadata": {},
   "outputs": [],
   "source": [
    "%matplotlib inline"
   ]
  },
  {
   "cell_type": "code",
   "execution_count": null,
   "metadata": {},
   "outputs": [],
   "source": [
    "plt.rcParams['font.sans-serif'] = ['SimHei']\n",
    "plt.rcParams['axes.unicode_minus'] = False"
   ]
  },
  {
   "cell_type": "markdown",
   "metadata": {},
   "source": [
    "## 多子图"
   ]
  },
  {
   "cell_type": "markdown",
   "metadata": {},
   "source": [
    "例如需要分别绘制$ y = sin(x) $和$ y = cos(x) $的函数图像。"
   ]
  },
  {
   "cell_type": "code",
   "execution_count": null,
   "metadata": {},
   "outputs": [],
   "source": [
    "x = np.linspace(0, 10, 100)\n",
    "y1 = np.sin(x)\n",
    "y2 = np.cos(x)"
   ]
  },
  {
   "cell_type": "markdown",
   "metadata": {},
   "source": [
    "`plt.figure()`用于创建`figure`对象。\n",
    "\n",
    "`fig.add_subplot()`用于添加子图。\n",
    "\n",
    "`fig.add_subplot(nrows, ncols, index)`\n",
    "\n",
    "| 参数 | 说明 |\n",
    "| --- | --- |\n",
    "| nrows | 画布被分成的行数 |\n",
    "| ncols | 画布被分成的列数 |\n",
    "| index | 子图的位置 |"
   ]
  },
  {
   "cell_type": "markdown",
   "metadata": {},
   "source": [
    "在Jupyter Notebook中创建多图表时，需要把生成多图表的代码放在同一个代码块中，否则无法正常显示图表。"
   ]
  },
  {
   "cell_type": "code",
   "execution_count": null,
   "metadata": {},
   "outputs": [],
   "source": [
    "fig = plt.figure()\n",
    "\n",
    "ax1 = fig.add_subplot(2, 1, 1)\n",
    "ax2 = fig.add_subplot(2, 1, 2)\n",
    "\n",
    "ax1.plot(x, y1, 'r-')\n",
    "ax1.set_title('Sine')\n",
    "\n",
    "ax2.plot(x, y2, 'g--')\n",
    "ax2.set_title('Cosine')\n",
    "\n",
    "plt.tight_layout()\n",
    "plt.show()"
   ]
  },
  {
   "cell_type": "markdown",
   "metadata": {},
   "source": [
    "`plt.figure()`和`fig.add_subplot()`可以合并成一行代码。"
   ]
  },
  {
   "cell_type": "code",
   "execution_count": null,
   "metadata": {},
   "outputs": [],
   "source": [
    "fig, (ax1, ax2) = plt.subplots(2, 1)\n",
    "\n",
    "ax1.plot(x, y1, 'r-')\n",
    "ax1.set_title('Sine')\n",
    "\n",
    "ax2.plot(x, y2, 'g--')\n",
    "ax2.set_title('Cosine')\n",
    "\n",
    "plt.tight_layout()\n",
    "plt.show()"
   ]
  },
  {
   "cell_type": "markdown",
   "metadata": {},
   "source": [
    "【例】左右绘制$ y = 6x^7 + 5sin(x) - 12x $和$ y = 42x^6 + 5cos(x) - 12 $的图像"
   ]
  },
  {
   "cell_type": "code",
   "execution_count": null,
   "metadata": {},
   "outputs": [],
   "source": [
    "x = np.linspace(-10, 10, 100)\n",
    "y1 = 6 * x ** 7 + 5 * np.sin(x) - 12 * x\n",
    "y2 = 42 * x ** 6 + 5 * np.cos(x) - 12"
   ]
  },
  {
   "cell_type": "code",
   "execution_count": null,
   "metadata": {},
   "outputs": [],
   "source": [
    "fig, (ax1, ax2) = plt.subplots(1, 2)\n",
    "\n",
    "ax1.plot(x, y1)\n",
    "ax2.plot(x, y2)\n",
    "\n",
    "plt.tight_layout()\n",
    "plt.show()"
   ]
  },
  {
   "cell_type": "markdown",
   "metadata": {},
   "source": [
    "## 跨行/列子图"
   ]
  },
  {
   "cell_type": "markdown",
   "metadata": {},
   "source": [
    "例如需要创建三张图表，分别为：\n",
    "\n",
    "1. 折线图：每年总人口数量变化趋势\n",
    "2. 柱状图：男女人口对比\n",
    "3. 饼图：最新的男女人口比例"
   ]
  },
  {
   "cell_type": "code",
   "execution_count": null,
   "metadata": {},
   "outputs": [],
   "source": [
    "df = pd.read_csv('Population.csv')\n",
    "df"
   ]
  },
  {
   "cell_type": "code",
   "execution_count": null,
   "metadata": {},
   "outputs": [],
   "source": [
    "df_boys = df.loc[df['Year'].idxmax(), 'Boys']\n",
    "df_boys"
   ]
  },
  {
   "cell_type": "code",
   "execution_count": null,
   "metadata": {},
   "outputs": [],
   "source": [
    "df_girls = df.loc[df['Year'].idxmax(), 'Girls']\n",
    "df_girls"
   ]
  },
  {
   "cell_type": "code",
   "execution_count": null,
   "metadata": {},
   "outputs": [],
   "source": [
    "fig = plt.figure(figsize=(12, 8))\n",
    "\n",
    "ax1 = fig.add_subplot(2, 1, 1)\n",
    "ax2 = fig.add_subplot(2, 2, 3)\n",
    "ax3 = fig.add_subplot(2, 2, 4)\n",
    "\n",
    "ax1.plot(df['Year'], df['Total'], color='r', marker='o')\n",
    "ax1.set_title('2010-2016年总人口')\n",
    "ax1.set_xlabel('年份')\n",
    "ax1.set_ylabel('人口')\n",
    "\n",
    "bar_width = 0.2\n",
    "ax2.bar(df['Year'], df['Boys'], width=bar_width, color='skyblue')\n",
    "ax2.bar(df['Year'] + bar_width, df['Girls'], width=bar_width, color='pink')\n",
    "ax2.set_title('2010-2016年男女人口数')\n",
    "ax2.set_xlabel('年份')\n",
    "ax2.set_ylabel('人口')\n",
    "ax2.legend(['男', '女'])\n",
    "\n",
    "ax3.pie([df_boys, df_girls], labels=['男', '女'], colors=['skyblue', 'pink'], autopct='%.2f%%')\n",
    "ax3.set_title('男女人口比例')\n",
    "\n",
    "plt.tight_layout()\n",
    "plt.show()"
   ]
  }
 ],
 "metadata": {
  "kernelspec": {
   "display_name": "Python 3",
   "language": "python",
   "name": "python3"
  },
  "language_info": {
   "codemirror_mode": {
    "name": "ipython",
    "version": 3
   },
   "file_extension": ".py",
   "mimetype": "text/x-python",
   "name": "python",
   "nbconvert_exporter": "python",
   "pygments_lexer": "ipython3",
   "version": "3.11.4"
  }
 },
 "nbformat": 4,
 "nbformat_minor": 2
}
