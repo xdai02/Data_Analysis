{
 "cells": [
  {
   "cell_type": "markdown",
   "metadata": {},
   "source": [
    "# Hangman"
   ]
  },
  {
   "cell_type": "markdown",
   "metadata": {},
   "source": [
    "## 规则"
   ]
  },
  {
   "cell_type": "markdown",
   "metadata": {},
   "source": [
    "- 系统随机生成一个英语单词，玩家一开始只知道单词的长度\n",
    "\n",
    "- 玩家每次只能猜一个字母，猜对的字母会显示出来，猜错会在绞刑架的小人上添加一笔\n",
    "\n",
    "- 当绞刑架上的小人画完（7笔）后，玩家还没猜对则失败"
   ]
  },
  {
   "cell_type": "markdown",
   "metadata": {},
   "source": [
    "## 示例"
   ]
  },
  {
   "cell_type": "markdown",
   "metadata": {},
   "source": [
    "游戏一开始如下："
   ]
  },
  {
   "cell_type": "code",
   "execution_count": null,
   "metadata": {},
   "outputs": [],
   "source": [
    "\"\"\"\n",
    "            +---+\n",
    "                |\n",
    "                |\n",
    "                |\n",
    "               ===\n",
    "\n",
    "_ _ _ _ _ _\n",
    "\n",
    "错误字母： []\n",
    "\n",
    "猜一个字母：\n",
    "\"\"\""
   ]
  },
  {
   "cell_type": "markdown",
   "metadata": {},
   "source": [
    "一开始只知道这个字母的长度为`6`。\n",
    "\n",
    "随便猜一个字母`a`："
   ]
  },
  {
   "cell_type": "code",
   "execution_count": null,
   "metadata": {},
   "outputs": [],
   "source": [
    "\"\"\"\n",
    "            +---+\n",
    "                |\n",
    "                |\n",
    "                |\n",
    "               ===\n",
    "\n",
    "_ a _ _ _ a _\n",
    "\n",
    "错误字母： []\n",
    "\n",
    "猜一个字母：\n",
    "\"\"\""
   ]
  },
  {
   "cell_type": "markdown",
   "metadata": {},
   "source": [
    "`a`在这个单词中，猜对了会把单词中所有的`a`显示出来。\n",
    "\n",
    "继续猜字母`h`："
   ]
  },
  {
   "cell_type": "code",
   "execution_count": null,
   "metadata": {},
   "outputs": [],
   "source": [
    "\"\"\"\n",
    "            +---+\n",
    "                |\n",
    "                |\n",
    "                |\n",
    "               ===\n",
    "\n",
    "h a _ _ _ a _\n",
    "\n",
    "错误字母： []\n",
    "\n",
    "猜一个字母：\n",
    "\"\"\""
   ]
  },
  {
   "cell_type": "markdown",
   "metadata": {},
   "source": [
    "又猜对了，`h`也会显示出来。\n",
    "\n",
    "继续猜字母`p`："
   ]
  },
  {
   "cell_type": "code",
   "execution_count": null,
   "metadata": {},
   "outputs": [],
   "source": [
    "\"\"\"\n",
    "            +---+\n",
    "            O   |\n",
    "                |\n",
    "                |\n",
    "               ===\n",
    "\n",
    "h a _ _ _ a _\n",
    "\n",
    "错误字母： ['p']\n",
    "\n",
    "猜一个字母：\n",
    "\"\"\""
   ]
  },
  {
   "cell_type": "markdown",
   "metadata": {},
   "source": [
    "字母`p`不在单词中，猜错一次，绞刑架上被画了一笔。\n",
    "\n",
    "继续猜字母`y`："
   ]
  },
  {
   "cell_type": "code",
   "execution_count": null,
   "metadata": {},
   "outputs": [],
   "source": [
    "\"\"\"\n",
    "            +---+\n",
    "            O   |\n",
    "            |   |\n",
    "                |\n",
    "               ===\n",
    "\n",
    "h a _ _ _ a _\n",
    "\n",
    "错误字母： ['p', 'y']\n",
    "\n",
    "猜一个字母：\n",
    "\"\"\""
   ]
  },
  {
   "cell_type": "markdown",
   "metadata": {},
   "source": [
    "字母`y`也不在单词中，小人再被划一笔。\n",
    "\n",
    "继续猜字母`n`："
   ]
  },
  {
   "cell_type": "code",
   "execution_count": null,
   "metadata": {},
   "outputs": [],
   "source": [
    "\"\"\"\n",
    "            +---+\n",
    "            O   |\n",
    "            |   |\n",
    "                |\n",
    "               ===\n",
    "\n",
    "h a n _ _ a n\n",
    "\n",
    "错误字母： ['p', 'y']\n",
    "\n",
    "猜一个字母：\n",
    "\"\"\""
   ]
  },
  {
   "cell_type": "markdown",
   "metadata": {},
   "source": [
    "这个猜对了！目前单词大部分完整了，可以猜测这个单词就是`hangman`。\n",
    "\n",
    "试一下`g`："
   ]
  },
  {
   "cell_type": "code",
   "execution_count": null,
   "metadata": {},
   "outputs": [],
   "source": [
    "\"\"\"\n",
    "            +---+\n",
    "            O   |\n",
    "            |   |\n",
    "                |\n",
    "               ===\n",
    "\n",
    "h a n g _ a n\n",
    "\n",
    "错误字母： ['p', 'y']\n",
    "\n",
    "猜一个字母：\n",
    "\"\"\""
   ]
  },
  {
   "cell_type": "markdown",
   "metadata": {},
   "source": [
    "试一下`m`："
   ]
  },
  {
   "cell_type": "code",
   "execution_count": null,
   "metadata": {},
   "outputs": [],
   "source": [
    "\"\"\"\n",
    "            +---+\n",
    "            O   |\n",
    "            |   |\n",
    "                |\n",
    "               ===\n",
    "\n",
    "h a n g _ a n\n",
    "\n",
    "错误字母： ['p', 'y']\n",
    "\n",
    "猜一个字母：m\n",
    "猜对了！正确答案是： hangman\n",
    "\"\"\""
   ]
  },
  {
   "cell_type": "markdown",
   "metadata": {},
   "source": [
    "猜对了！玩家获胜！"
   ]
  },
  {
   "cell_type": "markdown",
   "metadata": {},
   "source": [
    "如果玩家失败的情况："
   ]
  },
  {
   "cell_type": "code",
   "execution_count": null,
   "metadata": {},
   "outputs": [],
   "source": [
    "\"\"\"\n",
    "            +---+\n",
    "                |\n",
    "                |\n",
    "                |\n",
    "               ===\n",
    "\n",
    "h a _ _ _ a _\n",
    "\n",
    "错误字母： []\n",
    "\n",
    "猜一个字母：p\n",
    "\n",
    "\n",
    "            +---+\n",
    "            O   |\n",
    "                |\n",
    "                |\n",
    "               ===\n",
    "\n",
    "h a _ _ _ a _\n",
    "\n",
    "错误字母： ['p']\n",
    "\n",
    "猜一个字母：y\n",
    "\n",
    "\n",
    "            +---+\n",
    "            O   |\n",
    "            |   |\n",
    "                |\n",
    "               ===\n",
    "\n",
    "h a _ _ _ a _\n",
    "\n",
    "错误字母： ['p', 'y']\n",
    "\n",
    "猜一个字母：g\n",
    "\n",
    "\n",
    "            +---+\n",
    "            O   |\n",
    "            |   |\n",
    "                |\n",
    "               ===\n",
    "\n",
    "h a _ g _ a _\n",
    "\n",
    "错误字母： ['p', 'y']\n",
    "\n",
    "猜一个字母：k\n",
    "\n",
    "\n",
    "            +---+\n",
    "            O   |\n",
    "           /|   |\n",
    "                |\n",
    "               ===\n",
    "\n",
    "h a _ g _ a _\n",
    "\n",
    "错误字母： ['p', 'y', 'k']\n",
    "\n",
    "猜一个字母：s\n",
    "\n",
    "\n",
    "            +---+\n",
    "            O   |\n",
    "           /|\\  |\n",
    "                |\n",
    "               ===\n",
    "\n",
    "h a _ g _ a _\n",
    "\n",
    "错误字母： ['p', 'y', 'k', 's']\n",
    "\n",
    "猜一个字母：t\n",
    "\n",
    "\n",
    "            +---+\n",
    "            O   |\n",
    "           /|\\  |\n",
    "           /    |\n",
    "               ===\n",
    "\n",
    "h a _ g _ a _\n",
    "\n",
    "错误字母： ['p', 'y', 'k', 's', 't']\n",
    "\n",
    "猜一个字母：x\n",
    "\n",
    "\n",
    "            +---+\n",
    "            O   |\n",
    "           /|\\  |\n",
    "           / \\  |\n",
    "               ===\n",
    "\n",
    "h a _ g _ a _\n",
    "\n",
    "错误字母： ['p', 'y', 'k', 's', 't', 'x']\n",
    "\n",
    "猜一个字母：w\n",
    "猜错了！正确答案是： hangman\n",
    "\"\"\""
   ]
  },
  {
   "cell_type": "markdown",
   "metadata": {},
   "source": [
    "## 实现"
   ]
  },
  {
   "cell_type": "markdown",
   "metadata": {},
   "source": [
    "1. 使用面向对象的思想，可以设计一个`Hangman`类，用来处理整个游戏的各种逻辑。"
   ]
  },
  {
   "cell_type": "code",
   "execution_count": null,
   "metadata": {},
   "outputs": [],
   "source": [
    "class Hangman:\n",
    "    pass"
   ]
  },
  {
   "cell_type": "markdown",
   "metadata": {},
   "source": [
    "2. 一个类需要有：\n",
    "\n",
    "- `__init__()`：构造函数。用于在创建类对象时初始化一些数据。\n",
    "\n",
    "- `__choose_word()`：随机选择一个单词作为答案。\n",
    "\n",
    "- `__display_status()`：显示游戏界面（画出小人、单词猜测情况、猜错的字母）。\n",
    "\n",
    "- `__check_win()`：判断玩家是否获胜。\n",
    "\n",
    "- `start()`：开始游戏。"
   ]
  },
  {
   "cell_type": "code",
   "execution_count": null,
   "metadata": {},
   "outputs": [],
   "source": [
    "class Hangman:\n",
    "    def __init__(self):\n",
    "        pass\n",
    "\n",
    "    def __choose_word(self):\n",
    "        pass\n",
    "\n",
    "    def __display_status(self):\n",
    "        pass\n",
    "\n",
    "    def __check_win(self):\n",
    "        pass\n",
    "\n",
    "    def start(self):\n",
    "        pass"
   ]
  },
  {
   "cell_type": "markdown",
   "metadata": {},
   "source": [
    "Python的类中，以双下划线`__`开头的变量/方法表示私有，即只能在类中使用。\n",
    "\n",
    "设计一个类时，需要考虑哪些属性是需要对外公开的、哪些属性应该保持私有（不能让外部直接访问）。\n",
    "\n",
    "例如在这个游戏中，外部（玩家）只需要能够开始游戏就行，我们只需要提供一个公开的函数`start()`给玩家即可，通过调用`start()`就能开始游戏。\n",
    "\n",
    "对于玩家而言，选单词、判断获胜、输出游戏界面跟玩家是无关的，这是`Hangman`类内部的逻辑处理。因此其它几个方法定义为私有。"
   ]
  },
  {
   "cell_type": "markdown",
   "metadata": {},
   "source": [
    "3. 方法确定下来后，可以思考这个类需要用到哪些变量。\n",
    "\n",
    "- `self.__words`：列表类型。需要一个单词列表，保存大量的英语单词，用于从中挑选单词。\n",
    "\n",
    "- `self.__secret_word`：字符串。每次游戏随机挑选的单词。\n",
    "\n",
    "- `self.__correct_letters`：列表/集合类型。保存玩家所有猜对的字母。\n",
    "\n",
    "- `self.__incorrect_letters`：列表/集合类型，保存玩家所有猜错的字母。\n",
    "\n",
    "- `self.__wrong_num`：int类型。保存玩家猜错的次数。\n",
    "\n",
    "- `self.__HANGMAN_PICS`：列表类型。把绞刑架小人的各个状态保存在列表中。"
   ]
  },
  {
   "cell_type": "code",
   "execution_count": null,
   "metadata": {},
   "outputs": [],
   "source": [
    "class Hangman:\n",
    "    def __init__(self):\n",
    "        self.__HANGMAN_PICS = [\n",
    "            '''\n",
    "            +---+\n",
    "                |\n",
    "                |\n",
    "                |\n",
    "               ===''', '''\n",
    "            +---+\n",
    "            O   |\n",
    "                |\n",
    "                |\n",
    "               ===''', '''\n",
    "            +---+\n",
    "            O   |\n",
    "            |   |\n",
    "                |\n",
    "               ===''', '''\n",
    "            +---+\n",
    "            O   |\n",
    "           /|   |\n",
    "                |\n",
    "               ===''', '''\n",
    "            +---+\n",
    "            O   |\n",
    "           /|\\  |\n",
    "                |\n",
    "               ===''', '''\n",
    "            +---+\n",
    "            O   |\n",
    "           /|\\  |\n",
    "           /    |\n",
    "               ===''', '''\n",
    "            +---+\n",
    "            O   |\n",
    "           /|\\  |\n",
    "           / \\  |\n",
    "               ==='''\n",
    "        ]"
   ]
  },
  {
   "cell_type": "markdown",
   "metadata": {},
   "source": [
    "`self.__HANGMAN_PICS`的下标正好和猜错的次数相对应。\n",
    "\n",
    "`self.__HANGMAN_PICS[self.__wrong_num]`为第`wrong_num`次猜错的状态。"
   ]
  },
  {
   "cell_type": "markdown",
   "metadata": {},
   "source": [
    "4. `__init__()`：游戏的准备工作就是生成大量词库，目前可以先定义一个简单的单词列表，方便测试。"
   ]
  },
  {
   "cell_type": "markdown",
   "metadata": {},
   "source": [
    "5. `__choose_word()`：从词库中随机选择一个单词作为`self.__secret_word`。"
   ]
  },
  {
   "cell_type": "markdown",
   "metadata": {},
   "source": [
    "6. `__display_status()`：\n",
    "\n",
    "    游戏界面包括：\n",
    "\n",
    "    - 绞刑架状态\n",
    "    - 单词状态\n",
    "    - 错误字母"
   ]
  },
  {
   "cell_type": "markdown",
   "metadata": {},
   "source": [
    "7. `start()`：\n",
    "\n",
    "    - 初始化变量：\n",
    "        - `self.__wrong_num`\n",
    "        - `self.__correct_letters = []`\n",
    "        - `self.__incorrect_letters = []`\n",
    "    - 随机选择单词\n",
    "    - 显示游戏界面\n",
    "    - 用户输入字母\n",
    "    - 判断是否正确"
   ]
  },
  {
   "cell_type": "markdown",
   "metadata": {},
   "source": [
    "8. `__check_win()`：判断玩家是否获胜"
   ]
  },
  {
   "cell_type": "markdown",
   "metadata": {},
   "source": [
    "9. 测试+改进"
   ]
  },
  {
   "cell_type": "markdown",
   "metadata": {},
   "source": [
    "10. 更新词库，从文件中读取词库信息。\n",
    "\n",
    "    Gitee搜索：English Words：\n",
    "    - 仓库：shxuy / english-words\n",
    "    - `https://gitee.com/shxuy/english-words?_from=gitee_search`\n",
    "\n",
    "过滤不需要的单词：\n",
    "\n",
    "1. 只要纯字母的单词\n",
    "2. 只要全小写的单词\n",
    "3. 不要太短的，否则会降低游戏趣味性"
   ]
  }
 ],
 "metadata": {
  "kernelspec": {
   "display_name": "Python 3",
   "language": "python",
   "name": "python3"
  },
  "language_info": {
   "codemirror_mode": {
    "name": "ipython",
    "version": 3
   },
   "file_extension": ".py",
   "mimetype": "text/x-python",
   "name": "python",
   "nbconvert_exporter": "python",
   "pygments_lexer": "ipython3",
   "version": "3.11.4"
  }
 },
 "nbformat": 4,
 "nbformat_minor": 2
}
