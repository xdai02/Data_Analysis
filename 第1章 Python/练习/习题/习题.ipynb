{
 "cells": [
  {
   "cell_type": "markdown",
   "metadata": {},
   "source": [
    "# 习题"
   ]
  },
  {
   "cell_type": "markdown",
   "metadata": {},
   "source": [
    "## 选择题"
   ]
  },
  {
   "cell_type": "markdown",
   "metadata": {},
   "source": [
    "1. 在Python中创建对象后，可以使用（B）运算符调用其成员。\n",
    "\n",
    "    A. ->\n",
    "\n",
    "    B. .\n",
    "\n",
    "    C. ()\n",
    "\n",
    "    D. self"
   ]
  },
  {
   "cell_type": "markdown",
   "metadata": {},
   "source": [
    "2. 关于Python序列类型的通用操作符和函数，以下选项中描述错误的是（A）。\n",
    "\n",
    "    A. 如果`s`是一个序列，`s = [1, \"kate\", True]`，`s[3]`返回`True`。\n",
    "\n",
    "    B. 如果`x`是`s`的元素，`X in S`返回`True`。\n",
    "\n",
    "    C. 如果`x`不是`s`的元素，`x not in s`返回`True`。\n",
    "\n",
    "    D. 如果`s`是一个序列，`s = [1, \"kate\", True]`，`s[-1]`返回`True`。"
   ]
  },
  {
   "cell_type": "markdown",
   "metadata": {},
   "source": [
    "3. 执行下列语句后的显示结果是（B）。\n",
    "\n",
    "    A. D MOR\n",
    "\n",
    "    B. D MORN\n",
    "\n",
    "    C. OD MOR\n",
    "\n",
    "    D. OD MORN"
   ]
  },
  {
   "cell_type": "code",
   "execution_count": null,
   "metadata": {},
   "outputs": [],
   "source": [
    "s = \"GOOD MORNING\"\n",
    "print(s[3:-4])"
   ]
  },
  {
   "cell_type": "markdown",
   "metadata": {},
   "source": [
    "4. 根据下面代码，输出正确的是（B）。\n",
    "\n",
    "    A. [1, 2, 3, 4], abcdef\n",
    "\n",
    "    B. [1, 2, 3, 4], abc\n",
    "\n",
    "    C. [1, 2, 3], abcdef\n",
    "\n",
    "    D. [1, 2, 3], abc"
   ]
  },
  {
   "cell_type": "code",
   "execution_count": null,
   "metadata": {},
   "outputs": [],
   "source": [
    "def changed(mylist, str_):\n",
    "    mylist.append(4)\n",
    "    str_ = str_ + 'def'\n",
    "\n",
    "list_ = [1,2,3]\n",
    "str_ = 'abc'\n",
    "changed(list_, str_)\n",
    "print(list_, str_)"
   ]
  },
  {
   "cell_type": "markdown",
   "metadata": {},
   "source": [
    "5. 下列不属于Python优势的是（C）。\n",
    "\n",
    "    A．语法简洁，程序开发速度快\n",
    "\n",
    "    B．拥有大量的第三方库，能够调用C、C+＋、Java语言\n",
    "\n",
    "    C．程序的运行速度在所有计算机语言中最快\n",
    "\n",
    "    D．开源免费"
   ]
  },
  {
   "cell_type": "markdown",
   "metadata": {},
   "source": [
    "6. 以下关于数据科学的工作流程，正确的是（A）。\n",
    "\n",
    "    A．问题描述，数据准备，数据探索，建模分析，结果展示\n",
    "\n",
    "    B．获取数据，数据探索，发现问题，建模分析，结果展示\n",
    "\n",
    "    C．数据准备，数据探索，建模分析，描述问题，结果展示\n",
    "    \n",
    "    D．数据探索，建模分析，问题描述，结果可视化"
   ]
  },
  {
   "cell_type": "markdown",
   "metadata": {},
   "source": [
    "7. 关于数据分析流程的说法中，错误的是（C）。\n",
    "\n",
    "    A．需求分析是数据分析最重要的一部分\n",
    "\n",
    "    B．数据预处理是能够建模的前提\n",
    "\n",
    "    c．分析与建模时只能使用数值型数据\n",
    "    \n",
    "    D．模型评价能够评价模型的优劣"
   ]
  },
  {
   "cell_type": "markdown",
   "metadata": {},
   "source": [
    "8. 下列不属于数据分析的应用场景的是（D）。\n",
    "\n",
    "    A．产品销量分析\n",
    "\n",
    "    B．码头货物吞吐量预测\n",
    "\n",
    "    C．计算机硬盘使用寿命预测\n",
    "    \n",
    "    D．某人一生的命运预测"
   ]
  },
  {
   "cell_type": "markdown",
   "metadata": {},
   "source": [
    "## 填空题"
   ]
  },
  {
   "cell_type": "markdown",
   "metadata": {},
   "source": [
    "1. Python语句`fruits = ['apple', 'banana', 'pear']; print('Apple' in fruits)`的输出结果是___False____。"
   ]
  },
  {
   "cell_type": "markdown",
   "metadata": {},
   "source": [
    "2. Python语句`fruits = ['apple', 'banana', 'pear']; print(fruits[-1][-1])`的输出结果是__  r___。"
   ]
  },
  {
   "cell_type": "markdown",
   "metadata": {},
   "source": [
    "## 编程题"
   ]
  },
  {
   "cell_type": "markdown",
   "metadata": {},
   "source": [
    "1. 分别使用循环和列表推导式，获取所有身高超过170的学生姓名"
   ]
  },
  {
   "cell_type": "code",
   "execution_count": null,
   "metadata": {},
   "outputs": [],
   "source": [
    "students = {\"张三\": 178.3, \"李四\": 167.5, \"王五\": 180.3, \"赵六\": 166.5, \"孙七\": 175.3}"
   ]
  },
  {
   "cell_type": "code",
   "execution_count": null,
   "metadata": {},
   "outputs": [],
   "source": [
    "for name, height in students.items():\n",
    "    if height > 170:\n",
    "        print(name)"
   ]
  },
  {
   "cell_type": "code",
   "execution_count": null,
   "metadata": {},
   "outputs": [],
   "source": [
    "[name for name, height in students.items() if height > 170]"
   ]
  }
 ],
 "metadata": {
  "kernelspec": {
   "display_name": "Python 3",
   "language": "python",
   "name": "python3"
  },
  "language_info": {
   "codemirror_mode": {
    "name": "ipython",
    "version": 3
   },
   "file_extension": ".py",
   "mimetype": "text/x-python",
   "name": "python",
   "nbconvert_exporter": "python",
   "pygments_lexer": "ipython3",
   "version": "3.11.4"
  }
 },
 "nbformat": 4,
 "nbformat_minor": 2
}
