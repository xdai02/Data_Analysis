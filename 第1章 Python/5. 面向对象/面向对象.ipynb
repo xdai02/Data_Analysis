{
 "cells": [
  {
   "cell_type": "markdown",
   "metadata": {},
   "source": [
    "# 面向对象"
   ]
  },
  {
   "cell_type": "markdown",
   "metadata": {},
   "source": [
    "## 类与对象"
   ]
  },
  {
   "cell_type": "markdown",
   "metadata": {},
   "source": [
    "类（class）是一个模板，定义了对象的**属性**和**方法**，用来描述同一类对象的共同特征和行为。\n",
    "\n",
    "对象（object）是类的**实例**，它具有类定义的属性和方法。"
   ]
  },
  {
   "cell_type": "code",
   "execution_count": null,
   "metadata": {},
   "outputs": [],
   "source": [
    "class ShoppingCart:\n",
    "    def __init__(self, name):\n",
    "        self.__name = name\n",
    "        self.__items = {}\n",
    "\n",
    "    def add_item(self, item_name, price):\n",
    "        if item_name not in self.__items:\n",
    "            self.__items[item_name] = price\n",
    "        else:\n",
    "            self.__items[item_name] += price\n",
    "        \n",
    "    def remove_item(self, item_name):\n",
    "        if item_name in self.__items:\n",
    "            self.__items.pop(item_name)\n",
    "    \n",
    "    def total_price(self):\n",
    "        return sum(self.__items.values())\n",
    "    \n",
    "    def display_shopping_cart(self):\n",
    "        print(f\"{self.__name}的购物车有：\")\n",
    "        for item in self.__items:\n",
    "            print(f\"{item} - {self.__items[item]}\")"
   ]
  },
  {
   "cell_type": "code",
   "execution_count": null,
   "metadata": {},
   "outputs": [],
   "source": [
    "cart = ShoppingCart(\"张三\")\n",
    "\n",
    "cart.add_item(\"苹果\", 10)\n",
    "cart.add_item(\"香蕉\", 20)\n",
    "cart.add_item(\"西瓜\", 30)\n",
    "cart.add_item(\"苹果\", 10)\n",
    "cart.remove_item(\"香蕉\")\n",
    "\n",
    "cart.display_shopping_cart()\n",
    "print(f\"总价：{cart.total_price()}\")"
   ]
  },
  {
   "cell_type": "markdown",
   "metadata": {},
   "source": [
    "【例】发牌"
   ]
  },
  {
   "cell_type": "code",
   "execution_count": null,
   "metadata": {},
   "outputs": [],
   "source": [
    "import random\n",
    "\n",
    "class Card:\n",
    "    def __init__(self):\n",
    "        suits = ['♥', '♦', '♣', '♠']\n",
    "        ranks = ['A', '2', '3', '4', '5', '6', '7', '8', '9', '10', 'J', 'Q', 'K']\n",
    "        self.__cards = [f\"{suit}{rank}\" for suit in suits for rank in ranks]\n",
    "\n",
    "    def shuffle(self):\n",
    "        # 洗牌\n",
    "        random.shuffle(self.__cards)\n",
    "\n",
    "    def distribute(self):\n",
    "        # 发牌\n",
    "        players = [[] for _ in range(3)]\n",
    "        for i in range(len(self.__cards)):\n",
    "            players[i % 3].append(self.__cards[i])\n",
    "        return players"
   ]
  },
  {
   "cell_type": "code",
   "execution_count": null,
   "metadata": {},
   "outputs": [],
   "source": [
    "card = Card()\n",
    "card.shuffle()\n",
    "print(card.distribute())"
   ]
  }
 ],
 "metadata": {
  "kernelspec": {
   "display_name": "Python 3",
   "language": "python",
   "name": "python3"
  },
  "language_info": {
   "codemirror_mode": {
    "name": "ipython",
    "version": 3
   },
   "file_extension": ".py",
   "mimetype": "text/x-python",
   "name": "python",
   "nbconvert_exporter": "python",
   "pygments_lexer": "ipython3",
   "version": "3.11.4"
  }
 },
 "nbformat": 4,
 "nbformat_minor": 2
}
