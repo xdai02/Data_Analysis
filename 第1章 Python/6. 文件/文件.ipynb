{
 "cells": [
  {
   "cell_type": "markdown",
   "metadata": {},
   "source": [
    "# 文件"
   ]
  },
  {
   "cell_type": "markdown",
   "metadata": {},
   "source": [
    "## 文件I/O"
   ]
  },
  {
   "cell_type": "markdown",
   "metadata": {},
   "source": [
    "### 打开方式"
   ]
  },
  {
   "cell_type": "markdown",
   "metadata": {},
   "source": [
    "- `r`：只读，文件必须存在，否则打开失败\n",
    "- `w`：只写，创建一个新文件\n",
    "- `a`：追加，如果文件不存在则创建；存在则将数据追加到末尾\n",
    "- `r+`：以`r`模式打开文件，附带写的功能\n",
    "- `w+`：以`w`模式打开文件，附带读的功能\n",
    "- `a+`：以`a`模式打开文件，附带读的功能"
   ]
  },
  {
   "cell_type": "code",
   "execution_count": null,
   "metadata": {},
   "outputs": [],
   "source": [
    "file = open(\"data/text1.txt\", \"r\")"
   ]
  },
  {
   "cell_type": "markdown",
   "metadata": {},
   "source": [
    "文件完成后使用`close()`关闭。"
   ]
  },
  {
   "cell_type": "code",
   "execution_count": null,
   "metadata": {},
   "outputs": [],
   "source": [
    "file.close()"
   ]
  },
  {
   "cell_type": "markdown",
   "metadata": {},
   "source": [
    "### 文件I/O"
   ]
  },
  {
   "cell_type": "markdown",
   "metadata": {},
   "source": [
    "- `read()`：读取全部\n",
    "- `readline()`：读取每行数据\n",
    "- `readlines()`：读取所有数据行，以列表形式返回"
   ]
  },
  {
   "cell_type": "code",
   "execution_count": null,
   "metadata": {},
   "outputs": [],
   "source": [
    "file = open(\"data/text1.txt\", \"r\")\n",
    "lines = file.read()\n",
    "print(lines)\n",
    "file.close()"
   ]
  },
  {
   "cell_type": "code",
   "execution_count": null,
   "metadata": {},
   "outputs": [],
   "source": [
    "file = open(\"data/text1.txt\", \"r\")\n",
    "lines = file.readlines()\n",
    "print(lines)\n",
    "file.close()"
   ]
  },
  {
   "cell_type": "code",
   "execution_count": null,
   "metadata": {},
   "outputs": [],
   "source": [
    "file = open(\"data/text1.txt\", \"r\")\n",
    "line = file.readline()\n",
    "print(line)\n",
    "file.close()"
   ]
  },
  {
   "cell_type": "code",
   "execution_count": null,
   "metadata": {},
   "outputs": [],
   "source": [
    "file = open(\"data/text1.txt\", \"r\")\n",
    "for line in file:\n",
    "    print(line)\n",
    "file.close()"
   ]
  },
  {
   "cell_type": "markdown",
   "metadata": {},
   "source": [
    "- `write()`：写入数据\n",
    "- `writelines()`：写入多行数据       传入列表"
   ]
  },
  {
   "cell_type": "code",
   "execution_count": null,
   "metadata": {},
   "outputs": [],
   "source": [
    "file = open(\"data/text2.txt\", \"w\")\n",
    "file.write(\"Hello World1!\\n\")\n",
    "file.close()"
   ]
  },
  {
   "cell_type": "code",
   "execution_count": null,
   "metadata": {},
   "outputs": [],
   "source": [
    "file = open(\"data/text2.txt\", \"a\")\n",
    "file.writelines([\"Hello World2!\\n\", \"Hello World3!\\n\"])\n",
    "file.close()"
   ]
  },
  {
   "cell_type": "markdown",
   "metadata": {},
   "source": [
    "使用`with`语句，`可以自动关闭文件`。"
   ]
  },
  {
   "cell_type": "code",
   "execution_count": null,
   "metadata": {},
   "outputs": [],
   "source": [
    "with open(\"data/text1.txt\", \"r\") as file:\n",
    "    print(file.readlines())"
   ]
  },
  {
   "cell_type": "markdown",
   "metadata": {},
   "source": [
    "## csv"
   ]
  },
  {
   "cell_type": "markdown",
   "metadata": {},
   "source": [
    "CSV（Comma-Separated Values）是一种以纯文本方式进行数据记录的存储格式，每行数据使用逗号分隔。\n",
    "利用CSV数据格式可以方便实现大数据系统中对于数据采集结果的信息记录和传输，同时CSV文件也可以使用Excel查看。"
   ]
  },
  {
   "cell_type": "code",
   "execution_count": null,
   "metadata": {},
   "outputs": [],
   "source": [
    "import csv"
   ]
  },
  {
   "cell_type": "markdown",
   "metadata": {},
   "source": [
    "【例】为用户生成邮箱"
   ]
  },
  {
   "cell_type": "code",
   "execution_count": null,
   "metadata": {},
   "outputs": [],
   "source": [
    "with open(\"data/user_info.csv\", \"r\") as file:\n",
    "    reader = csv.reader(file)           # 创建csv的reader对象\n",
    "    next(reader)                        # 读取一行，跳过表头\n",
    "    user_info = list(reader)            # 将剩下行转换为列表\n",
    "\n",
    "user_info"
   ]
  },
  {
   "cell_type": "code",
   "execution_count": null,
   "metadata": {},
   "outputs": [],
   "source": [
    "with open(\"data/user_email.csv\", \"w\", newline=\"\\n\") as file:\n",
    "    writer = csv.writer(file)           # 创建csv的writer对象\n",
    "    writer.writerow([\"ID\", \"Email\"])    # 写入表头\n",
    "    for user in user_info:              # 写入数据\n",
    "        id, first_name, last_name = user\n",
    "        email = (last_name[0] + first_name + id + \"@gmail.com\").lower()\n",
    "        writer.writerow([id, email])"
   ]
  },
  {
   "cell_type": "markdown",
   "metadata": {},
   "source": [
    "【例】根据学生总分降序排序"
   ]
  },
  {
   "cell_type": "code",
   "execution_count": null,
   "metadata": {},
   "outputs": [],
   "source": [
    "with open(\"data/scores.csv\", \"r\",encoding='utf-8') as file:\n",
    "    reader = csv.reader(file)\n",
    "    next(reader)\n",
    "    students = list(reader)\n",
    "    \n",
    "students"
   ]
  },
  {
   "cell_type": "code",
   "execution_count": null,
   "metadata": {},
   "outputs": [],
   "source": [
    "for i in range(len(students)):\n",
    "    student = students[i]\n",
    "    name = student[0]\n",
    "    total = sum(map(int, student[1:]))\n",
    "    student.append(total)\n",
    "\n",
    "students"
   ]
  },
  {
   "cell_type": "code",
   "execution_count": null,
   "metadata": {},
   "outputs": [],
   "source": [
    "students.sort(key = lambda s: s[4], reverse=True)\n",
    "students"
   ]
  },
  {
   "cell_type": "code",
   "execution_count": null,
   "metadata": {},
   "outputs": [],
   "source": [
    "with open(\"data/total_score.csv\", \"w\", encoding='utf-8', newline=\"\\n\") as file:\n",
    "    writer = csv.writer(file)\n",
    "    writer.writerow([\"姓名\",\"总分\"])\n",
    "    for student in students:\n",
    "        name, total = student[0], student[4]\n",
    "        writer.writerow([name,total])"
   ]
  }
 ],
 "metadata": {
  "kernelspec": {
   "display_name": "Python 3",
   "language": "python",
   "name": "python3"
  },
  "language_info": {
   "codemirror_mode": {
    "name": "ipython",
    "version": 3
   },
   "file_extension": ".py",
   "mimetype": "text/x-python",
   "name": "python",
   "nbconvert_exporter": "python",
   "pygments_lexer": "ipython3",
   "version": "3.11.4"
  }
 },
 "nbformat": 4,
 "nbformat_minor": 2
}
