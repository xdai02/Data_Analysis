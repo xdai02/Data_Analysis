{
 "cells": [
  {
   "cell_type": "markdown",
   "metadata": {},
   "source": [
    "# Help"
   ]
  },
  {
   "cell_type": "markdown",
   "metadata": {},
   "source": [
    "`help()`用于查看变量、函数、模块的文档。"
   ]
  },
  {
   "cell_type": "markdown",
   "metadata": {},
   "source": [
    "## 查看变量"
   ]
  },
  {
   "cell_type": "code",
   "execution_count": null,
   "metadata": {},
   "outputs": [],
   "source": [
    "help(int)"
   ]
  },
  {
   "cell_type": "code",
   "execution_count": null,
   "metadata": {},
   "outputs": [],
   "source": [
    "a = 1\n",
    "help(a)"
   ]
  },
  {
   "cell_type": "markdown",
   "metadata": {},
   "source": [
    "## 查看类信息"
   ]
  },
  {
   "cell_type": "code",
   "execution_count": null,
   "metadata": {},
   "outputs": [],
   "source": [
    "lst = [1, 2, 3]\n",
    "help(lst)"
   ]
  },
  {
   "cell_type": "code",
   "execution_count": null,
   "metadata": {},
   "outputs": [],
   "source": [
    "help(lst.append)"
   ]
  },
  {
   "cell_type": "code",
   "execution_count": null,
   "metadata": {},
   "outputs": [],
   "source": [
    "dic = {'a': 1, 'b': 2, 'c': 3}\n",
    "help(dic)"
   ]
  },
  {
   "cell_type": "code",
   "execution_count": null,
   "metadata": {},
   "outputs": [],
   "source": [
    "help(dic.items)"
   ]
  },
  {
   "cell_type": "markdown",
   "metadata": {},
   "source": [
    "## 查看模块"
   ]
  },
  {
   "cell_type": "markdown",
   "metadata": {},
   "source": [
    "### 内置模块"
   ]
  },
  {
   "cell_type": "code",
   "execution_count": null,
   "metadata": {},
   "outputs": [],
   "source": [
    "import math"
   ]
  },
  {
   "cell_type": "code",
   "execution_count": null,
   "metadata": {},
   "outputs": [],
   "source": [
    "help(math)"
   ]
  },
  {
   "cell_type": "code",
   "execution_count": null,
   "metadata": {},
   "outputs": [],
   "source": [
    "help(math.pow)"
   ]
  },
  {
   "cell_type": "markdown",
   "metadata": {},
   "source": [
    "### NumPy"
   ]
  },
  {
   "cell_type": "code",
   "execution_count": null,
   "metadata": {},
   "outputs": [],
   "source": [
    "import numpy as np"
   ]
  },
  {
   "cell_type": "code",
   "execution_count": null,
   "metadata": {},
   "outputs": [],
   "source": [
    "help(np)"
   ]
  },
  {
   "cell_type": "code",
   "execution_count": null,
   "metadata": {},
   "outputs": [],
   "source": [
    "help(np.arange)"
   ]
  },
  {
   "cell_type": "code",
   "execution_count": null,
   "metadata": {},
   "outputs": [],
   "source": [
    "help(np.random.normal)"
   ]
  },
  {
   "cell_type": "code",
   "execution_count": null,
   "metadata": {},
   "outputs": [],
   "source": [
    "help(np.ndarray)"
   ]
  },
  {
   "cell_type": "markdown",
   "metadata": {},
   "source": [
    "## 自定义函数/类"
   ]
  },
  {
   "cell_type": "code",
   "execution_count": null,
   "metadata": {},
   "outputs": [],
   "source": [
    "def add(a: int, b: int) -> int:\n",
    "    return a + b"
   ]
  },
  {
   "cell_type": "code",
   "execution_count": null,
   "metadata": {},
   "outputs": [],
   "source": [
    "help(add)"
   ]
  },
  {
   "cell_type": "markdown",
   "metadata": {},
   "source": [
    "自己写的函数是不会有帮助信息的，除非..."
   ]
  },
  {
   "cell_type": "code",
   "execution_count": null,
   "metadata": {},
   "outputs": [],
   "source": [
    "def add(a: int, b: int) -> int:\n",
    "    \"\"\"\n",
    "        Calculate the sum of two integers.\n",
    "\n",
    "        Parameters:\n",
    "            a (int): The first integer.\n",
    "            b (int): The second integer.\n",
    "        \n",
    "        Returns:\n",
    "            int: The sum of the two integers.\n",
    "\n",
    "        Usage:\n",
    "            >>> add(1, 2)\n",
    "            3\n",
    "    \"\"\"\n",
    "    return a + b"
   ]
  },
  {
   "cell_type": "code",
   "execution_count": null,
   "metadata": {},
   "outputs": [],
   "source": [
    "help(add)"
   ]
  },
  {
   "cell_type": "code",
   "execution_count": null,
   "metadata": {},
   "outputs": [],
   "source": [
    "import math\n",
    "\n",
    "class Circle:\n",
    "    \"\"\"\n",
    "        This class provides methods to calculate the area and perimeter of a circle.\n",
    "    \"\"\"\n",
    "    def __init__(self, radius: float) -> None:\n",
    "        \"\"\"\n",
    "            Initialize the radius of the circle.\n",
    "\n",
    "            Parameters:\n",
    "                radius (float): The radius of the circle.\n",
    "\n",
    "            Usage:\n",
    "                >>> c = Circle(1)\n",
    "        \"\"\"\n",
    "        self.radius = radius\n",
    "    \n",
    "    def get_radius(self) -> float:\n",
    "        \"\"\"\n",
    "            Return the radius of the circle.\n",
    "\n",
    "            Returns:\n",
    "                float: The radius of the circle.\n",
    "\n",
    "            Usage:\n",
    "                >>> c = Circle(1)\n",
    "                >>> c.get_radius()\n",
    "                1\n",
    "        \"\"\"\n",
    "        return self.radius\n",
    "    \n",
    "    def set_radius(self, radius: float) -> None:\n",
    "        \"\"\"\n",
    "            Set the radius of the circle.\n",
    "\n",
    "            Parameters:\n",
    "                radius (float): The radius of the circle.\n",
    "\n",
    "            Usage:\n",
    "                >>> c = Circle(1)\n",
    "                >>> c.set_radius(2)\n",
    "                >>> c.get_radius()\n",
    "                2\n",
    "        \"\"\"\n",
    "        self.radius = radius\n",
    "\n",
    "    def area(self) -> float:\n",
    "        \"\"\"\n",
    "            Calculate the area of the circle.\n",
    "\n",
    "            Returns:\n",
    "                float: The area of the circle.\n",
    "\n",
    "            Usage:\n",
    "                >>> c = Circle(1)\n",
    "                >>> c.area()\n",
    "                3.141592653589793\n",
    "        \"\"\"\n",
    "        return math.pi * self.radius ** 2\n",
    "    \n",
    "    def perimeter(self) -> float:\n",
    "        \"\"\"\n",
    "            Calculate the perimeter of the circle.\n",
    "\n",
    "            Returns:\n",
    "                float: The perimeter of the circle.\n",
    "\n",
    "            Usage:\n",
    "                >>> c = Circle(1)\n",
    "                >>> c.perimeter()\n",
    "                6.283185307179586\n",
    "        \"\"\"\n",
    "        return 2 * math.pi * self.radius"
   ]
  },
  {
   "cell_type": "code",
   "execution_count": null,
   "metadata": {},
   "outputs": [],
   "source": [
    "help(Circle)"
   ]
  }
 ],
 "metadata": {
  "kernelspec": {
   "display_name": "Python 3",
   "language": "python",
   "name": "python3"
  },
  "language_info": {
   "codemirror_mode": {
    "name": "ipython",
    "version": 3
   },
   "file_extension": ".py",
   "mimetype": "text/x-python",
   "name": "python",
   "nbconvert_exporter": "python",
   "pygments_lexer": "ipython3",
   "version": "3.11.4"
  }
 },
 "nbformat": 4,
 "nbformat_minor": 2
}
